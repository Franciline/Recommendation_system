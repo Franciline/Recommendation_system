{
 "cells": [
  {
   "cell_type": "markdown",
   "metadata": {},
   "source": [
    "# Analyse des commentaires\n",
    "Dans ce notebook, nous allons regarder en détail les commentaires laissés par les utilisateurs.\n",
    "Le travail sera divisé en deux parties : Construction du corpus et Début ? d'analyse des fréquences"
   ]
  },
  {
   "cell_type": "code",
   "execution_count": 19,
   "metadata": {},
   "outputs": [
    {
     "name": "stdout",
     "output_type": "stream",
     "text": [
      "The autoreload extension is already loaded. To reload it, use:\n",
      "  %reload_ext autoreload\n"
     ]
    }
   ],
   "source": [
    "import sys\n",
    "sys.path.append(\"..\")\n",
    "\n",
    "import numpy as np\n",
    "import pandas as pd\n",
    "import matplotlib.pyplot as plt\n",
    "import seaborn as sns\n",
    "from surprise import NMF, Dataset\n",
    "from surprise.reader import Reader\n",
    "from sklearn.cluster import KMeans\n",
    "from scipy.spatial.distance import cdist\n",
    "from nltk.collocations import BigramCollocationFinder, BigramAssocMeasures, TrigramCollocationFinder, TrigramAssocMeasures\n",
    "from itertools import product\n",
    "from scipy import sparse\n",
    "\n",
    "\n",
    "from reco_systems.filter import filter_df\n",
    "import reco_systems.text_filtering as ft\n",
    "from reco_systems.user_game_matrix import *\n",
    "from reco_systems.CF_knn import *\n",
    "from reco_systems.evaluation import *\n",
    "\n",
    "\n",
    "%load_ext autoreload\n",
    "%autoreload 2\n",
    "%matplotlib inline"
   ]
  },
  {
   "cell_type": "markdown",
   "metadata": {},
   "source": [
    "#### Functions"
   ]
  },
  {
   "cell_type": "code",
   "execution_count": 2,
   "metadata": {},
   "outputs": [],
   "source": [
    "def words_freq(data, corpus) -> pd.DataFrame:\n",
    "    \"\"\"\n",
    "    Construction d'un dataframe avec la fréquence des mots dans un corpus\n",
    "    \"\"\"\n",
    "\n",
    "    lem, occurences = np.unique(data['Lemma'], return_counts=True)\n",
    "\n",
    "    df = pd.DataFrame({'Lemma': lem, 'Freq': occurences})\n",
    "    nb_comments = data[\"Comment line\"].nunique()\n",
    "    df['Freq'] = df['Freq'].apply(lambda val: val/nb_comments)\n",
    "\n",
    "    # Garder uniquement les lemmas qui appraissent dans le corpus\n",
    "    #return df[df['Lemma'].isin(corpus)]\n",
    "    return df\n",
    "\n",
    "def construction_corpus(lemmas:pd.DataFrame, taille: int) -> dict:\n",
    "    \"\"\" \n",
    "    Construction d'un corpus à partir d'une BDD de commentaires\n",
    "    avis.colums = 'Comment title', 'Comment body'\n",
    "\n",
    "    Retourne df avec mots du corpus et leurs fréquences, les 'taille' plus fréquentes\n",
    "    \"\"\"\n",
    "\n",
    "    # Corpus creation from lemmatized dataframe\n",
    "    lemmas = lemmas[~lemmas[\"Lemma\"].isna()]\n",
    "    lemmas = lemmas[lemmas['Part of speech'].isin(['ADJ', 'NOM', \"VER\", \"NEG\"])]\n",
    "    lemmas = lemmas[~lemmas[\"Lemma\"].isin([\"bref\", \"bof\", \"excelent\", \"bon\", \"autre\", \"seul\", \"tendre\", \"fin\"\n",
    "                                           \"super\", \"superbe\", \"juste\", \"jouable\", \"ca\", \"faire\", \"pouvoir\", \"ausi\"])]\n",
    "    lemmas = lemmas['Lemma'].to_numpy()\n",
    "\n",
    "    # Occurencies calculation for each lemma\n",
    "    lem, occ = np.unique(lemmas, return_counts=True)\n",
    "    freq_lem = pd.DataFrame({'lemma': lem, 'freq': occ})\n",
    "\n",
    "    freq_lem = freq_lem.sort_values(by=['freq'], ascending=False)\n",
    "    return freq_lem.head(taille)['lemma'].to_numpy()"
   ]
  },
  {
   "cell_type": "markdown",
   "metadata": {},
   "source": [
    "#### Data"
   ]
  },
  {
   "cell_type": "code",
   "execution_count": 3,
   "metadata": {},
   "outputs": [
    {
     "name": "stdout",
     "output_type": "stream",
     "text": [
      "11201 10549\n",
      "2252 2676\n",
      "1957 2618\n",
      "1947 2616\n",
      "1946 2615\n",
      "1945 2614\n"
     ]
    }
   ],
   "source": [
    "folder = \"../database_cleaned\"\n",
    "avis_clean  = pd.read_csv(f\"{folder}/avis_clean.csv\", index_col=0)\n",
    "jeux_clean  = pd.read_csv(f\"{folder}/jeux_clean.csv\", index_col=0)\n",
    "users       = pd.read_csv(f\"{folder}/users.csv\", index_col=0)\n",
    "\n",
    "min_reviews = 10 \n",
    "rev_filter = filter_df(avis_clean, min_reviews)\n",
    "games_means = rev_filter[[\"Game id\", \"Rating\"]].groupby(\"Game id\").mean().reset_index()\n",
    "\n",
    "rev_filter = rev_filter.assign(index=np.arange(0, rev_filter.shape[0]))\n",
    "rev_filter_center, _= center_score(rev_filter)"
   ]
  },
  {
   "cell_type": "markdown",
   "metadata": {},
   "source": [
    "### Corpus 5000 mots"
   ]
  },
  {
   "cell_type": "code",
   "execution_count": 4,
   "metadata": {},
   "outputs": [],
   "source": [
    "lemmas = pd.read_csv(\"../generated_data/Lemmas_VER_cleaned.csv\", index_col=0)\n",
    "corpus = construction_corpus(lemmas, 5000) \n",
    "lemmas = lemmas[lemmas[\"Lemma\"].isin(corpus)] # only words in corpus\n",
    "\n",
    "# Joined lemmas\n",
    "comments = lemmas.groupby(\"Comment line\")[\"Lemma\"].apply(\" \".join).reset_index().rename(columns={\"Lemma\" : \"Comment\"})"
   ]
  },
  {
   "cell_type": "markdown",
   "metadata": {},
   "source": [
    "### NMF 20 latent factors"
   ]
  },
  {
   "cell_type": "code",
   "execution_count": 5,
   "metadata": {},
   "outputs": [],
   "source": [
    "model = NMF(n_factors=20, random_state=42, biased=False, reg_pu= 0.1, reg_qi= 0.1)\n",
    "data = Dataset.load_from_df(rev_filter[[\"User id\", \"Game id\", \"Rating\"]], reader=Reader(rating_scale=(0, 10)))\n",
    "trainset = data.build_full_trainset()\n",
    "nmf = model.fit(trainset)\n",
    "\n",
    "# Extract matrices\n",
    "U = nmf.pu  # User-feature matrix (W)\n",
    "G = nmf.qi  # Item-feature matrix (H)\n",
    "\n",
    "games_ids = np.array([trainset.to_raw_iid(i) for i in range(len(G))])\n",
    "users_ids = np.array([trainset.to_raw_uid(u) for u in range(len(U))])\n",
    "G = G[np.argsort(games_ids), :]"
   ]
  },
  {
   "cell_type": "markdown",
   "metadata": {},
   "source": [
    "### 30 KMeans games clusters "
   ]
  },
  {
   "cell_type": "code",
   "execution_count": 6,
   "metadata": {},
   "outputs": [],
   "source": [
    "sns.set_theme(rc={\"figure.figsize\":(6, 5)})\n",
    "NB_CLUSTERS = 30\n",
    "kmeans = KMeans(n_clusters=NB_CLUSTERS, random_state=42) \n",
    "kmeans.fit(G) \n",
    "\n",
    "games_clusters = pd.DataFrame(data={\"Game id\" : np.sort(games_ids), \"Cluster\" : kmeans.labels_})"
   ]
  },
  {
   "cell_type": "code",
   "execution_count": 7,
   "metadata": {},
   "outputs": [
    {
     "name": "stdout",
     "output_type": "stream",
     "text": [
      "Nombre d'avis negatif 0.43073353153843763\n",
      "Nombre d'avis positif 0.5692664684615624\n"
     ]
    }
   ],
   "source": [
    "# Séparation de la bdd \n",
    "positifs = rev_filter_center[rev_filter_center['Rating'] >= 0]\n",
    "negatifs = rev_filter_center[rev_filter_center['Rating'] < 0]\n",
    "\n",
    "print(\"Nombre d'avis negatif\", len(negatifs)/len(rev_filter_center))\n",
    "print(\"Nombre d'avis positif\", len(positifs)/len(rev_filter_center))"
   ]
  },
  {
   "cell_type": "code",
   "execution_count": 8,
   "metadata": {},
   "outputs": [],
   "source": [
    "lemmas_pos = positifs[[\"Game id\", \"User id\", \"index\"]].merge(lemmas, right_on=\"Comment line\", left_on=\"index\")\n",
    "lemmas_neg = negatifs[[\"Game id\", \"User id\", \"index\"]].merge(lemmas, right_on=\"Comment line\", left_on=\"index\")\n",
    "lemmas_pos = lemmas_pos.drop([\"index\"], axis=1)\n",
    "lemmas_neg = lemmas_neg.drop([\"index\"], axis=1)\n",
    "\n",
    "lemmas_all = rev_filter[[\"User id\", \"Game id\", \"index\"]].merge(lemmas, right_on=\"Comment line\", left_on=\"index\")\n",
    "lemmas_all = lemmas_all.drop([\"index\"], axis=1)"
   ]
  },
  {
   "cell_type": "code",
   "execution_count": 9,
   "metadata": {},
   "outputs": [],
   "source": [
    "comments_neg = lemmas_neg.groupby(by=[\"Comment line\", \"Game id\", \"User id\"])[\"Lemma\"].apply(\" \".join).reset_index()\n",
    "comments_neg = comments_neg.assign(pos_neg = \"negative\")\n",
    "\n",
    "comments_pos = lemmas_pos.groupby(by=[\"Comment line\", \"Game id\", \"User id\"])[\"Lemma\"].apply(\" \".join).reset_index()\n",
    "comments_pos = comments_pos.assign(pos_neg = \"positive\")\n",
    "\n",
    "comments_all = pd.concat([comments_neg, comments_pos])\n",
    "comments_all_count = comments_all[[\"Game id\", \"pos_neg\", \"User id\"]].groupby([\"Game id\", \"pos_neg\"]).count().rename(columns={\"User id\":\"count\"}).reset_index()"
   ]
  },
  {
   "cell_type": "code",
   "execution_count": 10,
   "metadata": {},
   "outputs": [],
   "source": [
    "rev_neg_count = comments_neg[\"Game id\"].value_counts().reset_index()\n",
    "rev_pos_count = comments_pos[\"Game id\"].value_counts().reset_index()\n",
    "\n",
    "# Filter games so that each game has at least 10 pos and 10 neg reviews\n",
    "games_preserved = rev_neg_count[rev_neg_count[\"Game id\"].isin(rev_pos_count.loc[rev_pos_count[\"count\"] >= 10, \"Game id\"])\n",
    "                                & rev_neg_count[\"Game id\"].isin(rev_neg_count.loc[rev_neg_count[\"count\"] >= 10, \"Game id\"])][\"Game id\"].values\n",
    "                                \n",
    "mask = np.isin(np.sort(games_ids), games_preserved)\n",
    "\n",
    "# Games clusters contains only games that were filtered\n",
    "games_clusters = pd.DataFrame(data={\"Game id\":np.sort(games_ids)[mask], \"Cluster\":kmeans.labels_[mask]})"
   ]
  },
  {
   "cell_type": "code",
   "execution_count": 11,
   "metadata": {},
   "outputs": [],
   "source": [
    "# Barplot the distribution of pos/neg comments\n",
    "def plot_pos_neg_games(selected_games, comments_all_count, title, all=False):\n",
    "    sns.set_theme(rc={\"figure.figsize\":(15, 6)})\n",
    "    filtered = comments_all_count[comments_all_count[\"Game id\"].isin(selected_games[\"Game id\"])]\n",
    "    if not all:\n",
    "        filtered = filtered.head(50)\n",
    "    ax = sns.barplot(data=filtered, x=\"Game id\", y=\"count\", hue=\"pos_neg\", errorbar=None)\n",
    "    ax.set_title(title)\n",
    "    if all:\n",
    "        ax.set(xticklabels=[])\n",
    "\n",
    "def create_df(ngram_finder, ngram_stat):\n",
    "        bigram_freq = ngram_finder.score_ngrams(ngram_stat)\n",
    "\n",
    "        bigrams_df = pd.DataFrame(data=[list(info) for info in bigram_freq])\n",
    "        bigrams_df[0] = bigrams_df[0].apply(list).apply(\" \".join)\n",
    "        bigrams_df = bigrams_df.rename(columns={0:\"Lemma\", 1:\"Freq\"})\n",
    "        return bigrams_df\n",
    "\n",
    "def get_Ngrams(game, ngram_finder, ngram_stat):\n",
    "    comments_pos = lemmas_pos[lemmas_pos[\"Game id\"] == game].groupby(\"Comment line\")[\"Lemma\"].apply(list)\n",
    "    comments_neg = lemmas_neg[lemmas_neg[\"Game id\"] == game].groupby(\"Comment line\")[\"Lemma\"].apply(list)\n",
    "    \n",
    "    #if comments_pos.size > 0:\n",
    "    bigram_finder_pos = ngram_finder.from_documents(comments_pos)\n",
    "    freq_pos = create_df(bigram_finder_pos, ngram_stat)\n",
    "    #if comments_neg.size > 0:\n",
    "    bigram_finder_neg = ngram_finder.from_documents(comments_neg)\n",
    "    freq_neg = create_df(bigram_finder_neg, ngram_stat)\n",
    "    \n",
    "    diff_freq = ft.diff_freq(freq_pos, freq_neg)\n",
    "\n",
    "    return freq_pos, freq_neg, diff_freq\n",
    "\n",
    "def plot_games_Ngrams_freq_diff(selected_games:np.array, nrows:int, ncols:int, figsize:tuple, ngram_finder, ngram_stat, games_means):\n",
    "    fig, axes = plt.subplots(nrows, ncols, figsize=figsize)\n",
    "    for game, (i, j) in zip(selected_games, list(product(range(0, nrows - 1, 2), range(ncols)))):\n",
    "        mean = games_means[games_means[\"Game id\"] == game][\"Rating\"].item()\n",
    "\n",
    "        _, _, diff_check_games = get_Ngrams(game, ngram_finder,ngram_stat)\n",
    "\n",
    "        sns.barplot(data=diff_check_games.head(20), y=\"Lemma\", x=\"Freq differency\", ax=axes[i, j])\n",
    "        sns.barplot(data=diff_check_games.tail(20), y=\"Lemma\", x=\"Freq differency\", ax=axes[i + 1, j])\n",
    "\n",
    "        axes[i, j].set_title(f\"Game {game} head freq_diff {mean:.2f}\")\n",
    "        axes[i + 1, j].set_title(f\"Game {game} tail freq_diff {mean:.2f}\")\n",
    "\n",
    "    plt.tight_layout()\n",
    "\n",
    "def plot_games_Ngrams_all(selected_games:np.array, nrows:int, ncols:int, figsize:tuple, ngram_finder, ngram_stat, games_means):\n",
    "    fig, axes = plt.subplots(nrows, ncols, figsize=figsize)\n",
    "    for game, (i, j) in zip(selected_games, list(product(range(0, nrows, 2), range(ncols)))):\n",
    "        \n",
    "        mean = games_means[games_means[\"Game id\"] == game][\"Rating\"].item()\n",
    "        pos, neg, _ = get_Ngrams(game, ngram_finder,ngram_stat)\n",
    "\n",
    "        sns.barplot(data=pos.head(20), y=\"Lemma\", x=\"Freq\", ax=axes[i, j])\n",
    "        sns.barplot(data=neg.head(20), y=\"Lemma\", x=\"Freq\", ax=axes[i + 1, j])\n",
    "\n",
    "        axes[i, j].set_title(f\"Game {game} head pos {mean:.2f}\")\n",
    "        axes[i + 1, j].set_title(f\"Game {game} head neg {mean:.2f}\")\n",
    "\n",
    "    plt.tight_layout()"
   ]
  },
  {
   "cell_type": "markdown",
   "metadata": {},
   "source": [
    "### Bigrams"
   ]
  },
  {
   "cell_type": "markdown",
   "metadata": {},
   "source": [
    "### User recommendation KNN"
   ]
  },
  {
   "cell_type": "code",
   "execution_count": 12,
   "metadata": {},
   "outputs": [],
   "source": [
    "# Init\n",
    "matrix_ratings, mask_ratings, users_table, games_table = get_matrix_user_game(rev_filter)\n",
    "cos_sim_matrix = calc_similarity_matrix(matrix_ratings, mask_ratings, \"cos\")\n",
    "top_users = rev_filter[[\"User id\", \"Rating\"]].groupby(\"User id\").count().reset_index().sort_values(by=\"Rating\", ascending=False)[\"User id\"].values\n",
    "\n",
    "games_to_consider = games_clusters[\"Game id\"].values\n",
    "\n",
    "users_mean = rev_filter[[\"User id\", \"Rating\"]].groupby(\"User id\").mean().reset_index()"
   ]
  },
  {
   "cell_type": "markdown",
   "metadata": {},
   "source": [
    "### bigram intersection evaluation\n",
    "##### Evaluation on 100 - 200 users, randomly chosen, then per categories. Evaluation w/ and w/out threshold"
   ]
  },
  {
   "cell_type": "code",
   "execution_count": 13,
   "metadata": {},
   "outputs": [],
   "source": [
    "# knn_comments new version\n",
    "def plot_barplots(sim_users_neg, sim_users_pos, user_neg, user_pos, user_id): # user_id\n",
    "        fig, (ax1, ax2) = plt.subplots(1, 2, figsize=(15, 7))\n",
    "        # Negatives comments\n",
    "        bigrams_neg = create_df(BigramCollocationFinder.from_documents(sim_users_neg[\"Lemma\"].str.split().tolist()),\n",
    "                                BigramAssocMeasures.raw_freq)\n",
    "\n",
    "        bigrams_neg_user = create_df(BigramCollocationFinder.from_documents(user_neg[\"Lemma\"].str.split().tolist()),\n",
    "                                BigramAssocMeasures.raw_freq)\n",
    "        \n",
    "        bigrams_neg = bigrams_neg[bigrams_neg[\"Lemma\"].isin(bigrams_neg_user[\"Lemma\"])]\n",
    "\n",
    "        # Find intersection\n",
    "        bigrams_neg = bigrams_neg[bigrams_neg[\"Lemma\"].isin(bigrams_neg_user[\"Lemma\"])]\n",
    "        bigrams_neg_user = bigrams_neg_user[bigrams_neg_user[\"Lemma\"].isin(bigrams_neg[\"Lemma\"])]\n",
    "\n",
    "        # Positive comments\n",
    "        bigrams_pos = create_df(BigramCollocationFinder.from_documents(sim_users_pos[\"Lemma\"].str.split().tolist()),\n",
    "                                BigramAssocMeasures.raw_freq)\n",
    "\n",
    "        bigrams_pos_user = create_df( BigramCollocationFinder.from_documents(user_pos[\"Lemma\"].str.split().tolist()),\n",
    "                                BigramAssocMeasures.raw_freq)\n",
    "        \n",
    "        # Find intersection\n",
    "        bigrams_pos = bigrams_pos[bigrams_pos[\"Lemma\"].isin(bigrams_pos_user[\"Lemma\"])]\n",
    "        bigrams_pos_user = bigrams_pos_user[bigrams_pos_user[\"Lemma\"].isin(bigrams_pos[\"Lemma\"])]\n",
    "\n",
    "\n",
    "        sns.barplot(data=bigrams_neg.sort_values(by=\"Freq\", ascending=False).head(40), y=\"Lemma\", x=\"Freq\", ax=ax1)\n",
    "        sns.barplot(data=bigrams_pos.sort_values(by=\"Freq\", ascending=False).head(40), y=\"Lemma\", x=\"Freq\", ax=ax2)\n",
    "\n",
    "        sns.barplot(data=bigrams_neg_user.sort_values(by=\"Freq\", ascending=False).head(40), y=\"Lemma\", x=\"Freq\", ax=ax1, color=\"r\", alpha=0.5)\n",
    "        sns.barplot(data=bigrams_pos_user.sort_values(by=\"Freq\", ascending=False).head(40), y=\"Lemma\", x=\"Freq\", ax=ax2, color=\"r\", alpha=0.5)\n",
    "\n",
    "        ax1.set_title(f\"Negative bigrams for user {user_id} (id)\")\n",
    "        ax2.set_title(f\"Positive bigrams for user {user_id} (id)\")\n",
    "        ax1.tick_params(axis='y', labelsize=8)\n",
    "        ax2.tick_params(axis='y', labelsize=8)\n",
    "\n",
    "        plt.tight_layout()\n",
    "        return ax1, ax2\n",
    "\n",
    "# type : simi, less_simi, random\n",
    "def knn_comments(user_id, games_to_consider, matrix_ratings, mask_ratings, cos_sim_matrix, users_table, games_table, type='simi', k=40):\n",
    "\n",
    "    user_ind = users_table[users_table == user_id].index[0]\n",
    "    games_to_hide = np.random.choice(games_to_consider, size=200, replace=False)\n",
    "\n",
    "    hidden_games = np.intersect1d(games_table[games_table.isin(games_to_hide)].index, mask_ratings[user_ind, :].nonzero()[0])\n",
    "\n",
    "    prev_ratings, prev_mask_ratings = matrix_ratings[user_ind, :], mask_ratings[user_ind, :], \n",
    "    prev_sim = cos_sim_matrix[user_ind, :]\n",
    "\n",
    "    # hide games\n",
    "    matrix_ratings[user_ind, hidden_games] = 0\n",
    "    mask_ratings[user_ind, hidden_games] = 0\n",
    "\n",
    "    recalc_cos_similarity(user_ind, matrix_ratings, cos_sim_matrix)\n",
    "\n",
    "    # choice of similar users\n",
    "    match type:\n",
    "        case 'simi':\n",
    "            sim_users =  get_KNN(cos_sim_matrix, k, user_ind)\n",
    "        case 'less_simi':\n",
    "            sim_users =  get_KNN(cos_sim_matrix, users_table.shape[0], user_ind)\n",
    "            sim_users = sim_users[-k:]\n",
    "        case 'random':\n",
    "            sim_users =  get_KNN(cos_sim_matrix, users_table.shape[0], user_ind)\n",
    "            sim_users = np.random.choice(sim_users, size=k, replace=False)\n",
    "              \n",
    "    print(\"similar users\", sim_users, len(sim_users))\n",
    "    pred_ratings, mask_pred_ratings = predict_ratings_baseline(matrix_ratings, mask_ratings,\n",
    "                                                                sim_users, cos_sim_matrix, user_ind)\n",
    "    \n",
    "    # restore\n",
    "    matrix_ratings[user_ind, :], mask_ratings[user_ind, :] = prev_ratings, prev_mask_ratings\n",
    "    cos_sim_matrix[user_ind, :], cos_sim_matrix[:, user_ind] = prev_sim, prev_sim\n",
    "\n",
    "    diff = np.abs(matrix_ratings[user_ind, hidden_games] - pred_ratings[hidden_games])\n",
    "\n",
    "    ALLOW_ERR = 2\n",
    "    user_mean = users_mean.loc[users_mean[\"User id\"] == user_id, \"Rating\"].item()\n",
    "    pos, neg = pred_ratings[hidden_games] < user_mean, pred_ratings[hidden_games] > user_mean\n",
    "\n",
    "    neg_pred_games = hidden_games[np.argwhere(neg & (diff < ALLOW_ERR)).flatten()]\n",
    "    pos_pred_games = hidden_games[np.argwhere(pos & (diff < ALLOW_ERR)).flatten()]\n",
    "\n",
    "    # Find games ids\n",
    "    neg_pred_games = games_table[games_table.index.isin(neg_pred_games)].values\n",
    "    pos_pred_games =  games_table[games_table.index.isin(pos_pred_games)].values\n",
    "\n",
    "    # Find users ids\n",
    "    sim_users = users_table[users_table.index.isin(sim_users)].values\n",
    "    sim_users_neg = comments_all[comments_all[\"Game id\"].isin(neg_pred_games) & comments_all[\"User id\"].isin(sim_users)]\n",
    "    sim_users_pos = comments_all[comments_all[\"Game id\"].isin(pos_pred_games) & comments_all[\"User id\"].isin(sim_users)]\n",
    "    print(pos_pred_games)\n",
    "    user_pos = comments_all[(comments_all[\"Game id\"].isin(neg_pred_games)) & (comments_all[\"User id\"] == user_id)]\n",
    "    user_neg = comments_all[(comments_all[\"Game id\"].isin(pos_pred_games)) & (comments_all[\"User id\"] == user_id)]\n",
    "\n",
    "    print(f\"User id : {user_id}, nb correct negative : {neg_pred_games.shape[0]}, nb correct positives : {pos_pred_games.shape[0]}\")\n",
    "    print(sim_users_neg.shape, sim_users_pos.shape, user_pos.shape, user_neg.shape)\n",
    "    plot_barplots(sim_users_neg, sim_users_pos, user_neg, user_pos, user_id)\n"
   ]
  },
  {
   "cell_type": "markdown",
   "metadata": {},
   "source": [
    "---"
   ]
  },
  {
   "cell_type": "markdown",
   "metadata": {},
   "source": [
    "### Using tf idf to filter bigrams"
   ]
  },
  {
   "cell_type": "code",
   "execution_count": 14,
   "metadata": {},
   "outputs": [],
   "source": [
    "from sklearn.feature_extraction.text import TfidfVectorizer\n",
    "# lemmatized comments\n",
    "all_doc = comments_all['Lemma']\n",
    "vectorizer = TfidfVectorizer(ngram_range=(2, 2), min_df=5, max_df=0.8) # bigrams\n",
    "vectors = vectorizer.fit_transform(all_doc)"
   ]
  },
  {
   "cell_type": "code",
   "execution_count": 15,
   "metadata": {},
   "outputs": [],
   "source": [
    "bigrams_ens = vectorizer.get_feature_names_out()"
   ]
  },
  {
   "cell_type": "code",
   "execution_count": 16,
   "metadata": {},
   "outputs": [],
   "source": [
    "comments_all = comments_all.drop(columns=['Comment line']).reset_index()\n",
    "comments_all = comments_all.drop(columns=['index']).reset_index()"
   ]
  },
  {
   "cell_type": "code",
   "execution_count": 17,
   "metadata": {},
   "outputs": [],
   "source": [
    "# using tf idf filtering\n",
    "def plot_barplots(sim_users_neg, sim_users_pos, user_neg, user_pos, user_id, threshold): # user id \n",
    "\n",
    "        _, (ax1, ax2) = plt.subplots(1, 2, figsize=(15, 7))\n",
    "\n",
    "        def f_all_comment(comment_grp): # filters the bigrams of comment using tf idf\n",
    "            document = np.array([])\n",
    "\n",
    "            for index, lem in zip(comment_grp['index'], comment_grp['Lemma']): \n",
    "                g = BigramCollocationFinder.from_words(lem.split()).score_ngrams(BigramAssocMeasures.raw_freq)\n",
    "                values = vectors[index].data  # Non-zero values in the sparse matrix\n",
    "                mask = values >= threshold\n",
    "                values = values[mask]\n",
    "                indices = vectors[index].indices[mask]\n",
    "                keep_bigrams = bigrams_ens[indices[np.argsort(values)[::-1]]]\n",
    "                kept = np.array([\" \".join(bigram) for bigram, _ in g if \" \".join(bigram) in keep_bigrams])\n",
    "                if kept.size != 0:\n",
    "                    document = np.concatenate((document,kept), axis = 0)\n",
    "            return document        \n",
    "        \n",
    "        def filtered_big_df(df): # construct frequency lemma df\n",
    "            bigrams_comments = df.groupby('User id').apply(f_all_comment,include_groups=False).reset_index(drop=True).values\n",
    "            if bigrams_comments.size != 0:\n",
    "                bigrams_comments = np.hstack(bigrams_comments)\n",
    "            val, count = np.unique(bigrams_comments, return_counts=True)\n",
    "            count = count/len(bigrams_comments)\n",
    "            return pd.DataFrame({\"Lemma\": val, 'Freq': count})\n",
    "\n",
    "        # Negatives comments\n",
    "        bigrams_neg = filtered_big_df(sim_users_neg)        \n",
    "        bigrams_neg_user = filtered_big_df(user_neg)\n",
    "\n",
    "        # Find intersection\n",
    "        bigrams_neg = bigrams_neg[bigrams_neg[\"Lemma\"].isin(bigrams_neg_user[\"Lemma\"])]\n",
    "        bigrams_neg_user = bigrams_neg_user[bigrams_neg_user[\"Lemma\"].isin(bigrams_neg[\"Lemma\"])]\n",
    "\n",
    "        # # Positive comments\n",
    "        bigrams_pos = filtered_big_df(sim_users_pos)\n",
    "        bigrams_pos_user = filtered_big_df(user_pos)\n",
    "        \n",
    "        # Find intersection\n",
    "        bigrams_pos = bigrams_pos[bigrams_pos[\"Lemma\"].isin(bigrams_pos_user[\"Lemma\"])]\n",
    "        bigrams_pos_user = bigrams_pos_user[bigrams_pos_user[\"Lemma\"].isin(bigrams_pos[\"Lemma\"])]\n",
    "\n",
    "        sns.barplot(data=bigrams_neg.sort_values(by=\"Freq\", ascending=False).head(40), y=\"Lemma\", x=\"Freq\", ax=ax1)\n",
    "        sns.barplot(data=bigrams_pos.sort_values(by=\"Freq\", ascending=False).head(40), y=\"Lemma\", x=\"Freq\", ax=ax2)\n",
    "\n",
    "        sns.barplot(data=bigrams_neg_user.sort_values(by=\"Freq\", ascending=False).head(40), y=\"Lemma\", x=\"Freq\", ax=ax1, color=\"r\", alpha=0.5)\n",
    "        sns.barplot(data=bigrams_pos_user.sort_values(by=\"Freq\", ascending=False).head(40), y=\"Lemma\", x=\"Freq\", ax=ax2, color=\"r\", alpha=0.5)\n",
    "\n",
    "        ax1.set_title(f\"Negative bigrams for user {user_id} (id)\")\n",
    "        ax2.set_title(f\"Positive bigrams for user {user_id} (id)\")\n",
    "        ax1.tick_params(axis='y', labelsize=8)\n",
    "        ax2.tick_params(axis='y', labelsize=8)\n",
    "\n",
    "        plt.tight_layout()\n",
    "        return ax1, ax2\n",
    "\n",
    "# type: random, simi, less_simi\n",
    "def knn_comments(user_id, games_to_consider, matrix_ratings, mask_ratings, cos_sim_matrix, users_table, games_table, type = 'simi', threshold = 0, k = 40):    \n",
    "    # rating matrix\n",
    "    user_ind = users_table[users_table == user_id].index[0]\n",
    "    games_to_hide = np.random.choice(games_to_consider, size=200, replace=False)\n",
    "    hidden_games = np.intersect1d(games_table[games_table.isin(games_to_hide)].index, mask_ratings[user_ind, :].nonzero()[0])\n",
    "    prev_ratings, prev_mask_ratings = matrix_ratings[user_ind, :], mask_ratings[user_ind, :], \n",
    "    prev_sim = cos_sim_matrix[user_ind, :]\n",
    "\n",
    "    # hide games\n",
    "    matrix_ratings[user_ind, hidden_games] = 0\n",
    "    mask_ratings[user_ind, hidden_games] = 0\n",
    "\n",
    "    recalc_cos_similarity(user_ind, matrix_ratings, cos_sim_matrix)\n",
    "\n",
    "    # choice of neighbors\n",
    "    match type:\n",
    "        case 'simi':\n",
    "            sim_users = get_KNN(cos_sim_matrix, k, user_ind)\n",
    "        case 'less_simi':\n",
    "            sim_users = get_KNN(cos_sim_matrix, users_table.shape[0], user_ind)[-k:] # furthest\n",
    "        case 'random':\n",
    "            sim_users = get_KNN(cos_sim_matrix, users_table.shape[0], user_ind) # random\n",
    "            sim_users = np.random.choice(sim_users, size=k, replace=False)\n",
    "\n",
    "    print('number of neighbors', len(sim_users))\n",
    "            \n",
    "    pred_ratings, mask_pred_ratings = predict_ratings_baseline(matrix_ratings, mask_ratings,\n",
    "                                                                sim_users, cos_sim_matrix, user_ind)\n",
    "    \n",
    "    # restore\n",
    "    matrix_ratings[user_ind, :], mask_ratings[user_ind, :] = prev_ratings, prev_mask_ratings\n",
    "    cos_sim_matrix[user_ind, :], cos_sim_matrix[:, user_ind] = prev_sim, prev_sim\n",
    "\n",
    "    diff = np.abs(matrix_ratings[user_ind, hidden_games] - pred_ratings[hidden_games])\n",
    "\n",
    "    ALLOW_ERR = 2\n",
    "    user_mean = users_mean.loc[users_mean[\"User id\"] == user_id, \"Rating\"].item()\n",
    "    pos, neg = pred_ratings[hidden_games] < user_mean, pred_ratings[hidden_games] > user_mean\n",
    "\n",
    "    neg_pred_games = hidden_games[np.argwhere(neg & (diff < ALLOW_ERR)).flatten()]\n",
    "    pos_pred_games = hidden_games[np.argwhere(pos & (diff < ALLOW_ERR)).flatten()]\n",
    "\n",
    "    # Find games ids\n",
    "    neg_pred_games = games_table[games_table.index.isin(neg_pred_games)].values\n",
    "    pos_pred_games =  games_table[games_table.index.isin(pos_pred_games)].values\n",
    "\n",
    "    # Find users ids\n",
    "    sim_users = users_table[users_table.index.isin(sim_users)].values\n",
    "    sim_users_neg = comments_all[comments_all[\"Game id\"].isin(neg_pred_games) & comments_all[\"User id\"].isin(sim_users)]\n",
    "    sim_users_pos = comments_all[comments_all[\"Game id\"].isin(pos_pred_games) & comments_all[\"User id\"].isin(sim_users)]\n",
    "    # print(pos_pred_games)\n",
    "    user_pos = comments_all[(comments_all[\"Game id\"].isin(neg_pred_games)) & (comments_all[\"User id\"] == user_id)]\n",
    "    user_neg = comments_all[(comments_all[\"Game id\"].isin(pos_pred_games)) & (comments_all[\"User id\"] == user_id)]\n",
    "\n",
    "    # print(sim_users_neg)\n",
    "\n",
    "    print(f\"User id : {user_id}, nb correct negative : {neg_pred_games.shape[0]}, nb correct positives : {pos_pred_games.shape[0]}\")\n",
    "    print(sim_users_neg.shape, sim_users_pos.shape, user_pos.shape, user_neg.shape)\n",
    "    plot_barplots(sim_users_neg, sim_users_pos, user_neg, user_pos, user_id, threshold)\n"
   ]
  },
  {
   "cell_type": "code",
   "execution_count": 18,
   "metadata": {},
   "outputs": [],
   "source": [
    "# plotting for the threshold\n",
    "tfidf_value = vectors.data"
   ]
  },
  {
   "cell_type": "code",
   "execution_count": 35,
   "metadata": {},
   "outputs": [
    {
     "data": {
      "text/plain": [
       "(array([     0,    173,   3216,  11651,  25298,  43392,  64701,  86765,\n",
       "        105300, 120016, 131414, 135826, 136599, 131718, 124875, 118437,\n",
       "        107089,  96420,  85933,  77356,  66888,  58366,  51159,  44247,\n",
       "         37981,  32523,  27776,  23970,  20044,  16994,  14561,  12392,\n",
       "         10639,   9127,   7857,   6806,   5829,   4887,   4258,   3587,\n",
       "          3167,   2684,   2242,   2061,   1721,   1524,   1344,   1146,\n",
       "          1041,    887,    763,    637,    559,    492,    415,    356,\n",
       "           331,    283,    268,    238,    190,    183,    168,    125,\n",
       "           106,    106,     95,     74,     86,     74,     93,     75,\n",
       "            55,     48,     50,     35,     27,     31,     23,     24,\n",
       "            20,      9,     12,     14,      8,      9,     11,      6,\n",
       "             7,      6,      5,      1,      1,      3,      2,      2,\n",
       "             0,      1,      0,    112]),\n",
       " array([0.  , 0.01, 0.02, 0.03, 0.04, 0.05, 0.06, 0.07, 0.08, 0.09, 0.1 ,\n",
       "        0.11, 0.12, 0.13, 0.14, 0.15, 0.16, 0.17, 0.18, 0.19, 0.2 , 0.21,\n",
       "        0.22, 0.23, 0.24, 0.25, 0.26, 0.27, 0.28, 0.29, 0.3 , 0.31, 0.32,\n",
       "        0.33, 0.34, 0.35, 0.36, 0.37, 0.38, 0.39, 0.4 , 0.41, 0.42, 0.43,\n",
       "        0.44, 0.45, 0.46, 0.47, 0.48, 0.49, 0.5 , 0.51, 0.52, 0.53, 0.54,\n",
       "        0.55, 0.56, 0.57, 0.58, 0.59, 0.6 , 0.61, 0.62, 0.63, 0.64, 0.65,\n",
       "        0.66, 0.67, 0.68, 0.69, 0.7 , 0.71, 0.72, 0.73, 0.74, 0.75, 0.76,\n",
       "        0.77, 0.78, 0.79, 0.8 , 0.81, 0.82, 0.83, 0.84, 0.85, 0.86, 0.87,\n",
       "        0.88, 0.89, 0.9 , 0.91, 0.92, 0.93, 0.94, 0.95, 0.96, 0.97, 0.98,\n",
       "        0.99, 1.  ]))"
      ]
     },
     "execution_count": 35,
     "metadata": {},
     "output_type": "execute_result"
    }
   ],
   "source": [
    "bins = np.arange(0, 1.01, 0.01)\n",
    "counts, bin_edges = np.histogram(tfidf_value, bins=bins)\n",
    "counts, bin_edges"
   ]
  },
  {
   "cell_type": "code",
   "execution_count": 54,
   "metadata": {},
   "outputs": [
    {
     "data": {
      "text/html": [
       "<div>\n",
       "<style scoped>\n",
       "    .dataframe tbody tr th:only-of-type {\n",
       "        vertical-align: middle;\n",
       "    }\n",
       "\n",
       "    .dataframe tbody tr th {\n",
       "        vertical-align: top;\n",
       "    }\n",
       "\n",
       "    .dataframe thead th {\n",
       "        text-align: right;\n",
       "    }\n",
       "</style>\n",
       "<table border=\"1\" class=\"dataframe\">\n",
       "  <thead>\n",
       "    <tr style=\"text-align: right;\">\n",
       "      <th></th>\n",
       "      <th>Interval</th>\n",
       "      <th>Count</th>\n",
       "    </tr>\n",
       "  </thead>\n",
       "  <tbody>\n",
       "    <tr>\n",
       "      <th>0</th>\n",
       "      <td>0.00</td>\n",
       "      <td>0</td>\n",
       "    </tr>\n",
       "    <tr>\n",
       "      <th>1</th>\n",
       "      <td>0.01</td>\n",
       "      <td>173</td>\n",
       "    </tr>\n",
       "    <tr>\n",
       "      <th>2</th>\n",
       "      <td>0.02</td>\n",
       "      <td>3216</td>\n",
       "    </tr>\n",
       "    <tr>\n",
       "      <th>3</th>\n",
       "      <td>0.03</td>\n",
       "      <td>11651</td>\n",
       "    </tr>\n",
       "    <tr>\n",
       "      <th>4</th>\n",
       "      <td>0.04</td>\n",
       "      <td>25298</td>\n",
       "    </tr>\n",
       "    <tr>\n",
       "      <th>...</th>\n",
       "      <td>...</td>\n",
       "      <td>...</td>\n",
       "    </tr>\n",
       "    <tr>\n",
       "      <th>95</th>\n",
       "      <td>0.95</td>\n",
       "      <td>2</td>\n",
       "    </tr>\n",
       "    <tr>\n",
       "      <th>96</th>\n",
       "      <td>0.96</td>\n",
       "      <td>0</td>\n",
       "    </tr>\n",
       "    <tr>\n",
       "      <th>97</th>\n",
       "      <td>0.97</td>\n",
       "      <td>1</td>\n",
       "    </tr>\n",
       "    <tr>\n",
       "      <th>98</th>\n",
       "      <td>0.98</td>\n",
       "      <td>0</td>\n",
       "    </tr>\n",
       "    <tr>\n",
       "      <th>99</th>\n",
       "      <td>0.99</td>\n",
       "      <td>112</td>\n",
       "    </tr>\n",
       "  </tbody>\n",
       "</table>\n",
       "<p>100 rows × 2 columns</p>\n",
       "</div>"
      ],
      "text/plain": [
       "    Interval  Count\n",
       "0       0.00      0\n",
       "1       0.01    173\n",
       "2       0.02   3216\n",
       "3       0.03  11651\n",
       "4       0.04  25298\n",
       "..       ...    ...\n",
       "95      0.95      2\n",
       "96      0.96      0\n",
       "97      0.97      1\n",
       "98      0.98      0\n",
       "99      0.99    112\n",
       "\n",
       "[100 rows x 2 columns]"
      ]
     },
     "execution_count": 54,
     "metadata": {},
     "output_type": "execute_result"
    }
   ],
   "source": [
    "df_plot = pd.DataFrame({\n",
    "    'Interval': bin_edges[:-1],\n",
    "    'Count': counts\n",
    "})\n",
    "df_plot"
   ]
  },
  {
   "cell_type": "code",
   "execution_count": 56,
   "metadata": {},
   "outputs": [
    {
     "data": {
      "image/png": "[encoded data removed]",
      "text/plain": [
       "<Figure size 1500x1000 with 1 Axes>"
      ]
     },
     "metadata": {},
     "output_type": "display_data"
    }
   ],
   "source": [
    "plt.figure(figsize=(15,10))\n",
    "ax = sns.barplot(data=df_plot, x='Interval', y='Count', color='skyblue', edgecolor='black')\n",
    "\n",
    "plt.xlabel('Tf_idf range', )\n",
    "plt.ylabel('Count')\n",
    "plt.title('Distribution of tf-idf in users comments')\n",
    "plt.xticks(fontsize=7)        \n",
    "\n",
    "xticks = ax.get_xticks()\n",
    "xticklabels = ax.get_xticklabels()\n",
    "\n",
    "# Turn off all labels first\n",
    "for label in xticklabels:\n",
    "    label.set_visible(False)\n",
    "\n",
    "# Turn on every 5th label\n",
    "for i in range(0, len(xticklabels), 2):\n",
    "    xticklabels[i].set_visible(True)\n",
    "\n",
    "plt.tight_layout()\n",
    "plt.show()"
   ]
  },
  {
   "cell_type": "code",
   "execution_count": 64,
   "metadata": {},
   "outputs": [],
   "source": [
    "density = [sum(counts[i:]) for i in range(len(counts))]"
   ]
  },
  {
   "cell_type": "code",
   "execution_count": 404,
   "metadata": {},
   "outputs": [
    {
     "data": {
      "text/html": [
       "<div>\n",
       "<style scoped>\n",
       "    .dataframe tbody tr th:only-of-type {\n",
       "        vertical-align: middle;\n",
       "    }\n",
       "\n",
       "    .dataframe tbody tr th {\n",
       "        vertical-align: top;\n",
       "    }\n",
       "\n",
       "    .dataframe thead th {\n",
       "        text-align: right;\n",
       "    }\n",
       "</style>\n",
       "<table border=\"1\" class=\"dataframe\">\n",
       "  <thead>\n",
       "    <tr style=\"text-align: right;\">\n",
       "      <th></th>\n",
       "      <th>Count</th>\n",
       "      <th>Interv</th>\n",
       "    </tr>\n",
       "  </thead>\n",
       "  <tbody>\n",
       "    <tr>\n",
       "      <th>13</th>\n",
       "      <td>1225775</td>\n",
       "      <td>0.13</td>\n",
       "    </tr>\n",
       "  </tbody>\n",
       "</table>\n",
       "</div>"
      ],
      "text/plain": [
       "      Count  Interv\n",
       "13  1225775    0.13"
      ]
     },
     "execution_count": 404,
     "metadata": {},
     "output_type": "execute_result"
    }
   ],
   "source": [
    "density_df = pd.DataFrame({\"Count\" : density, \"Interv\": bin_edges[:-1]})\n",
    "density_df[density_df['Interv'] == 0.13]"
   ]
  },
  {
   "cell_type": "code",
   "execution_count": null,
   "metadata": {},
   "outputs": [
    {
     "data": {
      "text/plain": [
       "<Axes: xlabel='Interv', ylabel='Count'>"
      ]
     },
     "execution_count": 76,
     "metadata": {},
     "output_type": "execute_result"
    },
    {
     "data": {
      "image/png": "[encoded data removed]",
      "text/plain": [
       "<Figure size 1000x700 with 1 Axes>"
      ]
     },
     "metadata": {},
     "output_type": "display_data"
    }
   ],
   "source": [
    "plt.figure(figsize=(10,7))\n",
    "sns.lineplot(density_df, x='Interv', y='Count')"
   ]
  },
  {
   "cell_type": "code",
   "execution_count": 93,
   "metadata": {},
   "outputs": [],
   "source": [
    "# using tf idf filtering, count number of intersection in neg and pos\n",
    "def plot_barplots(sim_users_neg, sim_users_pos, user_neg, user_pos, user_id, threshold): # user id \n",
    "\n",
    "        # _, (ax1, ax2) = plt.subplots(1, 2, figsize=(15, 7))\n",
    "\n",
    "        def f_all_comment(comment_grp): # filters the bigrams of comment using tf idf\n",
    "            document = np.array([])\n",
    "\n",
    "            for index, lem in zip(comment_grp['index'], comment_grp['Lemma']): \n",
    "                g = BigramCollocationFinder.from_words(lem.split()).score_ngrams(BigramAssocMeasures.raw_freq)\n",
    "                values = vectors[index].data  # Non-zero values in the sparse matrix\n",
    "                mask = values >= threshold\n",
    "                values = values[mask]\n",
    "                indices = vectors[index].indices[mask]\n",
    "                keep_bigrams = bigrams_ens[indices[np.argsort(values)[::-1]]]\n",
    "                kept = np.array([\" \".join(bigram) for bigram, _ in g if \" \".join(bigram) in keep_bigrams])\n",
    "                if kept.size != 0:\n",
    "                    document = np.concatenate((document,kept), axis = 0)\n",
    "            return document        \n",
    "        \n",
    "        def filtered_big_df(df): # construct frequency lemma df\n",
    "            bigrams_comments = df.groupby('User id').apply(f_all_comment,include_groups=False).reset_index(drop=True).values\n",
    "            if bigrams_comments.size != 0:\n",
    "                bigrams_comments = np.hstack(bigrams_comments)\n",
    "            val, count = np.unique(bigrams_comments, return_counts=True)\n",
    "            count = count/len(bigrams_comments)\n",
    "            return pd.DataFrame({\"Lemma\": val, 'Freq': count})\n",
    "\n",
    "        # Negatives comments\n",
    "        bigrams_neg = filtered_big_df(sim_users_neg)        \n",
    "        bigrams_neg_user = filtered_big_df(user_neg)\n",
    "\n",
    "        # Find intersection\n",
    "        bigrams_neg = bigrams_neg[bigrams_neg[\"Lemma\"].isin(bigrams_neg_user[\"Lemma\"])]\n",
    "        bigrams_neg_user = bigrams_neg_user[bigrams_neg_user[\"Lemma\"].isin(bigrams_neg[\"Lemma\"])]\n",
    "\n",
    "        # # Positive comments\n",
    "        bigrams_pos = filtered_big_df(sim_users_pos)\n",
    "        bigrams_pos_user = filtered_big_df(user_pos)\n",
    "        \n",
    "        # Find intersection\n",
    "        bigrams_pos = bigrams_pos[bigrams_pos[\"Lemma\"].isin(bigrams_pos_user[\"Lemma\"])]\n",
    "        bigrams_pos_user = bigrams_pos_user[bigrams_pos_user[\"Lemma\"].isin(bigrams_pos[\"Lemma\"])]\n",
    "\n",
    "        # count of intersection\n",
    "        assert len(bigrams_pos) == len(bigrams_pos_user)\n",
    "        assert len(bigrams_neg) == len(bigrams_neg_user)\n",
    "\n",
    "        \n",
    "\n",
    "        # sns.barplot(data=bigrams_neg.sort_values(by=\"Freq\", ascending=False).head(40), y=\"Lemma\", x=\"Freq\", ax=ax1)\n",
    "        # sns.barplot(data=bigrams_pos.sort_values(by=\"Freq\", ascending=False).head(40), y=\"Lemma\", x=\"Freq\", ax=ax2)\n",
    "\n",
    "        # sns.barplot(data=bigrams_neg_user.sort_values(by=\"Freq\", ascending=False).head(40), y=\"Lemma\", x=\"Freq\", ax=ax1, color=\"r\", alpha=0.5)\n",
    "        # sns.barplot(data=bigrams_pos_user.sort_values(by=\"Freq\", ascending=False).head(40), y=\"Lemma\", x=\"Freq\", ax=ax2, color=\"r\", alpha=0.5)\n",
    "\n",
    "        # ax1.set_title(f\"Negative bigrams for user {user_id} (id)\")\n",
    "        # ax2.set_title(f\"Positive bigrams for user {user_id} (id)\")\n",
    "        # ax1.tick_params(axis='y', labelsize=8)\n",
    "        # ax2.tick_params(axis='y', labelsize=8)\n",
    "\n",
    "        # plt.tight_layout()\n",
    "        # return ax1, ax2\n",
    "        \n",
    "        return  len(bigrams_pos), len(bigrams_neg)\n",
    "\n",
    "# type: random, simi, less_simi\n",
    "def knn_comments(user_id, games_to_consider, matrix_ratings, mask_ratings, cos_sim_matrix, users_table, games_table, type = 'simi', threshold = 0, k = 40):    \n",
    "    # rating matrix\n",
    "    user_ind = users_table[users_table == user_id].index[0]\n",
    "    games_to_hide = np.random.choice(games_to_consider, size=200, replace=False)\n",
    "    hidden_games = np.intersect1d(games_table[games_table.isin(games_to_hide)].index, mask_ratings[user_ind, :].nonzero()[0])\n",
    "    prev_ratings, prev_mask_ratings = matrix_ratings[user_ind, :], mask_ratings[user_ind, :], \n",
    "    prev_sim = cos_sim_matrix[user_ind, :]\n",
    "\n",
    "    # hide games\n",
    "    matrix_ratings[user_ind, hidden_games] = 0\n",
    "    mask_ratings[user_ind, hidden_games] = 0\n",
    "\n",
    "    recalc_cos_similarity(user_ind, matrix_ratings, cos_sim_matrix)\n",
    "\n",
    "    # choice of neighbors\n",
    "    match type:\n",
    "        case 'simi':\n",
    "            sim_users = get_KNN(cos_sim_matrix, k, user_ind)\n",
    "        case 'less_simi':\n",
    "            sim_users = get_KNN(cos_sim_matrix, users_table.shape[0], user_ind)[-k:] # furthest\n",
    "        case 'random':\n",
    "            sim_users = get_KNN(cos_sim_matrix, users_table.shape[0], user_ind) # random\n",
    "            sim_users = np.random.choice(sim_users, size=k, replace=False)\n",
    "\n",
    "    # print('number of neighbors', len(sim_users))\n",
    "            \n",
    "    pred_ratings, mask_pred_ratings = predict_ratings_baseline(matrix_ratings, mask_ratings,\n",
    "                                                                sim_users, cos_sim_matrix, user_ind)\n",
    "    \n",
    "    # restore\n",
    "    matrix_ratings[user_ind, :], mask_ratings[user_ind, :] = prev_ratings, prev_mask_ratings\n",
    "    cos_sim_matrix[user_ind, :], cos_sim_matrix[:, user_ind] = prev_sim, prev_sim\n",
    "\n",
    "    diff = np.abs(matrix_ratings[user_ind, hidden_games] - pred_ratings[hidden_games])\n",
    "\n",
    "    ALLOW_ERR = 2\n",
    "    user_mean = users_mean.loc[users_mean[\"User id\"] == user_id, \"Rating\"].item()\n",
    "    pos, neg = pred_ratings[hidden_games] < user_mean, pred_ratings[hidden_games] > user_mean\n",
    "\n",
    "    neg_pred_games = hidden_games[np.argwhere(neg & (diff < ALLOW_ERR)).flatten()]\n",
    "    pos_pred_games = hidden_games[np.argwhere(pos & (diff < ALLOW_ERR)).flatten()]\n",
    "\n",
    "    # Find games ids\n",
    "    neg_pred_games = games_table[games_table.index.isin(neg_pred_games)].values\n",
    "    pos_pred_games =  games_table[games_table.index.isin(pos_pred_games)].values\n",
    "\n",
    "    # Find users ids\n",
    "    sim_users = users_table[users_table.index.isin(sim_users)].values\n",
    "    sim_users_neg = comments_all[comments_all[\"Game id\"].isin(neg_pred_games) & comments_all[\"User id\"].isin(sim_users)]\n",
    "    sim_users_pos = comments_all[comments_all[\"Game id\"].isin(pos_pred_games) & comments_all[\"User id\"].isin(sim_users)]\n",
    "    # print(pos_pred_games)\n",
    "    user_pos = comments_all[(comments_all[\"Game id\"].isin(neg_pred_games)) & (comments_all[\"User id\"] == user_id)]\n",
    "    user_neg = comments_all[(comments_all[\"Game id\"].isin(pos_pred_games)) & (comments_all[\"User id\"] == user_id)]\n",
    "\n",
    "    # print(sim_users_neg)\n",
    "\n",
    "    # print(f\"User id : {user_id}, nb correct negative : {neg_pred_games.shape[0]}, nb correct positives : {pos_pred_games.shape[0]}\")\n",
    "    # print(sim_users_neg.shape, sim_users_pos.shape, user_pos.shape, user_neg.shape)\n",
    "    # plot_barplots(sim_users_neg, sim_users_pos, user_neg, user_pos, user_id, threshold)\n",
    "    \n",
    "    pos_count, neg_count = plot_barplots(sim_users_neg, sim_users_pos, user_neg, user_pos, user_id, threshold)\n",
    "    return pos_count, neg_count"
   ]
  },
  {
   "cell_type": "markdown",
   "metadata": {},
   "source": [
    "### 100 users, no threshold, average number of common bigrams in neg and pos reviews "
   ]
  },
  {
   "cell_type": "code",
   "execution_count": 113,
   "metadata": {},
   "outputs": [],
   "source": [
    "np.random.seed(90)\n",
    "n_users = 100\n",
    "users_ids_samp = comments_all.sample(n=n_users)['User id']\n",
    "\n",
    "avg_pos_s_100 = []\n",
    "avg_neg_s_100 = []\n",
    "avg_pos_ls_100 = []\n",
    "avg_neg_ls_100 = []\n",
    "avg_pos_r_100 = []\n",
    "avg_neg_r_100 = []\n",
    "\n",
    "for id in users_ids_samp:\n",
    "    # simi\n",
    "    pos, neg = knn_comments(id, games_to_consider, matrix_ratings, mask_ratings, cos_sim_matrix, users_table, games_table, type='simi', k=40, threshold=-1)\n",
    "    avg_pos_s_100.append(pos)\n",
    "    avg_neg_s_100.append(neg)\n",
    "\n",
    "    # less_simi\n",
    "    pos, neg = knn_comments(id, games_to_consider, matrix_ratings, mask_ratings, cos_sim_matrix, users_table, games_table, type='less_simi', k=40, threshold=-1)\n",
    "    avg_pos_ls_100.append(pos)\n",
    "    avg_neg_ls_100.append(neg)\n",
    "\n",
    "    # random\n",
    "    pos, neg = knn_comments(id, games_to_consider, matrix_ratings, mask_ratings, cos_sim_matrix, users_table, games_table, type='random', k=40, threshold=-1)\n",
    "    avg_pos_r_100.append(pos)\n",
    "    avg_neg_r_100.append(neg)"
   ]
  },
  {
   "cell_type": "code",
   "execution_count": 114,
   "metadata": {},
   "outputs": [
    {
     "name": "stdout",
     "output_type": "stream",
     "text": [
      "Average for 100 users no thresold, k=40\n",
      "Simi pos: 34.48, neg: 32.93      Less_simi pos: 0.49, neg: 0.35      Random pos: 6.48, neg: 5.4\n",
      "\n"
     ]
    }
   ],
   "source": [
    "print(f\"Average for 100 users no thresold, k=40\\nSimi pos: {np.mean(avg_pos_s_100)}, neg: {np.mean(avg_neg_s_100)}\\\n",
    "      Less_simi pos: {np.mean(avg_pos_ls_100)}, neg: {np.mean(avg_neg_ls_100)}\\\n",
    "      Random pos: {np.mean(avg_pos_r_100)}, neg: {np.mean(avg_neg_r_100)}\\n\")"
   ]
  },
  {
   "cell_type": "markdown",
   "metadata": {},
   "source": [
    "### 200 users no threshold"
   ]
  },
  {
   "cell_type": "code",
   "execution_count": 115,
   "metadata": {},
   "outputs": [],
   "source": [
    "np.random.seed(90)\n",
    "n_users = 200\n",
    "users_ids_samp = comments_all.sample(n=n_users)['User id']\n",
    "\n",
    "avg_pos_s_200 = []\n",
    "avg_neg_s_200 = []\n",
    "avg_pos_ls_200 = []\n",
    "avg_neg_ls_200 = []\n",
    "avg_pos_r_200 = []\n",
    "avg_neg_r_200 = []\n",
    "\n",
    "for id in users_ids_samp:\n",
    "    # simi\n",
    "    pos, neg = knn_comments(id, games_to_consider, matrix_ratings, mask_ratings, cos_sim_matrix, users_table, games_table, type='simi', k=40, threshold=-1)\n",
    "    avg_pos_s_200.append(pos)\n",
    "    avg_neg_s_200.append(neg)\n",
    "\n",
    "    # less_simi\n",
    "    pos, neg = knn_comments(id, games_to_consider, matrix_ratings, mask_ratings, cos_sim_matrix, users_table, games_table, type='less_simi', k=40, threshold=-1)\n",
    "    avg_pos_ls_200.append(pos)\n",
    "    avg_neg_ls_200.append(neg)\n",
    "\n",
    "    # random\n",
    "    pos, neg = knn_comments(id, games_to_consider, matrix_ratings, mask_ratings, cos_sim_matrix, users_table, games_table, type='random', k=40, threshold=-1)\n",
    "    avg_pos_r_200.append(pos)\n",
    "    avg_neg_r_200.append(neg)"
   ]
  },
  {
   "cell_type": "code",
   "execution_count": 116,
   "metadata": {},
   "outputs": [
    {
     "name": "stdout",
     "output_type": "stream",
     "text": [
      "Average for 200 users no thresold, k=40\n",
      "Simi pos: 34.09, neg: 34.055      Less_simi pos: 0.41, neg: 0.36      Random pos: 6.19, neg: 5.94\n",
      "\n"
     ]
    }
   ],
   "source": [
    "print(f\"Average for 200 users no thresold, k=40\\nSimi pos: {np.mean(avg_pos_s_200)}, neg: {np.mean(avg_neg_s_200)}\\\n",
    "      Less_simi pos: {np.mean(avg_pos_ls_200)}, neg: {np.mean(avg_neg_ls_200)}\\\n",
    "      Random pos: {np.mean(avg_pos_r_200)}, neg: {np.mean(avg_neg_r_200)}\\n\")"
   ]
  },
  {
   "cell_type": "markdown",
   "metadata": {},
   "source": [
    "For 100 and 200 users there's not much difference, can choose 200 users"
   ]
  },
  {
   "cell_type": "markdown",
   "metadata": {},
   "source": [
    "#### Mean on 5 evaluations, 200 users"
   ]
  },
  {
   "cell_type": "code",
   "execution_count": 425,
   "metadata": {},
   "outputs": [
    {
     "name": "stderr",
     "output_type": "stream",
     "text": [
      "/home/franciline/anaconda3/envs/py11/lib/python3.11/site-packages/scipy/sparse/_index.py:197: SparseEfficiencyWarning: Changing the sparsity structure of a csr_array is expensive. lil and dok are more efficient.\n",
      "  self._set_arrayXarray(i, j, x)\n"
     ]
    },
    {
     "name": "stdout",
     "output_type": "stream",
     "text": [
      "Average for 200 users no thresold, k=40\n",
      "Simi pos: 41.265, neg: 41.265      Less_simi pos: 0.365, neg: 0.315      Random pos: 8.475, neg: 8.27\n",
      "\n"
     ]
    },
    {
     "name": "stderr",
     "output_type": "stream",
     "text": [
      "/home/franciline/anaconda3/envs/py11/lib/python3.11/site-packages/scipy/sparse/_index.py:197: SparseEfficiencyWarning: Changing the sparsity structure of a csr_array is expensive. lil and dok are more efficient.\n",
      "  self._set_arrayXarray(i, j, x)\n"
     ]
    },
    {
     "name": "stdout",
     "output_type": "stream",
     "text": [
      "Average for 200 users no thresold, k=40\n",
      "Simi pos: 33.78, neg: 34.75      Less_simi pos: 0.385, neg: 0.39      Random pos: 6.12, neg: 5.945\n",
      "\n"
     ]
    },
    {
     "name": "stderr",
     "output_type": "stream",
     "text": [
      "/home/franciline/anaconda3/envs/py11/lib/python3.11/site-packages/scipy/sparse/_index.py:197: SparseEfficiencyWarning: Changing the sparsity structure of a csr_array is expensive. lil and dok are more efficient.\n",
      "  self._set_arrayXarray(i, j, x)\n",
      "/home/franciline/anaconda3/envs/py11/lib/python3.11/site-packages/scipy/sparse/_index.py:197: SparseEfficiencyWarning: Changing the sparsity structure of a csr_array is expensive. lil and dok are more efficient.\n",
      "  self._set_arrayXarray(i, j, x)\n"
     ]
    },
    {
     "name": "stdout",
     "output_type": "stream",
     "text": [
      "Average for 200 users no thresold, k=40\n",
      "Simi pos: 37.225, neg: 36.7      Less_simi pos: 0.44, neg: 0.505      Random pos: 7.315, neg: 6.835\n",
      "\n",
      "Average for 200 users no thresold, k=40\n",
      "Simi pos: 34.475, neg: 34.545      Less_simi pos: 0.29, neg: 0.275      Random pos: 6.68, neg: 6.15\n",
      "\n"
     ]
    },
    {
     "name": "stderr",
     "output_type": "stream",
     "text": [
      "/home/franciline/anaconda3/envs/py11/lib/python3.11/site-packages/scipy/sparse/_index.py:197: SparseEfficiencyWarning: Changing the sparsity structure of a csr_array is expensive. lil and dok are more efficient.\n",
      "  self._set_arrayXarray(i, j, x)\n"
     ]
    },
    {
     "name": "stdout",
     "output_type": "stream",
     "text": [
      "Average for 200 users no thresold, k=40\n",
      "Simi pos: 32.44, neg: 35.925      Less_simi pos: 0.22, neg: 0.305      Random pos: 5.99, neg: 5.125\n",
      "\n"
     ]
    }
   ],
   "source": [
    "n_users = 200\n",
    "for _ in range(5):\n",
    "    users_ids_samp = comments_all.sample(n=n_users)['User id']\n",
    "\n",
    "    avg_pos_s_200 = []\n",
    "    avg_neg_s_200 = []\n",
    "    avg_pos_ls_200 = []\n",
    "    avg_neg_ls_200 = []\n",
    "    avg_pos_r_200 = []\n",
    "    avg_neg_r_200 = []\n",
    "\n",
    "    for id in users_ids_samp:\n",
    "        # simi\n",
    "        pos, neg = knn_comments(id, games_to_consider, matrix_ratings, mask_ratings, cos_sim_matrix, users_table, games_table, type='simi', k=40, threshold=-1)\n",
    "        avg_pos_s_200.append(pos)\n",
    "        avg_neg_s_200.append(neg)\n",
    "\n",
    "        # less_simi\n",
    "        pos, neg = knn_comments(id, games_to_consider, matrix_ratings, mask_ratings, cos_sim_matrix, users_table, games_table, type='less_simi', k=40, threshold=-1)\n",
    "        avg_pos_ls_200.append(pos)\n",
    "        avg_neg_ls_200.append(neg)\n",
    "\n",
    "        # random\n",
    "        pos, neg = knn_comments(id, games_to_consider, matrix_ratings, mask_ratings, cos_sim_matrix, users_table, games_table, type='random', k=40, threshold=-1)\n",
    "        avg_pos_r_200.append(pos)\n",
    "        avg_neg_r_200.append(neg)\n",
    "    print(f\"Average for 200 users no thresold, k=40\\nSimi pos: {np.mean(avg_pos_s_200)}, neg: {np.mean(avg_neg_s_200)}\\\n",
    "      Less_simi pos: {np.mean(avg_pos_ls_200)}, neg: {np.mean(avg_neg_ls_200)}\\\n",
    "      Random pos: {np.mean(avg_pos_r_200)}, neg: {np.mean(avg_neg_r_200)}\\n\")"
   ]
  },
  {
   "cell_type": "code",
   "execution_count": 426,
   "metadata": {},
   "outputs": [
    {
     "name": "stdout",
     "output_type": "stream",
     "text": [
      "Average for 200 users no thresold, k=40\n",
      "Simi pos: 32.44, neg: 35.925      Less_simi pos: 0.22, neg: 0.305      Random pos: 5.99, neg: 5.125\n",
      "\n"
     ]
    }
   ],
   "source": [
    "print(f\"Average for 200 users no thresold, k=40\\nSimi pos: {np.mean(avg_pos_s_200)}, neg: {np.mean(avg_neg_s_200)}\\\n",
    "      Less_simi pos: {np.mean(avg_pos_ls_200)}, neg: {np.mean(avg_neg_ls_200)}\\\n",
    "      Random pos: {np.mean(avg_pos_r_200)}, neg: {np.mean(avg_neg_r_200)}\\n\")"
   ]
  },
  {
   "cell_type": "code",
   "execution_count": 427,
   "metadata": {},
   "outputs": [
    {
     "data": {
      "text/html": [
       "<div>\n",
       "<style scoped>\n",
       "    .dataframe tbody tr th:only-of-type {\n",
       "        vertical-align: middle;\n",
       "    }\n",
       "\n",
       "    .dataframe tbody tr th {\n",
       "        vertical-align: top;\n",
       "    }\n",
       "\n",
       "    .dataframe thead th {\n",
       "        text-align: right;\n",
       "    }\n",
       "</style>\n",
       "<table border=\"1\" class=\"dataframe\">\n",
       "  <thead>\n",
       "    <tr style=\"text-align: right;\">\n",
       "      <th></th>\n",
       "      <th>count</th>\n",
       "      <th>User</th>\n",
       "      <th>Type</th>\n",
       "    </tr>\n",
       "  </thead>\n",
       "  <tbody>\n",
       "    <tr>\n",
       "      <th>0</th>\n",
       "      <td>3</td>\n",
       "      <td>Similar</td>\n",
       "      <td>Positive Reviews</td>\n",
       "    </tr>\n",
       "    <tr>\n",
       "      <th>1</th>\n",
       "      <td>98</td>\n",
       "      <td>Similar</td>\n",
       "      <td>Positive Reviews</td>\n",
       "    </tr>\n",
       "    <tr>\n",
       "      <th>2</th>\n",
       "      <td>99</td>\n",
       "      <td>Similar</td>\n",
       "      <td>Positive Reviews</td>\n",
       "    </tr>\n",
       "    <tr>\n",
       "      <th>3</th>\n",
       "      <td>0</td>\n",
       "      <td>Similar</td>\n",
       "      <td>Positive Reviews</td>\n",
       "    </tr>\n",
       "    <tr>\n",
       "      <th>4</th>\n",
       "      <td>61</td>\n",
       "      <td>Similar</td>\n",
       "      <td>Positive Reviews</td>\n",
       "    </tr>\n",
       "    <tr>\n",
       "      <th>...</th>\n",
       "      <td>...</td>\n",
       "      <td>...</td>\n",
       "      <td>...</td>\n",
       "    </tr>\n",
       "    <tr>\n",
       "      <th>195</th>\n",
       "      <td>0</td>\n",
       "      <td>Random</td>\n",
       "      <td>Negative Reviews</td>\n",
       "    </tr>\n",
       "    <tr>\n",
       "      <th>196</th>\n",
       "      <td>19</td>\n",
       "      <td>Random</td>\n",
       "      <td>Negative Reviews</td>\n",
       "    </tr>\n",
       "    <tr>\n",
       "      <th>197</th>\n",
       "      <td>0</td>\n",
       "      <td>Random</td>\n",
       "      <td>Negative Reviews</td>\n",
       "    </tr>\n",
       "    <tr>\n",
       "      <th>198</th>\n",
       "      <td>68</td>\n",
       "      <td>Random</td>\n",
       "      <td>Negative Reviews</td>\n",
       "    </tr>\n",
       "    <tr>\n",
       "      <th>199</th>\n",
       "      <td>0</td>\n",
       "      <td>Random</td>\n",
       "      <td>Negative Reviews</td>\n",
       "    </tr>\n",
       "  </tbody>\n",
       "</table>\n",
       "<p>1200 rows × 3 columns</p>\n",
       "</div>"
      ],
      "text/plain": [
       "     count     User              Type\n",
       "0        3  Similar  Positive Reviews\n",
       "1       98  Similar  Positive Reviews\n",
       "2       99  Similar  Positive Reviews\n",
       "3        0  Similar  Positive Reviews\n",
       "4       61  Similar  Positive Reviews\n",
       "..     ...      ...               ...\n",
       "195      0   Random  Negative Reviews\n",
       "196     19   Random  Negative Reviews\n",
       "197      0   Random  Negative Reviews\n",
       "198     68   Random  Negative Reviews\n",
       "199      0   Random  Negative Reviews\n",
       "\n",
       "[1200 rows x 3 columns]"
      ]
     },
     "execution_count": 427,
     "metadata": {},
     "output_type": "execute_result"
    }
   ],
   "source": [
    "simi = pd.DataFrame({\"count\" : avg_pos_s_200, \"User\" : \"Similar\",\"Type\" : \"Positive Reviews\"})\n",
    "random = pd.DataFrame({\"count\" : avg_pos_r_200, \"User\" : \"Random\",\"Type\" : \"Positive Reviews\"})\n",
    "less_simi = pd.DataFrame({\"count\" : avg_pos_ls_200, \"User\" : \"Less Similar\",\"Type\" : \"Positive Reviews\"})\n",
    "\n",
    "df_pos_neg_ntshold = pd.concat([simi, less_simi, random])\n",
    "\n",
    "simi = pd.DataFrame({\"count\" : avg_neg_s_200, \"User\" : \"Similar\",\"Type\" : \"Negative Reviews\"})\n",
    "random = pd.DataFrame({\"count\" : avg_neg_r_200, \"User\" : \"Random\",\"Type\" : \"Negative Reviews\"})\n",
    "less_simi = pd.DataFrame({\"count\" : avg_neg_ls_200, \"User\" : \"Less Similar\",\"Type\" : \"Negative Reviews\"})\n",
    "\n",
    "df_pos_neg_ntshold = pd.concat([df_pos_neg_ntshold, simi, less_simi, random])\n",
    "df_pos_neg_ntshold"
   ]
  },
  {
   "cell_type": "code",
   "execution_count": 428,
   "metadata": {},
   "outputs": [
    {
     "data": {
      "text/html": [
       "<div>\n",
       "<style scoped>\n",
       "    .dataframe tbody tr th:only-of-type {\n",
       "        vertical-align: middle;\n",
       "    }\n",
       "\n",
       "    .dataframe tbody tr th {\n",
       "        vertical-align: top;\n",
       "    }\n",
       "\n",
       "    .dataframe thead th {\n",
       "        text-align: right;\n",
       "    }\n",
       "</style>\n",
       "<table border=\"1\" class=\"dataframe\">\n",
       "  <thead>\n",
       "    <tr style=\"text-align: right;\">\n",
       "      <th></th>\n",
       "      <th>User</th>\n",
       "      <th>Type</th>\n",
       "      <th>count</th>\n",
       "    </tr>\n",
       "  </thead>\n",
       "  <tbody>\n",
       "    <tr>\n",
       "      <th>0</th>\n",
       "      <td>Less Similar</td>\n",
       "      <td>Mean Negative Reviews</td>\n",
       "      <td>0.305</td>\n",
       "    </tr>\n",
       "    <tr>\n",
       "      <th>1</th>\n",
       "      <td>Less Similar</td>\n",
       "      <td>Mean Positive Reviews</td>\n",
       "      <td>0.220</td>\n",
       "    </tr>\n",
       "    <tr>\n",
       "      <th>2</th>\n",
       "      <td>Random</td>\n",
       "      <td>Mean Negative Reviews</td>\n",
       "      <td>5.125</td>\n",
       "    </tr>\n",
       "    <tr>\n",
       "      <th>3</th>\n",
       "      <td>Random</td>\n",
       "      <td>Mean Positive Reviews</td>\n",
       "      <td>5.990</td>\n",
       "    </tr>\n",
       "    <tr>\n",
       "      <th>4</th>\n",
       "      <td>Similar</td>\n",
       "      <td>Mean Negative Reviews</td>\n",
       "      <td>35.925</td>\n",
       "    </tr>\n",
       "    <tr>\n",
       "      <th>5</th>\n",
       "      <td>Similar</td>\n",
       "      <td>Mean Positive Reviews</td>\n",
       "      <td>32.440</td>\n",
       "    </tr>\n",
       "  </tbody>\n",
       "</table>\n",
       "</div>"
      ],
      "text/plain": [
       "           User                   Type   count\n",
       "0  Less Similar  Mean Negative Reviews   0.305\n",
       "1  Less Similar  Mean Positive Reviews   0.220\n",
       "2        Random  Mean Negative Reviews   5.125\n",
       "3        Random  Mean Positive Reviews   5.990\n",
       "4       Similar  Mean Negative Reviews  35.925\n",
       "5       Similar  Mean Positive Reviews  32.440"
      ]
     },
     "execution_count": 428,
     "metadata": {},
     "output_type": "execute_result"
    }
   ],
   "source": [
    "group_means_not = df_pos_neg_ntshold.groupby(['User', 'Type'])['count'].mean()\n",
    "group_means_reset_not = group_means_not.reset_index()\n",
    "group_means_reset_not['Type'] = group_means_reset_not['Type'].replace({'Negative Reviews': 'Mean Negative Reviews','Positive Reviews': 'Mean Positive Reviews'})\n",
    "user_order = ['Similar', 'Random', 'Less Similar'] \n",
    "group_means_reset_not['User'] = pd.Categorical(group_means_reset_not['User'], categories=user_order, ordered=True)\n",
    "group_means_reset_not"
   ]
  },
  {
   "cell_type": "code",
   "execution_count": null,
   "metadata": {},
   "outputs": [
    {
     "data": {
      "image/png": "[encoded data removed]",
      "text/plain": [
       "<Figure size 800x600 with 1 Axes>"
      ]
     },
     "metadata": {},
     "output_type": "display_data"
    }
   ],
   "source": [
    "plt.figure(figsize=(8, 6))\n",
    "ax = sns.violinplot(data=df_pos_neg_ntshold, x=\"User\", y=\"count\", hue=\"Type\",density_norm='width',order=[\"Similar\", \"Random\", \"Less Similar\"], cut=0)\n",
    "plt.xlabel(\"Number of common bigrams\")\n",
    "plt.ylabel(\"Type of users\")\n",
    "plt.title(\"Number of common bigrams between a user and 40 other users for 200 users\")\n",
    "\n",
    "custom_palette = {\n",
    "    'Mean Positive Reviews': '#4554ff', # nuance blue  \n",
    "    'Mean Negative Reviews': '#ff6f00', # nuance orange\n",
    "}\n",
    "\n",
    "sns.stripplot(\n",
    "    data=group_means_reset_not,\n",
    "    x='User',\n",
    "    y='count',\n",
    "    hue='Type',\n",
    "    dodge=True,\n",
    "    hue_order=['Mean Positive Reviews', 'Mean Negative Reviews'],       \n",
    "    jitter=True,     \n",
    "    marker='o', \n",
    "    palette=custom_palette,       \n",
    ")\n",
    "plt.savefig(\"../images/vplot_common_big_200_ntshold.png\")"
   ]
  },
  {
   "cell_type": "markdown",
   "metadata": {},
   "source": [
    "### With threshold = 0.13 "
   ]
  },
  {
   "cell_type": "code",
   "execution_count": 430,
   "metadata": {},
   "outputs": [
    {
     "name": "stdout",
     "output_type": "stream",
     "text": [
      "Average for 200 users no thresold, k=40\n",
      "Simi pos: 8.545, neg: 9.735      Less_simi pos: 0.035, neg: 0.055      Random pos: 0.89, neg: 1.055\n",
      "\n",
      "Average for 200 users no thresold, k=40\n",
      "Simi pos: 9.995, neg: 11.245      Less_simi pos: 0.055, neg: 0.025      Random pos: 0.985, neg: 0.935\n",
      "\n",
      "Average for 200 users no thresold, k=40\n",
      "Simi pos: 7.635, neg: 8.475      Less_simi pos: 0.015, neg: 0.02      Random pos: 0.88, neg: 1.02\n",
      "\n",
      "Average for 200 users no thresold, k=40\n",
      "Simi pos: 9.01, neg: 9.92      Less_simi pos: 0.015, neg: 0.025      Random pos: 0.865, neg: 1.095\n",
      "\n",
      "Average for 200 users no thresold, k=40\n",
      "Simi pos: 9.615, neg: 11.66      Less_simi pos: 0.02, neg: 0.02      Random pos: 0.955, neg: 1.055\n",
      "\n"
     ]
    }
   ],
   "source": [
    "n_users = 200\n",
    "for _ in range(5):\n",
    "    users_ids_samp = comments_all.sample(n=n_users)['User id']\n",
    "\n",
    "    avg_pos_s_200 = []\n",
    "    avg_neg_s_200 = []\n",
    "    avg_pos_ls_200 = []\n",
    "    avg_neg_ls_200 = []\n",
    "    avg_pos_r_200 = []\n",
    "    avg_neg_r_200 = []\n",
    "\n",
    "    for id in users_ids_samp:\n",
    "        # simi\n",
    "        pos, neg = knn_comments(id, games_to_consider, matrix_ratings, mask_ratings, cos_sim_matrix, users_table, games_table, type='simi', k=40, threshold=0.13)\n",
    "        avg_pos_s_200.append(pos)\n",
    "        avg_neg_s_200.append(neg)\n",
    "\n",
    "        # less_simi\n",
    "        pos, neg = knn_comments(id, games_to_consider, matrix_ratings, mask_ratings, cos_sim_matrix, users_table, games_table, type='less_simi', k=40, threshold=0.13)\n",
    "        avg_pos_ls_200.append(pos)\n",
    "        avg_neg_ls_200.append(neg)\n",
    "\n",
    "        # random\n",
    "        pos, neg = knn_comments(id, games_to_consider, matrix_ratings, mask_ratings, cos_sim_matrix, users_table, games_table, type='random', k=40, threshold=0.13)\n",
    "        avg_pos_r_200.append(pos)\n",
    "        avg_neg_r_200.append(neg)\n",
    "    print(f\"Average for 200 users no thresold, k=40\\nSimi pos: {np.mean(avg_pos_s_200)}, neg: {np.mean(avg_neg_s_200)}\\\n",
    "      Less_simi pos: {np.mean(avg_pos_ls_200)}, neg: {np.mean(avg_neg_ls_200)}\\\n",
    "      Random pos: {np.mean(avg_pos_r_200)}, neg: {np.mean(avg_neg_r_200)}\\n\")\n",
    "    \n"
   ]
  },
  {
   "cell_type": "code",
   "execution_count": 431,
   "metadata": {},
   "outputs": [
    {
     "name": "stdout",
     "output_type": "stream",
     "text": [
      "Average for 200 users thresold = 0.13, k=40\n",
      "Simi pos: 9.615, neg: 11.66    Less_simi pos: 0.02, neg: 0.02    Random pos: 0.955, neg: 1.055\n",
      "\n"
     ]
    }
   ],
   "source": [
    "print(f\"Average for 200 users thresold = 0.13, k=40\\nSimi pos: {np.mean(avg_pos_s_200)}, neg: {np.mean(avg_neg_s_200)}\\\n",
    "    Less_simi pos: {np.mean(avg_pos_ls_200)}, neg: {np.mean(avg_neg_ls_200)}\\\n",
    "    Random pos: {np.mean(avg_pos_r_200)}, neg: {np.mean(avg_neg_r_200)}\\n\")"
   ]
  },
  {
   "cell_type": "code",
   "execution_count": 432,
   "metadata": {},
   "outputs": [
    {
     "data": {
      "text/html": [
       "<div>\n",
       "<style scoped>\n",
       "    .dataframe tbody tr th:only-of-type {\n",
       "        vertical-align: middle;\n",
       "    }\n",
       "\n",
       "    .dataframe tbody tr th {\n",
       "        vertical-align: top;\n",
       "    }\n",
       "\n",
       "    .dataframe thead th {\n",
       "        text-align: right;\n",
       "    }\n",
       "</style>\n",
       "<table border=\"1\" class=\"dataframe\">\n",
       "  <thead>\n",
       "    <tr style=\"text-align: right;\">\n",
       "      <th></th>\n",
       "      <th>count</th>\n",
       "      <th>User</th>\n",
       "      <th>Type</th>\n",
       "    </tr>\n",
       "  </thead>\n",
       "  <tbody>\n",
       "    <tr>\n",
       "      <th>0</th>\n",
       "      <td>0</td>\n",
       "      <td>Similar</td>\n",
       "      <td>Positive Reviews</td>\n",
       "    </tr>\n",
       "    <tr>\n",
       "      <th>1</th>\n",
       "      <td>0</td>\n",
       "      <td>Similar</td>\n",
       "      <td>Positive Reviews</td>\n",
       "    </tr>\n",
       "    <tr>\n",
       "      <th>2</th>\n",
       "      <td>11</td>\n",
       "      <td>Similar</td>\n",
       "      <td>Positive Reviews</td>\n",
       "    </tr>\n",
       "    <tr>\n",
       "      <th>3</th>\n",
       "      <td>0</td>\n",
       "      <td>Similar</td>\n",
       "      <td>Positive Reviews</td>\n",
       "    </tr>\n",
       "    <tr>\n",
       "      <th>4</th>\n",
       "      <td>0</td>\n",
       "      <td>Similar</td>\n",
       "      <td>Positive Reviews</td>\n",
       "    </tr>\n",
       "    <tr>\n",
       "      <th>...</th>\n",
       "      <td>...</td>\n",
       "      <td>...</td>\n",
       "      <td>...</td>\n",
       "    </tr>\n",
       "    <tr>\n",
       "      <th>195</th>\n",
       "      <td>0</td>\n",
       "      <td>Random</td>\n",
       "      <td>Negative Reviews</td>\n",
       "    </tr>\n",
       "    <tr>\n",
       "      <th>196</th>\n",
       "      <td>0</td>\n",
       "      <td>Random</td>\n",
       "      <td>Negative Reviews</td>\n",
       "    </tr>\n",
       "    <tr>\n",
       "      <th>197</th>\n",
       "      <td>0</td>\n",
       "      <td>Random</td>\n",
       "      <td>Negative Reviews</td>\n",
       "    </tr>\n",
       "    <tr>\n",
       "      <th>198</th>\n",
       "      <td>0</td>\n",
       "      <td>Random</td>\n",
       "      <td>Negative Reviews</td>\n",
       "    </tr>\n",
       "    <tr>\n",
       "      <th>199</th>\n",
       "      <td>0</td>\n",
       "      <td>Random</td>\n",
       "      <td>Negative Reviews</td>\n",
       "    </tr>\n",
       "  </tbody>\n",
       "</table>\n",
       "<p>1200 rows × 3 columns</p>\n",
       "</div>"
      ],
      "text/plain": [
       "     count     User              Type\n",
       "0        0  Similar  Positive Reviews\n",
       "1        0  Similar  Positive Reviews\n",
       "2       11  Similar  Positive Reviews\n",
       "3        0  Similar  Positive Reviews\n",
       "4        0  Similar  Positive Reviews\n",
       "..     ...      ...               ...\n",
       "195      0   Random  Negative Reviews\n",
       "196      0   Random  Negative Reviews\n",
       "197      0   Random  Negative Reviews\n",
       "198      0   Random  Negative Reviews\n",
       "199      0   Random  Negative Reviews\n",
       "\n",
       "[1200 rows x 3 columns]"
      ]
     },
     "execution_count": 432,
     "metadata": {},
     "output_type": "execute_result"
    }
   ],
   "source": [
    "simi = pd.DataFrame({\"count\" : avg_pos_s_200, \"User\" : \"Similar\",\"Type\" : \"Positive Reviews\"})\n",
    "random = pd.DataFrame({\"count\" : avg_pos_r_200, \"User\" : \"Random\",\"Type\" : \"Positive Reviews\"})\n",
    "less_simi = pd.DataFrame({\"count\" : avg_pos_ls_200, \"User\" : \"Less Similar\",\"Type\" : \"Positive Reviews\"})\n",
    "\n",
    "df_pos_neg = pd.concat([simi, less_simi, random])\n",
    "\n",
    "simi = pd.DataFrame({\"count\" : avg_neg_s_200, \"User\" : \"Similar\",\"Type\" : \"Negative Reviews\"})\n",
    "random = pd.DataFrame({\"count\" : avg_neg_r_200, \"User\" : \"Random\",\"Type\" : \"Negative Reviews\"})\n",
    "less_simi = pd.DataFrame({\"count\" : avg_neg_ls_200, \"User\" : \"Less Similar\",\"Type\" : \"Negative Reviews\"})\n",
    "\n",
    "df_pos_neg = pd.concat([df_pos_neg, simi, less_simi, random])\n",
    "df_pos_neg"
   ]
  },
  {
   "cell_type": "code",
   "execution_count": 433,
   "metadata": {},
   "outputs": [
    {
     "data": {
      "text/html": [
       "<div>\n",
       "<style scoped>\n",
       "    .dataframe tbody tr th:only-of-type {\n",
       "        vertical-align: middle;\n",
       "    }\n",
       "\n",
       "    .dataframe tbody tr th {\n",
       "        vertical-align: top;\n",
       "    }\n",
       "\n",
       "    .dataframe thead th {\n",
       "        text-align: right;\n",
       "    }\n",
       "</style>\n",
       "<table border=\"1\" class=\"dataframe\">\n",
       "  <thead>\n",
       "    <tr style=\"text-align: right;\">\n",
       "      <th></th>\n",
       "      <th>User</th>\n",
       "      <th>Type</th>\n",
       "      <th>count</th>\n",
       "    </tr>\n",
       "  </thead>\n",
       "  <tbody>\n",
       "    <tr>\n",
       "      <th>0</th>\n",
       "      <td>Less Similar</td>\n",
       "      <td>Mean Negative Reviews</td>\n",
       "      <td>0.020</td>\n",
       "    </tr>\n",
       "    <tr>\n",
       "      <th>1</th>\n",
       "      <td>Less Similar</td>\n",
       "      <td>Mean Positive Reviews</td>\n",
       "      <td>0.020</td>\n",
       "    </tr>\n",
       "    <tr>\n",
       "      <th>2</th>\n",
       "      <td>Random</td>\n",
       "      <td>Mean Negative Reviews</td>\n",
       "      <td>1.055</td>\n",
       "    </tr>\n",
       "    <tr>\n",
       "      <th>3</th>\n",
       "      <td>Random</td>\n",
       "      <td>Mean Positive Reviews</td>\n",
       "      <td>0.955</td>\n",
       "    </tr>\n",
       "    <tr>\n",
       "      <th>4</th>\n",
       "      <td>Similar</td>\n",
       "      <td>Mean Negative Reviews</td>\n",
       "      <td>11.660</td>\n",
       "    </tr>\n",
       "    <tr>\n",
       "      <th>5</th>\n",
       "      <td>Similar</td>\n",
       "      <td>Mean Positive Reviews</td>\n",
       "      <td>9.615</td>\n",
       "    </tr>\n",
       "  </tbody>\n",
       "</table>\n",
       "</div>"
      ],
      "text/plain": [
       "           User                   Type   count\n",
       "0  Less Similar  Mean Negative Reviews   0.020\n",
       "1  Less Similar  Mean Positive Reviews   0.020\n",
       "2        Random  Mean Negative Reviews   1.055\n",
       "3        Random  Mean Positive Reviews   0.955\n",
       "4       Similar  Mean Negative Reviews  11.660\n",
       "5       Similar  Mean Positive Reviews   9.615"
      ]
     },
     "execution_count": 433,
     "metadata": {},
     "output_type": "execute_result"
    }
   ],
   "source": [
    "group_means = df_pos_neg.groupby(['User', 'Type'])['count'].mean()\n",
    "group_means_reset = group_means.reset_index()\n",
    "group_means_reset['Type'] = group_means_reset['Type'].replace({'Negative Reviews': 'Mean Negative Reviews','Positive Reviews': 'Mean Positive Reviews'})\n",
    "user_order = ['Similar', 'Random', 'Less Similar'] \n",
    "group_means_reset['User'] = pd.Categorical(group_means_reset['User'], categories=user_order, ordered=True)\n",
    "group_means_reset"
   ]
  },
  {
   "cell_type": "code",
   "execution_count": 434,
   "metadata": {},
   "outputs": [
    {
     "data": {
      "image/png": "[encoded data removed]",
      "text/plain": [
       "<Figure size 800x600 with 1 Axes>"
      ]
     },
     "metadata": {},
     "output_type": "display_data"
    }
   ],
   "source": [
    "plt.figure(figsize=(8, 6))\n",
    "ax = sns.violinplot(data=df_pos_neg, x=\"User\", y=\"count\", hue=\"Type\",density_norm='width',order=[\"Similar\", \"Random\", \"Less Similar\"], cut=0)\n",
    "plt.xlabel(\"Number of common bigrams\")\n",
    "plt.ylabel(\"Type of users\")\n",
    "plt.title(\"Number of common filtered bigrams between a user and 40 other users, for 200 users \")\n",
    "\n",
    "custom_palette = {\n",
    "    'Mean Positive Reviews': '#4554ff', # nuance blue  \n",
    "    'Mean Negative Reviews': '#ff6f00', # nuance orange\n",
    "}\n",
    "\n",
    "sns.stripplot(\n",
    "    data=group_means_reset,\n",
    "    x='User',\n",
    "    y='count',\n",
    "    hue='Type',\n",
    "    dodge=True,\n",
    "    hue_order=['Mean Positive Reviews', 'Mean Negative Reviews'],       \n",
    "    jitter=True,     \n",
    "    marker='o', \n",
    "    palette=custom_palette,       \n",
    ")\n",
    "plt.savefig(\"../images/vplot_common_big_200_0.13tshold.png\")"
   ]
  },
  {
   "cell_type": "markdown",
   "metadata": {},
   "source": [
    "### difference with and without threshold"
   ]
  },
  {
   "cell_type": "code",
   "execution_count": 438,
   "metadata": {},
   "outputs": [],
   "source": [
    "def normal_df(data: pd.DataFrame) -> pd.DataFrame:\n",
    "    # normalise the column 'count'\n",
    "    df = data.copy(deep=True)\n",
    "    df['count'] = (df['count'] - min(df['count'])) / (max(df['count']) - min(df['count']))\n",
    "    return df"
   ]
  },
  {
   "cell_type": "code",
   "execution_count": 440,
   "metadata": {},
   "outputs": [],
   "source": [
    "norm_not = normal_df(group_means_reset_not) # no threshold\n",
    "norm_t = normal_df(group_means_reset)       # with threshold"
   ]
  },
  {
   "cell_type": "code",
   "execution_count": 441,
   "metadata": {},
   "outputs": [
    {
     "data": {
      "text/html": [
       "<div>\n",
       "<style scoped>\n",
       "    .dataframe tbody tr th:only-of-type {\n",
       "        vertical-align: middle;\n",
       "    }\n",
       "\n",
       "    .dataframe tbody tr th {\n",
       "        vertical-align: top;\n",
       "    }\n",
       "\n",
       "    .dataframe thead th {\n",
       "        text-align: right;\n",
       "    }\n",
       "</style>\n",
       "<table border=\"1\" class=\"dataframe\">\n",
       "  <thead>\n",
       "    <tr style=\"text-align: right;\">\n",
       "      <th></th>\n",
       "      <th>User</th>\n",
       "      <th>Type</th>\n",
       "      <th>count</th>\n",
       "    </tr>\n",
       "  </thead>\n",
       "  <tbody>\n",
       "    <tr>\n",
       "      <th>0</th>\n",
       "      <td>Less Similar</td>\n",
       "      <td>Mean Negative Reviews</td>\n",
       "      <td>0.000000</td>\n",
       "    </tr>\n",
       "    <tr>\n",
       "      <th>1</th>\n",
       "      <td>Less Similar</td>\n",
       "      <td>Mean Positive Reviews</td>\n",
       "      <td>0.000000</td>\n",
       "    </tr>\n",
       "    <tr>\n",
       "      <th>2</th>\n",
       "      <td>Random</td>\n",
       "      <td>Mean Negative Reviews</td>\n",
       "      <td>0.088918</td>\n",
       "    </tr>\n",
       "    <tr>\n",
       "      <th>3</th>\n",
       "      <td>Random</td>\n",
       "      <td>Mean Positive Reviews</td>\n",
       "      <td>0.080326</td>\n",
       "    </tr>\n",
       "    <tr>\n",
       "      <th>4</th>\n",
       "      <td>Similar</td>\n",
       "      <td>Mean Negative Reviews</td>\n",
       "      <td>1.000000</td>\n",
       "    </tr>\n",
       "    <tr>\n",
       "      <th>5</th>\n",
       "      <td>Similar</td>\n",
       "      <td>Mean Positive Reviews</td>\n",
       "      <td>0.824313</td>\n",
       "    </tr>\n",
       "  </tbody>\n",
       "</table>\n",
       "</div>"
      ],
      "text/plain": [
       "           User                   Type     count\n",
       "0  Less Similar  Mean Negative Reviews  0.000000\n",
       "1  Less Similar  Mean Positive Reviews  0.000000\n",
       "2        Random  Mean Negative Reviews  0.088918\n",
       "3        Random  Mean Positive Reviews  0.080326\n",
       "4       Similar  Mean Negative Reviews  1.000000\n",
       "5       Similar  Mean Positive Reviews  0.824313"
      ]
     },
     "execution_count": 441,
     "metadata": {},
     "output_type": "execute_result"
    }
   ],
   "source": [
    "norm_t"
   ]
  },
  {
   "cell_type": "code",
   "execution_count": 455,
   "metadata": {},
   "outputs": [
    {
     "data": {
      "image/png": "[encoded data removed]",
      "text/plain": [
       "<Figure size 1500x600 with 2 Axes>"
      ]
     },
     "metadata": {},
     "output_type": "display_data"
    }
   ],
   "source": [
    "fig, ax = plt.subplots(1, 2, figsize=(15, 6))\n",
    "\n",
    "sns.lineplot(data=norm_t, x='User', y=\"count\", style=\"Type\", ax=ax[0])\n",
    "ax[0].set_title(\"Number of common bigrams, 200 users with threshold=0.13\")\n",
    "ax[0].set_ylabel(\"Normalized number of common bigrams\")\n",
    "ax[0].set_xlabel(\"Type of other users\")\n",
    "sns.lineplot(data=norm_not, x='User', y=\"count\", style=\"Type\", ax=ax[1])\n",
    "ax[1].set_title(\"Number of common bigrams, 200 users without threshold\")\n",
    "ax[1].set_ylabel(\"\")\n",
    "ax[1].set_xlabel(\"Type of other users\")\n",
    "plt.tight_layout()\n",
    "\n",
    "plt.savefig(\"../images/diff_threshold_bigram_intersect.png\")"
   ]
  },
  {
   "cell_type": "code",
   "execution_count": null,
   "metadata": {},
   "outputs": [],
   "source": []
  }
 ],
 "metadata": {
  "kernelspec": {
   "display_name": "py11",
   "language": "python",
   "name": "python3"
  },
  "language_info": {
   "codemirror_mode": {
    "name": "ipython",
    "version": 3
   },
   "file_extension": ".py",
   "mimetype": "text/x-python",
   "name": "python",
   "nbconvert_exporter": "python",
   "pygments_lexer": "ipython3",
   "version": "3.11.9"
  }
 },
 "nbformat": 4,
 "nbformat_minor": 2
}

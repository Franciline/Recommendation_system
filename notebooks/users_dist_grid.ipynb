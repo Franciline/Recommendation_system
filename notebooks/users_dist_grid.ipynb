{
 "cells": [
  {
   "cell_type": "code",
   "execution_count": 2,
   "metadata": {},
   "outputs": [],
   "source": [
    "import numpy as np\n",
    "import pandas as pd\n",
    "import seaborn as sns\n",
    "from reco_systems.filter import filter_df\n",
    "from reco_systems.CF_knn import calc_similarity_matrix, get_KNN\n",
    "from reco_systems.user_game_matrix import get_matrix_user_game"
   ]
  },
  {
   "cell_type": "code",
   "execution_count": null,
   "metadata": {},
   "outputs": [],
   "source": [
    "folder = \"database_cleaned\"\n",
    "avis_clean  = pd.read_csv(f\"{folder}/avis_clean.csv\", index_col=0)\n",
    "jeux_clean  = pd.read_csv(f\"{folder}/jeux_clean.csv\", index_col=0)\n",
    "users       = pd.read_csv(f\"trictrac_database/users.csv\", names=[\"Username\", \"User id\"])\n",
    "\n"
   ]
  },
  {
   "cell_type": "code",
   "execution_count": null,
   "metadata": {},
   "outputs": [
    {
     "name": "stdout",
     "output_type": "stream",
     "text": [
      "11201 10549\n",
      "3242 3957\n",
      "3006 3910\n",
      "3003 3910\n"
     ]
    }
   ],
   "source": [
    "# Filter for min_reviews for users & games\n",
    "min_reviews = 5\n",
    "rev_filter = filter_df(avis_clean, min_reviews)"
   ]
  },
  {
   "cell_type": "code",
   "execution_count": null,
   "metadata": {},
   "outputs": [],
   "source": [
    "# generate user-game matrix\n",
    "matrix_ratings, mask_ratings, users_table, games_table = get_matrix_user_game(rev_filter)"
   ]
  },
  {
   "cell_type": "code",
   "execution_count": null,
   "metadata": {},
   "outputs": [
    {
     "data": {
      "text/plain": [
       "array([[0.        , 0.90631531, 0.84503229, ..., 1.        , 1.        ,\n",
       "        0.98883848],\n",
       "       [0.90631531, 0.        , 0.70944996, ..., 0.98849347, 1.        ,\n",
       "        0.99491711],\n",
       "       [0.84503229, 0.70944996, 0.        , ..., 1.        , 1.        ,\n",
       "        0.98260143],\n",
       "       ...,\n",
       "       [1.        , 0.98849347, 1.        , ..., 0.        , 1.        ,\n",
       "        1.        ],\n",
       "       [1.        , 1.        , 1.        , ..., 1.        , 0.        ,\n",
       "        1.        ],\n",
       "       [0.98883848, 0.99491711, 0.98260143, ..., 1.        , 1.        ,\n",
       "        0.        ]], shape=(3003, 3003))"
      ]
     },
     "execution_count": 6,
     "metadata": {},
     "output_type": "execute_result"
    }
   ],
   "source": [
    "# cosine similarity matrix, set k = sqrt(nb users)\n",
    "cos_sim_matrix, _ = calc_similarity_matrix(matrix_ratings, mask_ratings, \"cos\")\n",
    "k = int(np.sqrt(cos_sim_matrix.shape[0]))\n",
    "cos_sim_matrix"
   ]
  },
  {
   "cell_type": "markdown",
   "metadata": {},
   "source": [
    "Division of users by reviews\n",
    "1. plus que 400\n",
    "2. entre 100 et 400\n",
    "3. de 6 à 100"
   ]
  },
  {
   "cell_type": "code",
   "execution_count": null,
   "metadata": {},
   "outputs": [
    {
     "data": {
      "text/html": [
       "<div>\n",
       "<style scoped>\n",
       "    .dataframe tbody tr th:only-of-type {\n",
       "        vertical-align: middle;\n",
       "    }\n",
       "\n",
       "    .dataframe tbody tr th {\n",
       "        vertical-align: top;\n",
       "    }\n",
       "\n",
       "    .dataframe thead th {\n",
       "        text-align: right;\n",
       "    }\n",
       "</style>\n",
       "<table border=\"1\" class=\"dataframe\">\n",
       "  <thead>\n",
       "    <tr style=\"text-align: right;\">\n",
       "      <th></th>\n",
       "      <th>Game id</th>\n",
       "    </tr>\n",
       "    <tr>\n",
       "      <th>User id</th>\n",
       "      <th></th>\n",
       "    </tr>\n",
       "  </thead>\n",
       "  <tbody>\n",
       "    <tr>\n",
       "      <th>578</th>\n",
       "      <td>231</td>\n",
       "    </tr>\n",
       "    <tr>\n",
       "      <th>579</th>\n",
       "      <td>327</td>\n",
       "    </tr>\n",
       "    <tr>\n",
       "      <th>2397</th>\n",
       "      <td>134</td>\n",
       "    </tr>\n",
       "    <tr>\n",
       "      <th>1924</th>\n",
       "      <td>105</td>\n",
       "    </tr>\n",
       "    <tr>\n",
       "      <th>85</th>\n",
       "      <td>122</td>\n",
       "    </tr>\n",
       "    <tr>\n",
       "      <th>1198</th>\n",
       "      <td>157</td>\n",
       "    </tr>\n",
       "    <tr>\n",
       "      <th>2391</th>\n",
       "      <td>156</td>\n",
       "    </tr>\n",
       "    <tr>\n",
       "      <th>3836</th>\n",
       "      <td>140</td>\n",
       "    </tr>\n",
       "    <tr>\n",
       "      <th>584</th>\n",
       "      <td>189</td>\n",
       "    </tr>\n",
       "    <tr>\n",
       "      <th>2302</th>\n",
       "      <td>103</td>\n",
       "    </tr>\n",
       "    <tr>\n",
       "      <th>2389</th>\n",
       "      <td>200</td>\n",
       "    </tr>\n",
       "    <tr>\n",
       "      <th>666</th>\n",
       "      <td>112</td>\n",
       "    </tr>\n",
       "  </tbody>\n",
       "</table>\n",
       "</div>"
      ],
      "text/plain": [
       "         Game id\n",
       "User id         \n",
       "578          231\n",
       "579          327\n",
       "2397         134\n",
       "1924         105\n",
       "85           122\n",
       "1198         157\n",
       "2391         156\n",
       "3836         140\n",
       "584          189\n",
       "2302         103\n",
       "2389         200\n",
       "666          112"
      ]
     },
     "execution_count": 9,
     "metadata": {},
     "output_type": "execute_result"
    }
   ],
   "source": [
    "# Find users for who we will plot distances. Create dataframe : User index (in matrix), User id (in DB), Count reviews (per user)\n",
    "#users_ids = rev_filter[[\"User id\", \"Game id\"]].groupby(\"User id\", as_index=True).count().sort_values(\"Game id\", ascending=False).head(12)\n",
    "users_ids =  rev_filter[[\"User id\", \"Game id\"]].groupby(\"User id\", as_index=True).count()\n",
    "users_ids = users_ids[(users_ids[\"Game id\"] >= 100)& (users_ids[\"Game id\"] < 420)].sample(12)\n",
    "\n",
    "assoc = users_table.to_frame().merge(users_ids, left_on=\"User id\", right_index=True).reset_index()\n",
    "assoc.columns = [\"User index\", \"User id\", \"Count reviews\"]\n",
    "user_indices = assoc[\"User index\"].to_numpy() # contains selected users indices\n",
    "\n",
    "users_ids "
   ]
  },
  {
   "cell_type": "code",
   "execution_count": null,
   "metadata": {},
   "outputs": [
    {
     "data": {
      "text/plain": [
       "(12, 54)"
      ]
     },
     "execution_count": 135,
     "metadata": {},
     "output_type": "execute_result"
    }
   ],
   "source": [
    "# for each user -> find similar k users -> then find an array of distances (only for these k users)\n",
    "users_knn = np.array([cos_sim_matrix[user, get_KNN(cos_sim_matrix, k=k, user_ind=user, dtype=\"cos\")[:k]] for user in user_indices])\n",
    "users_knn.shape"
   ]
  },
  {
   "cell_type": "code",
   "execution_count": null,
   "metadata": {},
   "outputs": [
    {
     "data": {
      "text/plain": [
       "((648,), (648,))"
      ]
     },
     "execution_count": 137,
     "metadata": {},
     "output_type": "execute_result"
    }
   ],
   "source": [
    "user_distances = np.round(users_knn, 2) # eliminate distance precision \n",
    "dist_for_df  = user_distances.ravel()   # N-D to 1-D array\n",
    "users_for_df = np.repeat(user_indices, k) # repeat each user's index k times (to construct dataframe in the next cell)\n",
    "users_for_df.shape, dist_for_df.shape"
   ]
  },
  {
   "cell_type": "code",
   "execution_count": null,
   "metadata": {},
   "outputs": [
    {
     "data": {
      "text/html": [
       "<div>\n",
       "<style scoped>\n",
       "    .dataframe tbody tr th:only-of-type {\n",
       "        vertical-align: middle;\n",
       "    }\n",
       "\n",
       "    .dataframe tbody tr th {\n",
       "        vertical-align: top;\n",
       "    }\n",
       "\n",
       "    .dataframe thead th {\n",
       "        text-align: right;\n",
       "    }\n",
       "</style>\n",
       "<table border=\"1\" class=\"dataframe\">\n",
       "  <thead>\n",
       "    <tr style=\"text-align: right;\">\n",
       "      <th></th>\n",
       "      <th>Distance</th>\n",
       "      <th>User index</th>\n",
       "      <th>Number of users</th>\n",
       "    </tr>\n",
       "  </thead>\n",
       "  <tbody>\n",
       "    <tr>\n",
       "      <th>0</th>\n",
       "      <td>0.59</td>\n",
       "      <td>837</td>\n",
       "      <td>1</td>\n",
       "    </tr>\n",
       "    <tr>\n",
       "      <th>1</th>\n",
       "      <td>0.60</td>\n",
       "      <td>1208</td>\n",
       "      <td>1</td>\n",
       "    </tr>\n",
       "    <tr>\n",
       "      <th>2</th>\n",
       "      <td>0.61</td>\n",
       "      <td>470</td>\n",
       "      <td>1</td>\n",
       "    </tr>\n",
       "    <tr>\n",
       "      <th>3</th>\n",
       "      <td>0.61</td>\n",
       "      <td>1208</td>\n",
       "      <td>1</td>\n",
       "    </tr>\n",
       "    <tr>\n",
       "      <th>4</th>\n",
       "      <td>0.62</td>\n",
       "      <td>837</td>\n",
       "      <td>1</td>\n",
       "    </tr>\n",
       "    <tr>\n",
       "      <th>...</th>\n",
       "      <td>...</td>\n",
       "      <td>...</td>\n",
       "      <td>...</td>\n",
       "    </tr>\n",
       "    <tr>\n",
       "      <th>129</th>\n",
       "      <td>0.82</td>\n",
       "      <td>855</td>\n",
       "      <td>18</td>\n",
       "    </tr>\n",
       "    <tr>\n",
       "      <th>130</th>\n",
       "      <td>0.83</td>\n",
       "      <td>691</td>\n",
       "      <td>5</td>\n",
       "    </tr>\n",
       "    <tr>\n",
       "      <th>131</th>\n",
       "      <td>0.83</td>\n",
       "      <td>855</td>\n",
       "      <td>3</td>\n",
       "    </tr>\n",
       "    <tr>\n",
       "      <th>132</th>\n",
       "      <td>0.84</td>\n",
       "      <td>691</td>\n",
       "      <td>8</td>\n",
       "    </tr>\n",
       "    <tr>\n",
       "      <th>133</th>\n",
       "      <td>0.85</td>\n",
       "      <td>691</td>\n",
       "      <td>11</td>\n",
       "    </tr>\n",
       "  </tbody>\n",
       "</table>\n",
       "<p>134 rows × 3 columns</p>\n",
       "</div>"
      ],
      "text/plain": [
       "     Distance  User index  Number of users\n",
       "0        0.59         837                1\n",
       "1        0.60        1208                1\n",
       "2        0.61         470                1\n",
       "3        0.61        1208                1\n",
       "4        0.62         837                1\n",
       "..        ...         ...              ...\n",
       "129      0.82         855               18\n",
       "130      0.83         691                5\n",
       "131      0.83         855                3\n",
       "132      0.84         691                8\n",
       "133      0.85         691               11\n",
       "\n",
       "[134 rows x 3 columns]"
      ]
     },
     "execution_count": 138,
     "metadata": {},
     "output_type": "execute_result"
    }
   ],
   "source": [
    "# Constuct Dataframe : where to each user index we associate an array of distances of k nearest users \n",
    "# e.g. if for user 0 we get k=3 similar users with distances [d1, d2, d3] then the dataframe will contain\n",
    "# User index | Distance\n",
    "# 0          | d1\n",
    "# 0          | d2\n",
    "# 0          | d3\n",
    "distance_to_users = pd.DataFrame({\"Distance\": dist_for_df, \"User index\":users_for_df}).sort_values(\"Distance\")\n",
    "\n",
    "# Group by User index, distance (precision already eliminated) and apply .size(), i.e.\n",
    "# for each user X we count how many similar users have the distance d.dd to the user X\n",
    "distance_to_users = distance_to_users.groupby([\"Distance\", \"User index\"], as_index=True).size().reset_index(name=\"Number of users\")\n",
    "distance_to_users"
   ]
  },
  {
   "cell_type": "code",
   "execution_count": null,
   "metadata": {},
   "outputs": [
    {
     "data": {
      "text/plain": [
       "Text(0.5, 0.98, 'Users [100-420 reviews]. k = 54 cos')"
      ]
     },
     "execution_count": 139,
     "metadata": {},
     "output_type": "execute_result"
    },
    {
     "data": {
      "image/png": "[encoded data removed]",
      "text/plain": [
       "<Figure size 1200x900 with 12 Axes>"
      ]
     },
     "metadata": {},
     "output_type": "display_data"
    }
   ],
   "source": [
    "sns.set_theme(rc={'figure.figsize':(14,6)})\n",
    "\n",
    "# Grid with 4 columns\n",
    "g = sns.FacetGrid(distance_to_users, col=\"User index\", col_wrap=4, xlim=(0.4, 1.))\n",
    "\n",
    "# sns.scatterplot, \"Distance\", \"Number of users\" will be on each cell in a grid\n",
    "g.map(sns.scatterplot, \"Distance\", \"Number of users\") \n",
    "g.figure.subplots_adjust(top=0.9) # allocate space for title \n",
    "g.figure.suptitle(\"Users [100-420 reviews]. k = 54 cos\")"
   ]
  }
 ],
 "metadata": {
  "kernelspec": {
   "display_name": "venv",
   "language": "python",
   "name": "python3"
  },
  "language_info": {
   "codemirror_mode": {
    "name": "ipython",
    "version": 3
   },
   "file_extension": ".py",
   "mimetype": "text/x-python",
   "name": "python",
   "nbconvert_exporter": "python",
   "pygments_lexer": "ipython3",
   "version": "3.11.4"
  }
 },
 "nbformat": 4,
 "nbformat_minor": 2
}

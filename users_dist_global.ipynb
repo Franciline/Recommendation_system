{
 "cells": [
  {
   "cell_type": "code",
   "execution_count": 52,
   "metadata": {},
   "outputs": [],
   "source": [
    "import numpy as np\n",
    "import pandas as pd\n",
    "import seaborn as sns\n",
    "from reco_systems.filter import filter_df\n",
    "from reco_systems.CF_knn import calc_similarity_matrix, get_KNN\n",
    "from reco_systems.user_game_matrix import get_matrix_user_game"
   ]
  },
  {
   "cell_type": "code",
   "execution_count": 53,
   "metadata": {},
   "outputs": [],
   "source": [
    "# import DB et set min_reviews\n",
    "folder = \"database_cleaned\"\n",
    "avis_clean  = pd.read_csv(f\"{folder}/avis_clean.csv\", index_col=0)\n",
    "jeux_clean  = pd.read_csv(f\"{folder}/jeux_clean.csv\", index_col=0)\n",
    "users       = pd.read_csv(f\"trictrac_database/users.csv\", names=[\"Username\", \"User id\"])\n",
    "\n"
   ]
  },
  {
   "cell_type": "markdown",
   "metadata": {},
   "source": [
    "# Global vision on users distances distribution [sample = 5 users]"
   ]
  },
  {
   "cell_type": "code",
   "execution_count": 54,
   "metadata": {},
   "outputs": [
    {
     "name": "stdout",
     "output_type": "stream",
     "text": [
      "11201 10549\n",
      "3242 3957\n",
      "3006 3910\n",
      "3003 3910\n"
     ]
    }
   ],
   "source": [
    "# Filter for min_reviews for users & games\n",
    "min_reviews = 5\n",
    "rev_filter = filter_df(avis_clean, min_reviews)"
   ]
  },
  {
   "cell_type": "code",
   "execution_count": 56,
   "metadata": {},
   "outputs": [],
   "source": [
    "matrix_ratings, mask_ratings, users_table, games_table = get_matrix_user_game(rev_filter)\n",
    "# cos_sim_matrix, _ = calc_similarity_matrix(matrix_ratings, mask_ratings, \"cos\")\n",
    "# cos_sim_matrix\n",
    "cos_sim_matrix = np.load(\"generated_data/cos_sim_matrix_min5.npy\")"
   ]
  },
  {
   "cell_type": "markdown",
   "metadata": {},
   "source": [
    "Division of users by reviews\n",
    "1. plus que 400\n",
    "2. entre 100 et 400\n",
    "3. de 6 à 100"
   ]
  },
  {
   "cell_type": "code",
   "execution_count": 58,
   "metadata": {},
   "outputs": [
    {
     "data": {
      "text/html": [
       "<div>\n",
       "<style scoped>\n",
       "    .dataframe tbody tr th:only-of-type {\n",
       "        vertical-align: middle;\n",
       "    }\n",
       "\n",
       "    .dataframe tbody tr th {\n",
       "        vertical-align: top;\n",
       "    }\n",
       "\n",
       "    .dataframe thead th {\n",
       "        text-align: right;\n",
       "    }\n",
       "</style>\n",
       "<table border=\"1\" class=\"dataframe\">\n",
       "  <thead>\n",
       "    <tr style=\"text-align: right;\">\n",
       "      <th></th>\n",
       "      <th>Game id</th>\n",
       "    </tr>\n",
       "    <tr>\n",
       "      <th>User id</th>\n",
       "      <th></th>\n",
       "    </tr>\n",
       "  </thead>\n",
       "  <tbody>\n",
       "    <tr>\n",
       "      <th>910</th>\n",
       "      <td>16</td>\n",
       "    </tr>\n",
       "    <tr>\n",
       "      <th>863</th>\n",
       "      <td>99</td>\n",
       "    </tr>\n",
       "    <tr>\n",
       "      <th>2395</th>\n",
       "      <td>76</td>\n",
       "    </tr>\n",
       "    <tr>\n",
       "      <th>1048</th>\n",
       "      <td>9</td>\n",
       "    </tr>\n",
       "    <tr>\n",
       "      <th>3851</th>\n",
       "      <td>65</td>\n",
       "    </tr>\n",
       "  </tbody>\n",
       "</table>\n",
       "</div>"
      ],
      "text/plain": [
       "         Game id\n",
       "User id         \n",
       "910           16\n",
       "863           99\n",
       "2395          76\n",
       "1048           9\n",
       "3851          65"
      ]
     },
     "execution_count": 58,
     "metadata": {},
     "output_type": "execute_result"
    }
   ],
   "source": [
    "# Find users (5) for who we will plot distances. Create dataframe : User index (in matrix), User id (in DB), Count reviews (per user)\n",
    "\n",
    "# Case 1 : top 5 most active\n",
    "#users_ids = rev_filter[[\"User id\", \"Game id\"]].groupby(\"User id\", as_index=True).count().sort_values(\"Game id\", ascending=False).head(5) \n",
    "\n",
    "# Case 2 : random sample for users in a category \n",
    "users_ids = rev_filter[[\"User id\", \"Game id\"]].groupby(\"User id\", as_index=True).count()\n",
    "users_ids = users_ids[(users_ids[\"Game id\"] >= 6) & (users_ids[\"Game id\"] < 100)].sample(5)\n",
    "\n",
    "assoc = users_table.to_frame().merge(users_ids, left_on=\"User id\", right_index=True).reset_index()\n",
    "assoc.columns = [\"User index\", \"User id\", \"Count reviews\"]\n",
    "user_indices = assoc[\"User index\"].to_numpy()\n",
    "\n",
    "users_ids"
   ]
  },
  {
   "cell_type": "code",
   "execution_count": null,
   "metadata": {},
   "outputs": [
    {
     "data": {
      "text/plain": [
       "(5, 3002)"
      ]
     },
     "execution_count": 47,
     "metadata": {},
     "output_type": "execute_result"
    }
   ],
   "source": [
    "# Avoid taking distance to user himself (located at the matrix diagonal)\n",
    "users_dist = np.array([np.delete(cos_sim_matrix[user], user) for user in user_indices]) \n",
    "users_dist.shape"
   ]
  },
  {
   "cell_type": "code",
   "execution_count": 66,
   "metadata": {},
   "outputs": [
    {
     "data": {
      "text/plain": [
       "((15010,), (15010,))"
      ]
     },
     "execution_count": 66,
     "metadata": {},
     "output_type": "execute_result"
    }
   ],
   "source": [
    "user_distances = np.round(users_dist, 2)   # eliminate distance precision \n",
    "dist_for_df  = user_distances.ravel()          # N-D to 1-D array\n",
    "users_for_df = np.repeat(user_indices, 3002) # repeat each user's index k times (to construct dataframe in the next cell)\n",
    "users_for_df.shape, dist_for_df.shape"
   ]
  },
  {
   "cell_type": "code",
   "execution_count": 67,
   "metadata": {},
   "outputs": [
    {
     "data": {
      "text/html": [
       "<div>\n",
       "<style scoped>\n",
       "    .dataframe tbody tr th:only-of-type {\n",
       "        vertical-align: middle;\n",
       "    }\n",
       "\n",
       "    .dataframe tbody tr th {\n",
       "        vertical-align: top;\n",
       "    }\n",
       "\n",
       "    .dataframe thead th {\n",
       "        text-align: right;\n",
       "    }\n",
       "</style>\n",
       "<table border=\"1\" class=\"dataframe\">\n",
       "  <thead>\n",
       "    <tr style=\"text-align: right;\">\n",
       "      <th></th>\n",
       "      <th>Distance</th>\n",
       "      <th>User index</th>\n",
       "      <th>Number of users</th>\n",
       "    </tr>\n",
       "  </thead>\n",
       "  <tbody>\n",
       "    <tr>\n",
       "      <th>0</th>\n",
       "      <td>0.24</td>\n",
       "      <td>1800</td>\n",
       "      <td>1</td>\n",
       "    </tr>\n",
       "    <tr>\n",
       "      <th>1</th>\n",
       "      <td>0.58</td>\n",
       "      <td>538</td>\n",
       "      <td>1</td>\n",
       "    </tr>\n",
       "    <tr>\n",
       "      <th>2</th>\n",
       "      <td>0.68</td>\n",
       "      <td>538</td>\n",
       "      <td>1</td>\n",
       "    </tr>\n",
       "    <tr>\n",
       "      <th>3</th>\n",
       "      <td>0.69</td>\n",
       "      <td>538</td>\n",
       "      <td>1</td>\n",
       "    </tr>\n",
       "    <tr>\n",
       "      <th>4</th>\n",
       "      <td>0.70</td>\n",
       "      <td>538</td>\n",
       "      <td>1</td>\n",
       "    </tr>\n",
       "    <tr>\n",
       "      <th>...</th>\n",
       "      <td>...</td>\n",
       "      <td>...</td>\n",
       "      <td>...</td>\n",
       "    </tr>\n",
       "    <tr>\n",
       "      <th>124</th>\n",
       "      <td>1.00</td>\n",
       "      <td>459</td>\n",
       "      <td>2708</td>\n",
       "    </tr>\n",
       "    <tr>\n",
       "      <th>125</th>\n",
       "      <td>1.00</td>\n",
       "      <td>484</td>\n",
       "      <td>2787</td>\n",
       "    </tr>\n",
       "    <tr>\n",
       "      <th>126</th>\n",
       "      <td>1.00</td>\n",
       "      <td>538</td>\n",
       "      <td>1902</td>\n",
       "    </tr>\n",
       "    <tr>\n",
       "      <th>127</th>\n",
       "      <td>1.00</td>\n",
       "      <td>1124</td>\n",
       "      <td>2682</td>\n",
       "    </tr>\n",
       "    <tr>\n",
       "      <th>128</th>\n",
       "      <td>1.00</td>\n",
       "      <td>1800</td>\n",
       "      <td>2419</td>\n",
       "    </tr>\n",
       "  </tbody>\n",
       "</table>\n",
       "<p>129 rows × 3 columns</p>\n",
       "</div>"
      ],
      "text/plain": [
       "     Distance  User index  Number of users\n",
       "0        0.24        1800                1\n",
       "1        0.58         538                1\n",
       "2        0.68         538                1\n",
       "3        0.69         538                1\n",
       "4        0.70         538                1\n",
       "..        ...         ...              ...\n",
       "124      1.00         459             2708\n",
       "125      1.00         484             2787\n",
       "126      1.00         538             1902\n",
       "127      1.00        1124             2682\n",
       "128      1.00        1800             2419\n",
       "\n",
       "[129 rows x 3 columns]"
      ]
     },
     "execution_count": 67,
     "metadata": {},
     "output_type": "execute_result"
    }
   ],
   "source": [
    "# Constuct Dataframe : where to each user index we associate an array of distances to ALL other users (except user himself)\n",
    "# Dataframe is in the form (example for user index = 0)\n",
    "# User index | Distance\n",
    "# 0          | d1 (to user 1)\n",
    "# 0          | d2 (to user 2)\n",
    "# 0          | d3 (to user 3)\n",
    "\n",
    "distance_to_users = pd.DataFrame({\"Distance\": dist_for_df, \"User index\":users_for_df}).sort_values(\"Distance\")\n",
    "distance_to_users = distance_to_users.groupby([\"Distance\", \"User index\"], as_index=True).size().reset_index(name=\"Number of users\")\n",
    "distance_to_users"
   ]
  },
  {
   "cell_type": "code",
   "execution_count": null,
   "metadata": {},
   "outputs": [
    {
     "name": "stderr",
     "output_type": "stream",
     "text": [
      "/var/folders/dp/qpw35dg90hv8n0247r1klh4c0000gn/T/ipykernel_7938/4119155826.py:3: UserWarning: \n",
      "\n",
      "The `scale` parameter is deprecated and will be removed in v0.15.0. You can now control the size of each plot element using matplotlib `Line2D` parameters (e.g., `linewidth`, `markersize`, etc.).\n",
      "\n",
      "  ax = sns.pointplot(distance_to_users, x=\"Distance\", y=\"Number of users\", hue=\"User index\", scale=0.5,  palette=\"Spectral\")\n"
     ]
    },
    {
     "data": {
      "text/plain": [
       "Text(0.5, 0.98, '5 users [6 - 100 reviews]')"
      ]
     },
     "execution_count": 68,
     "metadata": {},
     "output_type": "execute_result"
    },
    {
     "data": {
      "image/png": "[encoded data removed]",
      "text/plain": [
       "<Figure size 1400x600 with 1 Axes>"
      ]
     },
     "metadata": {},
     "output_type": "display_data"
    }
   ],
   "source": [
    "sns.set_theme(rc={'figure.figsize':(14,6)})\n",
    "\n",
    "ax = sns.pointplot(distance_to_users, x=\"Distance\", y=\"Number of users\", hue=\"User index\", scale=0.5,  palette=\"Spectral\")\n",
    "\n",
    "for ind, label in enumerate(ax.get_xticklabels()):\n",
    "    if ind % 3 == 0:  # every 10th label is kept\n",
    "        label.set_visible(True)\n",
    "    else:\n",
    "        label.set_visible(False)\n",
    "ax.figure.suptitle(\"5 users [6 - 100 reviews]\")\n",
    "# g = sns.FacetGrid(distance_to_users, col=\"User index\", col_wrap=4, xlim=(0.4, 1.))\n",
    "# g.map(sns.scatterplot, \"Distance\", \"Number of users\")\n",
    "# g.figure.subplots_adjust(top=0.9) \n",
    "# g.figure.suptitle(\"Users [100-420 reviews]. k = 54 cos\")"
   ]
  },
  {
   "cell_type": "code",
   "execution_count": null,
   "metadata": {},
   "outputs": [],
   "source": []
  }
 ],
 "metadata": {
  "kernelspec": {
   "display_name": "venv",
   "language": "python",
   "name": "python3"
  },
  "language_info": {
   "codemirror_mode": {
    "name": "ipython",
    "version": 3
   },
   "file_extension": ".py",
   "mimetype": "text/x-python",
   "name": "python",
   "nbconvert_exporter": "python",
   "pygments_lexer": "ipython3",
   "version": "3.11.4"
  }
 },
 "nbformat": 4,
 "nbformat_minor": 2
}

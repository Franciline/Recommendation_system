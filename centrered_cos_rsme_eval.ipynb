{
 "cells": [
  {
   "cell_type": "markdown",
   "metadata": {},
   "source": [
    "#### Test RS knn with cosine distance on mean centered data, evaluating with RSME"
   ]
  },
  {
   "cell_type": "code",
   "execution_count": 41,
   "metadata": {},
   "outputs": [
    {
     "name": "stdout",
     "output_type": "stream",
     "text": [
      "The autoreload extension is already loaded. To reload it, use:\n",
      "  %reload_ext autoreload\n"
     ]
    }
   ],
   "source": [
    "import numpy as np\n",
    "import pandas as pd\n",
    "from reco_systems.filter import filter_df\n",
    "from reco_systems.user_game_matrix import *\n",
    "from reco_systems.CF_knn import *\n",
    "import seaborn as sns\n",
    "from reco_systems.evaluation import *\n",
    "from scipy.sparse import csr_matrix\n",
    "\n",
    "%load_ext autoreload\n",
    "%autoreload 2"
   ]
  },
  {
   "cell_type": "code",
   "execution_count": 42,
   "metadata": {},
   "outputs": [],
   "source": [
    "# import DB et set min_reviews\n",
    "folder = \"database_cleaned\"\n",
    "avis_clean  = pd.read_csv(f\"{folder}/avis_clean.csv\", index_col=0)\n",
    "jeux_clean  = pd.read_csv(f\"{folder}/jeux_clean.csv\", index_col=0)\n",
    "users       = pd.read_csv(f\"trictrac_database/users.csv\", names=[\"Username\", \"User id\"])\n",
    "\n",
    "min_reviews = 5"
   ]
  },
  {
   "cell_type": "code",
   "execution_count": 43,
   "metadata": {},
   "outputs": [
    {
     "name": "stdout",
     "output_type": "stream",
     "text": [
      "11201 10549\n",
      "3242 3957\n",
      "3006 3910\n",
      "3003 3910\n"
     ]
    }
   ],
   "source": [
    "# filter data with the minimum reviews\n",
    "filtered_data = filter_df(avis_clean, min_reviews)\n",
    "\n",
    "# we center the ratings for the centered cos version\n",
    "filtered_centrd_data, _ = center_score(filtered_data)"
   ]
  },
  {
   "cell_type": "code",
   "execution_count": 44,
   "metadata": {},
   "outputs": [
    {
     "data": {
      "text/plain": [
       "array([-8.75116279, -8.62222222, -8.51428571, ...,  5.66666667,\n",
       "        5.75      ,  5.91162791])"
      ]
     },
     "execution_count": 44,
     "metadata": {},
     "output_type": "execute_result"
    }
   ],
   "source": [
    "# get the needed matrixes\n",
    "\n",
    "# matrix_ratings : sparse matrix for nonzero values only: row = users, cols = games\n",
    "# mask_ratings : mask for NaN values only -> with matrix_ratings, can get ratings = 0\n",
    "# users/games_table_assoc : association index - ids for the matrix_use\n",
    "\n",
    "matrix_ratings, mask_ratings, users_table_assoc, games_table_assoc = get_matrix_user_game(filtered_centrd_data)\n",
    "np.unique(matrix_ratings.todense())"
   ]
  },
  {
   "cell_type": "code",
   "execution_count": 45,
   "metadata": {},
   "outputs": [
    {
     "data": {
      "text/plain": [
       "array([0.        , 0.04441922, 0.09306476, ..., 1.86065469, 1.86281226,\n",
       "       1.86330066])"
      ]
     },
     "execution_count": 45,
     "metadata": {},
     "output_type": "execute_result"
    }
   ],
   "source": [
    "# we calculate the similarity matrix with cos on the centered values\n",
    "similarity_matrix, _ = calc_similarity_matrix(matrix_ratings, mask_ratings, \"cos\")\n",
    "\n",
    "# cosine similarity range [-1,1] cosine distance = 1 - similarity, range [0, 2] \n",
    "np.unique(similarity_matrix) "
   ]
  },
  {
   "cell_type": "code",
   "execution_count": 33,
   "metadata": {},
   "outputs": [
    {
     "data": {
      "text/plain": [
       "array([   1,    2,    3,   38,   49,   56,   57,   58,   59,   60,   63,\n",
       "         64,   66,  117,  119,  121,  140,  144,  182,  185,  186,  224,\n",
       "        227,  229,  240,  258,  268,  314,  316,  317,  318,  319,  320,\n",
       "        321,  325,  372,  394,  399,  405,  429,  430,  469,  495,  529,\n",
       "        584,  585,  586,  589,  647,  675,  742,  752,  753,  783,  784,\n",
       "        785,  786,  787,  788,  828,  830,  831,  833,  834,  836,  837,\n",
       "        838,  839,  848,  865,  868,  869,  870,  871,  873,  922,  941,\n",
       "        942, 1026, 1027, 1053, 1055, 1056, 1060, 1079, 1113, 1114, 1117,\n",
       "       1118, 1125, 1138, 1208, 1209, 1278, 1307, 1309, 1313, 1381, 1588,\n",
       "       1589])"
      ]
     },
     "execution_count": 33,
     "metadata": {},
     "output_type": "execute_result"
    }
   ],
   "source": [
    "# for the evaluation, we test on the X most popular users (by number of reviews) \n",
    "users_count = filtered_centrd_data[[\"User id\", \"Game id\"]].groupby(\"User id\", as_index=True).count().sort_values(by=\"Game id\", ascending=False).head(100)\n",
    "\n",
    "# get the index (matrix) associated to the selected users ids\n",
    "users = users_table_assoc[users_table_assoc.isin(users_count.index)].index.to_numpy()\n",
    "users"
   ]
  },
  {
   "cell_type": "code",
   "execution_count": 38,
   "metadata": {},
   "outputs": [],
   "source": [
    "# vect_rmse = np.vectorize(calc_RMSE_cos, excluded=['matrix_ratings', 'mask_ratings', 'similarity_matrix'])\n",
    "# result = vect_rmse(users, matrix_ratings=matrix_ratings, mask_ratings=mask_ratings, similarity_matrix=similarity_matrix)"
   ]
  },
  {
   "cell_type": "code",
   "execution_count": 40,
   "metadata": {},
   "outputs": [
    {
     "ename": "NotImplementedError",
     "evalue": "We have not yet implemented 1D sparse slices; please index using explicit indices, e.g. `x[:, [0]]`",
     "output_type": "error",
     "traceback": [
      "\u001b[0;31m---------------------------------------------------------------------------\u001b[0m",
      "\u001b[0;31mNotImplementedError\u001b[0m                       Traceback (most recent call last)",
      "Cell \u001b[0;32mIn[40], line 1\u001b[0m\n\u001b[0;32m----> 1\u001b[0m \u001b[43mcalc_RMSE_cos\u001b[49m\u001b[43m(\u001b[49m\u001b[38;5;241;43m1\u001b[39;49m\u001b[43m,\u001b[49m\u001b[43m \u001b[49m\u001b[43mmatrix_ratings\u001b[49m\u001b[38;5;241;43m=\u001b[39;49m\u001b[43mmatrix_ratings\u001b[49m\u001b[43m,\u001b[49m\u001b[43m \u001b[49m\u001b[43mmask_ratings\u001b[49m\u001b[38;5;241;43m=\u001b[39;49m\u001b[43mmask_ratings\u001b[49m\u001b[43m,\u001b[49m\u001b[43m \u001b[49m\u001b[43msimilarity_matrix\u001b[49m\u001b[38;5;241;43m=\u001b[39;49m\u001b[43msimilarity_matrix\u001b[49m\u001b[43m)\u001b[49m\n",
      "File \u001b[0;32m~/Documents/L3/S6/Projet Recherche/Recommendation_system/reco_systems/evaluation.py:109\u001b[0m, in \u001b[0;36mcalc_RMSE_cos\u001b[0;34m(user, matrix_ratings, mask_ratings, similarity_matrix)\u001b[0m\n\u001b[1;32m    106\u001b[0m rmse \u001b[38;5;241m=\u001b[39m np\u001b[38;5;241m.\u001b[39mnan  \u001b[38;5;66;03m# = nan if cannot be predicted\u001b[39;00m\n\u001b[1;32m    107\u001b[0m \u001b[38;5;66;03m# hide games, create new user_game_matrix\u001b[39;00m\n\u001b[1;32m    108\u001b[0m \u001b[38;5;66;03m# & memorise to restore later\u001b[39;00m\n\u001b[0;32m--> 109\u001b[0m old_user_ratings \u001b[38;5;241m=\u001b[39m \u001b[43mmatrix_ratings\u001b[49m\u001b[43m[\u001b[49m\u001b[43muser\u001b[49m\u001b[43m]\u001b[49m\u001b[38;5;241m.\u001b[39mtoarray()\n\u001b[1;32m    110\u001b[0m old_user_mask_ratings \u001b[38;5;241m=\u001b[39m mask_ratings[user]\u001b[38;5;241m.\u001b[39mtoarray()\n\u001b[1;32m    111\u001b[0m \u001b[38;5;66;03m# modify dok ratings, dok_mask_ratings\u001b[39;00m\n",
      "File \u001b[0;32m/usr/lib64/python3.12/site-packages/scipy/sparse/_index.py:51\u001b[0m, in \u001b[0;36mIndexMixin.__getitem__\u001b[0;34m(self, key)\u001b[0m\n\u001b[1;32m     49\u001b[0m     \u001b[38;5;28;01mreturn\u001b[39;00m \u001b[38;5;28mself\u001b[39m\u001b[38;5;241m.\u001b[39m_get_intXint(row, col)\n\u001b[1;32m     50\u001b[0m \u001b[38;5;28;01melif\u001b[39;00m \u001b[38;5;28misinstance\u001b[39m(col, \u001b[38;5;28mslice\u001b[39m):\n\u001b[0;32m---> 51\u001b[0m     \u001b[38;5;28;43mself\u001b[39;49m\u001b[38;5;241;43m.\u001b[39;49m\u001b[43m_raise_on_1d_array_slice\u001b[49m\u001b[43m(\u001b[49m\u001b[43m)\u001b[49m\n\u001b[1;32m     52\u001b[0m     \u001b[38;5;28;01mreturn\u001b[39;00m \u001b[38;5;28mself\u001b[39m\u001b[38;5;241m.\u001b[39m_get_intXslice(row, col)\n\u001b[1;32m     53\u001b[0m \u001b[38;5;28;01melif\u001b[39;00m col\u001b[38;5;241m.\u001b[39mndim \u001b[38;5;241m==\u001b[39m \u001b[38;5;241m1\u001b[39m:\n",
      "File \u001b[0;32m/usr/lib64/python3.12/site-packages/scipy/sparse/_index.py:38\u001b[0m, in \u001b[0;36mIndexMixin._raise_on_1d_array_slice\u001b[0;34m(self)\u001b[0m\n\u001b[1;32m     30\u001b[0m \u001b[38;5;250m\u001b[39m\u001b[38;5;124;03m\"\"\"We do not currently support 1D sparse arrays.\u001b[39;00m\n\u001b[1;32m     31\u001b[0m \n\u001b[1;32m     32\u001b[0m \u001b[38;5;124;03mThis function is called each time that a 1D array would\u001b[39;00m\n\u001b[0;32m   (...)\u001b[0m\n\u001b[1;32m     35\u001b[0m \u001b[38;5;124;03mOnce 1D sparse arrays are implemented, it should be removed.\u001b[39;00m\n\u001b[1;32m     36\u001b[0m \u001b[38;5;124;03m\"\"\"\u001b[39;00m\n\u001b[1;32m     37\u001b[0m \u001b[38;5;28;01mif\u001b[39;00m \u001b[38;5;28mself\u001b[39m\u001b[38;5;241m.\u001b[39m_is_array:\n\u001b[0;32m---> 38\u001b[0m     \u001b[38;5;28;01mraise\u001b[39;00m \u001b[38;5;167;01mNotImplementedError\u001b[39;00m(\n\u001b[1;32m     39\u001b[0m         \u001b[38;5;124m'\u001b[39m\u001b[38;5;124mWe have not yet implemented 1D sparse slices; \u001b[39m\u001b[38;5;124m'\u001b[39m\n\u001b[1;32m     40\u001b[0m         \u001b[38;5;124m'\u001b[39m\u001b[38;5;124mplease index using explicit indices, e.g. `x[:, [0]]`\u001b[39m\u001b[38;5;124m'\u001b[39m\n\u001b[1;32m     41\u001b[0m     )\n",
      "\u001b[0;31mNotImplementedError\u001b[0m: We have not yet implemented 1D sparse slices; please index using explicit indices, e.g. `x[:, [0]]`"
     ]
    }
   ],
   "source": [
    "calc_RMSE_cos(1, matrix_ratings=matrix_ratings, mask_ratings=mask_ratings, similarity_matrix=similarity_matrix)"
   ]
  },
  {
   "cell_type": "code",
   "execution_count": null,
   "metadata": {},
   "outputs": [],
   "source": []
  }
 ],
 "metadata": {
  "kernelspec": {
   "display_name": "usr",
   "language": "python",
   "name": "python3"
  },
  "language_info": {
   "codemirror_mode": {
    "name": "ipython",
    "version": 3
   },
   "file_extension": ".py",
   "mimetype": "text/x-python",
   "name": "python",
   "nbconvert_exporter": "python",
   "pygments_lexer": "ipython3",
   "version": "3.12.8"
  }
 },
 "nbformat": 4,
 "nbformat_minor": 2
}

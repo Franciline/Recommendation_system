{
 "cells": [
  {
   "cell_type": "code",
   "execution_count": 227,
   "metadata": {},
   "outputs": [
    {
     "name": "stdout",
     "output_type": "stream",
     "text": [
      "The autoreload extension is already loaded. To reload it, use:\n",
      "  %reload_ext autoreload\n"
     ]
    }
   ],
   "source": [
    "import pandas as pd\n",
    "from reco_systems.CF_knn import *\n",
    "from sklearn.metrics.pairwise import manhattan_distances\n",
    "from scipy.sparse import csr_array\n",
    "\n",
    "%load_ext autoreload\n",
    "%autoreload 2"
   ]
  },
  {
   "cell_type": "code",
   "execution_count": 288,
   "metadata": {},
   "outputs": [],
   "source": [
    "folder = \"database_cleaned\"\n",
    "avis_clean = pd.read_csv(f\"database_cleaned/avis_clean.csv\", index_col=0)\n",
    "jeux_clean = pd.read_csv(f\"database_cleaned/jeux_clean.csv\", index_col=0)\n",
    "#users = pd.read_csv(f\"trictrac_database/users.csv\", names=[\"Username\", \"User id\"])\n",
    "#users.shape"
   ]
  },
  {
   "cell_type": "code",
   "execution_count": 289,
   "metadata": {},
   "outputs": [
    {
     "data": {
      "text/plain": [
       "(795, 8)"
      ]
     },
     "execution_count": 289,
     "metadata": {},
     "output_type": "execute_result"
    }
   ],
   "source": [
    "rev_filter, table_assoc_games= filter_games(avis_clean, min_reviews=10) \n",
    "#table_assoc.values, np.unique(rev_filter[\"User id\"])\n",
    "np.unique(rev_filter[\"User id\"])\n",
    "rev_filter[(rev_filter[\"Username\"] == \"limp\") & (~rev_filter[\"Rating\"].isna())].shape"
   ]
  },
  {
   "cell_type": "code",
   "execution_count": 290,
   "metadata": {},
   "outputs": [
    {
     "name": "stderr",
     "output_type": "stream",
     "text": [
      "/Users/bsh2022/Study/L3/Projet_recherche/Recommendation_system/reco_systems/CF_knn.py:37: RuntimeWarning: Mean of empty slice\n",
      "  np.nan_to_num(matrix_ratings, copy=False, nan=0.0)  # replace nan values with 0.0\n"
     ]
    },
    {
     "data": {
      "text/plain": [
       "<Compressed Sparse Row sparse array of dtype 'float64'\n",
       "\twith 112559 stored elements and shape (11201, 2887)>"
      ]
     },
     "execution_count": 290,
     "metadata": {},
     "output_type": "execute_result"
    }
   ],
   "source": [
    "matrix_ratings, means = get_matrix_user_game(rev_filter)\n",
    "matrix_ratings"
   ]
  },
  {
   "cell_type": "code",
   "execution_count": 291,
   "metadata": {},
   "outputs": [
    {
     "data": {
      "text/plain": [
       "(11201, 11201)"
      ]
     },
     "execution_count": 291,
     "metadata": {},
     "output_type": "execute_result"
    }
   ],
   "source": [
    "similarity_matrix = calc_similarity_matrix(matrix_ratings, dist_type=\"cos\")\n",
    "similarity_matrix.shape"
   ]
  },
  {
   "cell_type": "code",
   "execution_count": 292,
   "metadata": {},
   "outputs": [
    {
     "name": "stdout",
     "output_type": "stream",
     "text": [
      "[0.84381735 0.83725311 0.84582188 ... 1.         1.01208626 1.        ]\n"
     ]
    },
    {
     "data": {
      "text/plain": [
       "array([ 1815,  6794,  7071,  4026,  1930,  6150,  7727,  1975, 10396,\n",
       "        1939,   812,  6811, 10320,  3443,  2538,  4998,  4711,  2991,\n",
       "        1938,  6626,  5019,  5710,  4618,  1229,  1906,  8018,  2608,\n",
       "        2890,  1050,  2290])"
      ]
     },
     "execution_count": 292,
     "metadata": {},
     "output_type": "execute_result"
    }
   ],
   "source": [
    "similar_users = get_KNN(similarity_matrix, k=30, user_ind=3000)\n",
    "#similarity_matrix[83][np.argpartition(similarity_matrix[83], kth=min(10, similarity_matrix.shape[1]))[:10]]\n",
    "similar_users"
   ]
  },
  {
   "cell_type": "code",
   "execution_count": 293,
   "metadata": {},
   "outputs": [
    {
     "name": "stdout",
     "output_type": "stream",
     "text": [
      "1815 233\n",
      "6794 6\n",
      "7071 4\n",
      "4026 3\n",
      "1930 23\n",
      "6150 6\n",
      "7727 4\n",
      "1975 11\n",
      "10396 3\n",
      "1939 215\n",
      "812 49\n",
      "6811 2\n",
      "10320 2\n",
      "3443 7\n",
      "2538 117\n",
      "4998 3\n",
      "4711 4\n",
      "2991 4\n",
      "1938 172\n",
      "6626 2\n",
      "5019 13\n",
      "5710 8\n",
      "4618 7\n",
      "1229 6\n",
      "1906 285\n",
      "8018 13\n",
      "2608 5\n",
      "2890 92\n",
      "1050 53\n",
      "2290 30\n"
     ]
    }
   ],
   "source": [
    "for user in similar_users:\n",
    "    print(user, np.count_nonzero(matrix_ratings.toarray()[user]))"
   ]
  },
  {
   "cell_type": "code",
   "execution_count": 297,
   "metadata": {},
   "outputs": [],
   "source": [
    "pred1=weight_avg_distance(similarity_matrix, similar_users, matrix_ratings, 3000, means)\n",
    "pred2 = weight_avg_nb_reviews(rev_filter, similar_users, matrix_ratings, 3000, means)\n",
    "ratings = predict_ratings(np.vstack((pred1, pred2)), None)"
   ]
  },
  {
   "cell_type": "code",
   "execution_count": 313,
   "metadata": {},
   "outputs": [
    {
     "data": {
      "text/plain": [
       "array([1461, 2271, 2790, 2775,  153, 1248, 1343, 2756, 2690,   95, 2658,\n",
       "       1837, 2451,   88, 2178, 2380, 2058, 1297, 2456, 1117,  650, 2420,\n",
       "       1018, 2834,  648, 1657,  504, 2563, 2651,  996, 1468, 1987, 1552,\n",
       "        300, 1831, 1333, 2625,  445, 2649,  444])"
      ]
     },
     "execution_count": 313,
     "metadata": {},
     "output_type": "execute_result"
    }
   ],
   "source": [
    "games_ind = get_games_ind(ratings, n=40)\n",
    "games_ind"
   ]
  },
  {
   "cell_type": "code",
   "execution_count": 314,
   "metadata": {},
   "outputs": [],
   "source": [
    "df_pred_games = get_games_df(jeux_clean, table_assoc_games, games_ind)"
   ]
  },
  {
   "cell_type": "code",
   "execution_count": 315,
   "metadata": {},
   "outputs": [
    {
     "data": {
      "text/html": [
       "<div>\n",
       "<style scoped>\n",
       "    .dataframe tbody tr th:only-of-type {\n",
       "        vertical-align: middle;\n",
       "    }\n",
       "\n",
       "    .dataframe tbody tr th {\n",
       "        vertical-align: top;\n",
       "    }\n",
       "\n",
       "    .dataframe thead th {\n",
       "        text-align: right;\n",
       "    }\n",
       "</style>\n",
       "<table border=\"1\" class=\"dataframe\">\n",
       "  <thead>\n",
       "    <tr style=\"text-align: right;\">\n",
       "      <th></th>\n",
       "      <th>User id</th>\n",
       "      <th>Game id</th>\n",
       "      <th>Game name UI</th>\n",
       "      <th>Rating</th>\n",
       "    </tr>\n",
       "  </thead>\n",
       "  <tbody>\n",
       "    <tr>\n",
       "      <th>0</th>\n",
       "      <td>3000</td>\n",
       "      <td>3577</td>\n",
       "      <td>Glastonbury</td>\n",
       "      <td>10.0</td>\n",
       "    </tr>\n",
       "    <tr>\n",
       "      <th>1</th>\n",
       "      <td>3000</td>\n",
       "      <td>3959</td>\n",
       "      <td>Herr der Ringe: Die Entscheidung</td>\n",
       "      <td>4.0</td>\n",
       "    </tr>\n",
       "    <tr>\n",
       "      <th>2</th>\n",
       "      <td>3000</td>\n",
       "      <td>10343</td>\n",
       "      <td>Ys</td>\n",
       "      <td>10.0</td>\n",
       "    </tr>\n",
       "    <tr>\n",
       "      <th>3</th>\n",
       "      <td>3000</td>\n",
       "      <td>373</td>\n",
       "      <td>Alhambra : 2 - Les Portes de la Ville</td>\n",
       "      <td>10.0</td>\n",
       "    </tr>\n",
       "    <tr>\n",
       "      <th>4</th>\n",
       "      <td>3000</td>\n",
       "      <td>4723</td>\n",
       "      <td>L'Escalier Hanté</td>\n",
       "      <td>8.0</td>\n",
       "    </tr>\n",
       "  </tbody>\n",
       "</table>\n",
       "</div>"
      ],
      "text/plain": [
       "   User id  Game id                           Game name UI  Rating\n",
       "0     3000     3577                            Glastonbury    10.0\n",
       "1     3000     3959       Herr der Ringe: Die Entscheidung     4.0\n",
       "2     3000    10343                                     Ys    10.0\n",
       "3     3000      373  Alhambra : 2 - Les Portes de la Ville    10.0\n",
       "4     3000     4723                       L'Escalier Hanté     8.0"
      ]
     },
     "execution_count": 315,
     "metadata": {},
     "output_type": "execute_result"
    }
   ],
   "source": [
    "avis_clean[[\"User id\", \"Game id\", \"Game name UI\", \"Rating\"]][(avis_clean[\"User id\"] == 3000)].merge(df_pred_games[\"Game id\"], on=\"Game id\")"
   ]
  },
  {
   "cell_type": "code",
   "execution_count": null,
   "metadata": {},
   "outputs": [],
   "source": []
  }
 ],
 "metadata": {
  "kernelspec": {
   "display_name": "venv",
   "language": "python",
   "name": "python3"
  },
  "language_info": {
   "codemirror_mode": {
    "name": "ipython",
    "version": 3
   },
   "file_extension": ".py",
   "mimetype": "text/x-python",
   "name": "python",
   "nbconvert_exporter": "python",
   "pygments_lexer": "ipython3",
   "version": "3.11.4"
  }
 },
 "nbformat": 4,
 "nbformat_minor": 2
}

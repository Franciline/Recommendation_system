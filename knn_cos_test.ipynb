{
 "cells": [
  {
   "cell_type": "code",
   "execution_count": 70,
   "metadata": {},
   "outputs": [
    {
     "name": "stdout",
     "output_type": "stream",
     "text": [
      "The autoreload extension is already loaded. To reload it, use:\n",
      "  %reload_ext autoreload\n"
     ]
    }
   ],
   "source": [
    "import pandas as pd\n",
    "from reco_systems.CF_knn import *\n",
    "\n",
    "%load_ext autoreload\n",
    "%autoreload 2"
   ]
  },
  {
   "cell_type": "code",
   "execution_count": 2,
   "metadata": {},
   "outputs": [],
   "source": [
    "folder = \"database_cleaned\"\n",
    "avis_clean = pd.read_csv(f\"database_cleaned/avis_clean.csv\", index_col=0)\n",
    "jeux_clean = pd.read_csv(f\"database_cleaned/jeux_clean.csv\", index_col=0)\n",
    "#users = pd.read_csv(f\"trictrac_database/users.csv\", names=[\"Username\", \"User id\"])\n",
    "#users.shape"
   ]
  },
  {
   "cell_type": "code",
   "execution_count": 3,
   "metadata": {},
   "outputs": [
    {
     "data": {
      "text/plain": [
       "(795, 8)"
      ]
     },
     "execution_count": 3,
     "metadata": {},
     "output_type": "execute_result"
    }
   ],
   "source": [
    "rev_filter, table_assoc_games= filter_games(avis_clean, min_reviews=10) \n",
    "#table_assoc.values, np.unique(rev_filter[\"User id\"])\n",
    "np.unique(rev_filter[\"User id\"])\n",
    "rev_filter[(rev_filter[\"Username\"] == \"limp\") & (~rev_filter[\"Rating\"].isna())].shape"
   ]
  },
  {
   "cell_type": "code",
   "execution_count": 14,
   "metadata": {},
   "outputs": [
    {
     "data": {
      "text/plain": [
       "array([[0. , 0. , 8.6, ..., 0. , 0. , 0. ],\n",
       "       [0. , 0. , 6.5, ..., 0. , 0. , 0. ],\n",
       "       [0. , 0. , 0. , ..., 6. , 0. , 0. ],\n",
       "       ...,\n",
       "       [0. , 0. , 0. , ..., 0. , 0. , 0. ],\n",
       "       [0. , 0. , 0. , ..., 0. , 0. , 0. ],\n",
       "       [0. , 0. , 0. , ..., 0. , 0. , 0. ]], shape=(11201, 2888))"
      ]
     },
     "execution_count": 14,
     "metadata": {},
     "output_type": "execute_result"
    }
   ],
   "source": [
    "matrix_ratings, mask_matrix = get_matrix_user_game(rev_filter)\n",
    "matrix_ratings.toarray()"
   ]
  },
  {
   "cell_type": "code",
   "execution_count": null,
   "metadata": {},
   "outputs": [
    {
     "data": {
      "text/plain": [
       "(11201, 11201)"
      ]
     },
     "execution_count": 15,
     "metadata": {},
     "output_type": "execute_result"
    }
   ],
   "source": [
    "similarity_matrix = calc_similarity_matrix(matrix_ratings, dist_type=\"cos\")\n",
    "similarity_matrix.shape"
   ]
  },
  {
   "cell_type": "code",
   "execution_count": 20,
   "metadata": {},
   "outputs": [
    {
     "data": {
      "text/plain": [
       "array([[0.        , 0.9156413 , 0.82997579, 0.93598729, 0.96397752,\n",
       "        0.92237635, 0.98039342, 0.9745858 , 0.98498027, 1.        ],\n",
       "       [0.9156413 , 0.        , 0.70390267, 0.6720784 , 0.89248414,\n",
       "        0.93898508, 0.88905439, 0.84010393, 0.83077079, 0.9533165 ],\n",
       "       [0.82997579, 0.70390267, 0.        , 0.81100859, 0.94595554,\n",
       "        0.90644913, 0.9330459 , 0.9097209 , 0.92788905, 0.95298363],\n",
       "       [0.93598729, 0.6720784 , 0.81100859, 0.        , 0.93925896,\n",
       "        0.97102855, 0.95790982, 0.83950071, 0.91542438, 1.        ],\n",
       "       [0.96397752, 0.89248414, 0.94595554, 0.93925896, 0.        ,\n",
       "        0.86858314, 0.96680605, 0.98021069, 1.        , 1.        ],\n",
       "       [0.92237635, 0.93898508, 0.90644913, 0.97102855, 0.86858314,\n",
       "        0.        , 0.92847145, 1.        , 1.        , 1.        ],\n",
       "       [0.98039342, 0.88905439, 0.9330459 , 0.95790982, 0.96680605,\n",
       "        0.92847145, 0.        , 0.98536335, 0.94273551, 1.        ],\n",
       "       [0.9745858 , 0.84010393, 0.9097209 , 0.83950071, 0.98021069,\n",
       "        1.        , 0.98536335, 0.        , 0.93067152, 0.94705639],\n",
       "       [0.98498027, 0.83077079, 0.92788905, 0.91542438, 1.        ,\n",
       "        1.        , 0.94273551, 0.93067152, 0.        , 0.94421523],\n",
       "       [1.        , 0.9533165 , 0.95298363, 1.        , 1.        ,\n",
       "        1.        , 1.        , 0.94705639, 0.94421523, 0.        ]])"
      ]
     },
     "execution_count": 20,
     "metadata": {},
     "output_type": "execute_result"
    }
   ],
   "source": [
    "# Print firs 10 users (10 rows, 10 columns)\n",
    "similarity_matrix[:10, :10]"
   ]
  },
  {
   "cell_type": "code",
   "execution_count": 68,
   "metadata": {},
   "outputs": [
    {
     "data": {
      "text/plain": [
       "array([2548, 4930, 3066, 2994, 1941, 1908, 1906, 1815,  201, 2250, 2275,\n",
       "         95,   94, 1192,  384, 2934,  580,  110, 2589, 3160, 2272, 1724,\n",
       "       8883, 2245, 1199, 2180, 1904, 2430, 2590, 2936])"
      ]
     },
     "execution_count": 68,
     "metadata": {},
     "output_type": "execute_result"
    }
   ],
   "source": [
    "similar_users = get_KNN(similarity_matrix, k=30, user_ind=3000)\n",
    "similar_users"
   ]
  },
  {
   "cell_type": "code",
   "execution_count": 293,
   "metadata": {},
   "outputs": [
    {
     "name": "stdout",
     "output_type": "stream",
     "text": [
      "1815 233\n",
      "6794 6\n",
      "7071 4\n",
      "4026 3\n",
      "1930 23\n",
      "6150 6\n",
      "7727 4\n",
      "1975 11\n",
      "10396 3\n",
      "1939 215\n",
      "812 49\n",
      "6811 2\n",
      "10320 2\n",
      "3443 7\n",
      "2538 117\n",
      "4998 3\n",
      "4711 4\n",
      "2991 4\n",
      "1938 172\n",
      "6626 2\n",
      "5019 13\n",
      "5710 8\n",
      "4618 7\n",
      "1229 6\n",
      "1906 285\n",
      "8018 13\n",
      "2608 5\n",
      "2890 92\n",
      "1050 53\n",
      "2290 30\n"
     ]
    }
   ],
   "source": [
    "for user in similar_users:\n",
    "    print(user, np.count_nonzero(matrix_ratings.toarray()[user]))"
   ]
  },
  {
   "cell_type": "code",
   "execution_count": 71,
   "metadata": {},
   "outputs": [],
   "source": [
    "ratings = predict_ratings_baseline(matrix_ratings, mask_matrix, similar_users)"
   ]
  },
  {
   "cell_type": "code",
   "execution_count": 81,
   "metadata": {},
   "outputs": [
    {
     "data": {
      "text/plain": [
       "array([1328,  778, 2542,  784,  786,  793,    6, 1987, 2552,  794,  803,\n",
       "        804, 1972,  762, 2557, 1968,  759,  758, 2532, 2527, 1962,  823,\n",
       "        827,  751, 2564, 2021,  829,  835,  837, 2024,  840, 2866, 1937,\n",
       "       2864,   34, 2519,  842,  843, 2571,  845,   40,  848, 2031, 1933,\n",
       "         44, 2512,  870, 2506,  877, 2040,  884, 1918,  885, 1909,  889,\n",
       "       1901,  891, 1897,  900,  904,  910, 1890, 2490, 1888, 2053,  714,\n",
       "        919, 2054, 1885, 2584,  710,   71,   72,  709,   74, 2057,  708,\n",
       "       2058,  707,  706,   80,  704,  702,  701, 2836, 1870,  934, 2835,\n",
       "         88,   89,   90, 2834, 2477,  941,  944,   95, 1868, 2066,  694,\n",
       "         99,  945,  946,  947, 2592,  954, 2072, 1848, 2074, 1837, 2083,\n",
       "       2084, 2467,  684, 1830, 2465,  964, 1825,  968,  118,  969, 1815,\n",
       "        677,  676, 2459,  674, 1801,  973, 2457, 2109,  975, 2456, 1768,\n",
       "       2596,  980, 2451, 2813,  664,  137, 2445,  139, 2598, 1757, 2599,\n",
       "       1753, 2809, 2601, 1000, 2441,  148,  149, 1002, 1746, 2605, 1008,\n",
       "       1745, 1739, 1010, 2607,  650,  649,  648, 1012, 1018, 1019, 1023,\n",
       "       1713, 1024, 1027, 2611, 1702, 1028,  171, 1031, 1037,  630, 1043,\n",
       "       1700,  628, 2416, 1698, 2413, 1056,  182,  183,  184,  623, 2616,\n",
       "       1688, 2149,  621,  620, 2410,  192,  193, 1063, 1674,  196, 2408,\n",
       "        615, 2159, 1071, 1072, 1073, 2620, 1075,  205,  608, 1078, 1655,\n",
       "       1654, 1080,  603, 1645, 1089, 1641, 1092, 2395, 2625, 1096, 2627,\n",
       "       1097, 2176, 2394, 2178, 2179, 1622, 2775, 1617, 1099, 2185, 1612,\n",
       "        593,  232, 1100,  588, 2392, 1110, 2188, 1112,  582, 1113, 2193,\n",
       "       2773, 1598, 1117, 2772, 2636, 2770, 1119, 1594, 2638, 1125, 2383,\n",
       "       2766, 1586, 1585, 1134, 1583, 1582,  570,  568, 1137,  566, 2644,\n",
       "       1138, 1139, 2379, 1569, 2378, 2377,  559, 2376, 1559, 2756, 1554,\n",
       "       2211,  557,  277, 1147, 2649,  554,  281, 1547, 1150, 2651, 1546,\n",
       "       1152, 1545, 1542,  550, 2753, 1159, 1538,  293, 2752,  548, 1529,\n",
       "        547, 2749, 2652, 1520, 1162, 1165,  541,  540, 2654, 2365,  537,\n",
       "       1504, 1174, 2361,  311, 2360,  313, 2658, 1178, 1179, 1182, 1496,\n",
       "        319, 1494, 1493, 1183, 1185,  527, 1489,  526, 2659, 1191, 2354,\n",
       "        330,  521, 1196,  519, 1197, 2350, 1205, 2343,  511, 2665, 1461,\n",
       "        509, 1213, 1216,  344, 2242, 2733,  347, 2667, 2732,  350, 1230,\n",
       "       1456, 1454, 1451, 1446, 2249, 2338, 2670, 1433, 1232, 2672, 1418,\n",
       "       1233,  495, 2267,  366, 1241,  368, 1243,  488, 1397, 2725, 1396,\n",
       "       1393, 1248, 1249, 1389, 2676, 1256, 2271, 2273, 1383, 1264, 1265,\n",
       "       2323,  476, 1273, 1372, 1274, 2684, 1277, 2685, 1278, 2279, 1280,\n",
       "       1281, 1283, 1287,  399, 2280, 2711, 1359, 1291, 2689,  463, 1355,\n",
       "        462, 2690, 1349,  410, 2691, 1296, 2693, 2694, 1343, 1297, 1298,\n",
       "       2285, 1301, 1340, 1305, 2699, 2296, 1323,  425,  445,  444,  442,\n",
       "       2702,  439, 2293,  437, 2290, 2275, 2172,   81, 1513, 2746,  303,\n",
       "       2225, 2860, 1932, 1928, 1523, 1541,  286,  284,  280, 1548,  278,\n",
       "        276, 1561,  270, 2205, 1572,  265, 1574, 1575, 1926,  261,  260,\n",
       "       1580, 2197, 2035, 2768, 1906, 1596, 1601, 2192, 1604,   59,  236,\n",
       "         62,   65,   66, 2843, 1610, 1611, 1616, 1882, 1632, 2779, 1874,\n",
       "        307, 2171, 1752, 1814, 2824, 1734, 2801, 2126, 2804,  153,  152,\n",
       "        150, 1749, 1716, 2087, 2117])"
      ]
     },
     "execution_count": 81,
     "metadata": {},
     "output_type": "execute_result"
    }
   ],
   "source": [
    "games_ind = get_games_ind(ratings, n=500)\n",
    "games_ind"
   ]
  },
  {
   "cell_type": "code",
   "execution_count": 82,
   "metadata": {},
   "outputs": [],
   "source": [
    "df_pred_games = get_games_df(jeux_clean, table_assoc_games, games_ind)"
   ]
  },
  {
   "cell_type": "code",
   "execution_count": 83,
   "metadata": {},
   "outputs": [
    {
     "data": {
      "text/html": [
       "<div>\n",
       "<style scoped>\n",
       "    .dataframe tbody tr th:only-of-type {\n",
       "        vertical-align: middle;\n",
       "    }\n",
       "\n",
       "    .dataframe tbody tr th {\n",
       "        vertical-align: top;\n",
       "    }\n",
       "\n",
       "    .dataframe thead th {\n",
       "        text-align: right;\n",
       "    }\n",
       "</style>\n",
       "<table border=\"1\" class=\"dataframe\">\n",
       "  <thead>\n",
       "    <tr style=\"text-align: right;\">\n",
       "      <th></th>\n",
       "      <th>User id</th>\n",
       "      <th>Game id</th>\n",
       "      <th>Game name UI</th>\n",
       "      <th>Rating</th>\n",
       "    </tr>\n",
       "  </thead>\n",
       "  <tbody>\n",
       "    <tr>\n",
       "      <th>0</th>\n",
       "      <td>3000</td>\n",
       "      <td>2921</td>\n",
       "      <td>El Grande - Edicion 20e Aniversario</td>\n",
       "      <td>6.0</td>\n",
       "    </tr>\n",
       "    <tr>\n",
       "      <th>1</th>\n",
       "      <td>3000</td>\n",
       "      <td>9995</td>\n",
       "      <td>War of the ring : Anniversary Release</td>\n",
       "      <td>10.0</td>\n",
       "    </tr>\n",
       "    <tr>\n",
       "      <th>2</th>\n",
       "      <td>3000</td>\n",
       "      <td>8092</td>\n",
       "      <td>Saint Pétersbourg</td>\n",
       "      <td>10.0</td>\n",
       "    </tr>\n",
       "    <tr>\n",
       "      <th>3</th>\n",
       "      <td>3000</td>\n",
       "      <td>6269</td>\n",
       "      <td>Medina</td>\n",
       "      <td>4.0</td>\n",
       "    </tr>\n",
       "    <tr>\n",
       "      <th>4</th>\n",
       "      <td>3000</td>\n",
       "      <td>9736</td>\n",
       "      <td>Unanimo</td>\n",
       "      <td>10.0</td>\n",
       "    </tr>\n",
       "    <tr>\n",
       "      <th>5</th>\n",
       "      <td>3000</td>\n",
       "      <td>3577</td>\n",
       "      <td>Glastonbury</td>\n",
       "      <td>10.0</td>\n",
       "    </tr>\n",
       "    <tr>\n",
       "      <th>6</th>\n",
       "      <td>3000</td>\n",
       "      <td>9316</td>\n",
       "      <td>Tigris &amp; Euphrates</td>\n",
       "      <td>10.0</td>\n",
       "    </tr>\n",
       "    <tr>\n",
       "      <th>7</th>\n",
       "      <td>3000</td>\n",
       "      <td>9890</td>\n",
       "      <td>Vikings</td>\n",
       "      <td>10.0</td>\n",
       "    </tr>\n",
       "    <tr>\n",
       "      <th>8</th>\n",
       "      <td>3000</td>\n",
       "      <td>3959</td>\n",
       "      <td>Herr der Ringe: Die Entscheidung</td>\n",
       "      <td>4.0</td>\n",
       "    </tr>\n",
       "    <tr>\n",
       "      <th>9</th>\n",
       "      <td>3000</td>\n",
       "      <td>8275</td>\n",
       "      <td>Serenissima</td>\n",
       "      <td>10.0</td>\n",
       "    </tr>\n",
       "    <tr>\n",
       "      <th>10</th>\n",
       "      <td>3000</td>\n",
       "      <td>3460</td>\n",
       "      <td>Galaxy Trucker</td>\n",
       "      <td>10.0</td>\n",
       "    </tr>\n",
       "    <tr>\n",
       "      <th>11</th>\n",
       "      <td>3000</td>\n",
       "      <td>3303</td>\n",
       "      <td>Formula D</td>\n",
       "      <td>6.0</td>\n",
       "    </tr>\n",
       "    <tr>\n",
       "      <th>12</th>\n",
       "      <td>3000</td>\n",
       "      <td>10343</td>\n",
       "      <td>Ys</td>\n",
       "      <td>10.0</td>\n",
       "    </tr>\n",
       "    <tr>\n",
       "      <th>13</th>\n",
       "      <td>3000</td>\n",
       "      <td>4311</td>\n",
       "      <td>Jambo</td>\n",
       "      <td>10.0</td>\n",
       "    </tr>\n",
       "    <tr>\n",
       "      <th>14</th>\n",
       "      <td>3000</td>\n",
       "      <td>10346</td>\n",
       "      <td>Yspahan</td>\n",
       "      <td>10.0</td>\n",
       "    </tr>\n",
       "    <tr>\n",
       "      <th>15</th>\n",
       "      <td>3000</td>\n",
       "      <td>1090</td>\n",
       "      <td>Blue Moon City</td>\n",
       "      <td>10.0</td>\n",
       "    </tr>\n",
       "    <tr>\n",
       "      <th>16</th>\n",
       "      <td>3000</td>\n",
       "      <td>6861</td>\n",
       "      <td>Objets trouvés</td>\n",
       "      <td>10.0</td>\n",
       "    </tr>\n",
       "    <tr>\n",
       "      <th>17</th>\n",
       "      <td>3000</td>\n",
       "      <td>9412</td>\n",
       "      <td>Tombouctou</td>\n",
       "      <td>2.0</td>\n",
       "    </tr>\n",
       "    <tr>\n",
       "      <th>18</th>\n",
       "      <td>3000</td>\n",
       "      <td>512</td>\n",
       "      <td>Aqua Romana</td>\n",
       "      <td>8.0</td>\n",
       "    </tr>\n",
       "    <tr>\n",
       "      <th>19</th>\n",
       "      <td>3000</td>\n",
       "      <td>6318</td>\n",
       "      <td>Mesopotamia</td>\n",
       "      <td>4.0</td>\n",
       "    </tr>\n",
       "    <tr>\n",
       "      <th>20</th>\n",
       "      <td>3000</td>\n",
       "      <td>5655</td>\n",
       "      <td>Les Fils de Samarande</td>\n",
       "      <td>8.0</td>\n",
       "    </tr>\n",
       "    <tr>\n",
       "      <th>21</th>\n",
       "      <td>3000</td>\n",
       "      <td>8779</td>\n",
       "      <td>Struggle of Empires</td>\n",
       "      <td>8.0</td>\n",
       "    </tr>\n",
       "    <tr>\n",
       "      <th>22</th>\n",
       "      <td>3000</td>\n",
       "      <td>1815</td>\n",
       "      <td>Clocktowers</td>\n",
       "      <td>6.0</td>\n",
       "    </tr>\n",
       "    <tr>\n",
       "      <th>23</th>\n",
       "      <td>3000</td>\n",
       "      <td>373</td>\n",
       "      <td>Alhambra : 2 - Les Portes de la Ville</td>\n",
       "      <td>10.0</td>\n",
       "    </tr>\n",
       "    <tr>\n",
       "      <th>24</th>\n",
       "      <td>3000</td>\n",
       "      <td>2630</td>\n",
       "      <td>Dos Rios</td>\n",
       "      <td>4.0</td>\n",
       "    </tr>\n",
       "    <tr>\n",
       "      <th>25</th>\n",
       "      <td>3000</td>\n",
       "      <td>1488</td>\n",
       "      <td>Casbah</td>\n",
       "      <td>2.0</td>\n",
       "    </tr>\n",
       "    <tr>\n",
       "      <th>26</th>\n",
       "      <td>3000</td>\n",
       "      <td>6992</td>\n",
       "      <td>Outre-tombe</td>\n",
       "      <td>10.0</td>\n",
       "    </tr>\n",
       "    <tr>\n",
       "      <th>27</th>\n",
       "      <td>3000</td>\n",
       "      <td>5111</td>\n",
       "      <td>Le Bal Masqué des Coccinelles</td>\n",
       "      <td>10.0</td>\n",
       "    </tr>\n",
       "    <tr>\n",
       "      <th>28</th>\n",
       "      <td>3000</td>\n",
       "      <td>1413</td>\n",
       "      <td>Carcassonne - Die Burg</td>\n",
       "      <td>8.0</td>\n",
       "    </tr>\n",
       "    <tr>\n",
       "      <th>29</th>\n",
       "      <td>3000</td>\n",
       "      <td>7240</td>\n",
       "      <td>Pick Picknick</td>\n",
       "      <td>8.0</td>\n",
       "    </tr>\n",
       "    <tr>\n",
       "      <th>30</th>\n",
       "      <td>3000</td>\n",
       "      <td>7845</td>\n",
       "      <td>Richard Cœur de Lion</td>\n",
       "      <td>8.0</td>\n",
       "    </tr>\n",
       "    <tr>\n",
       "      <th>31</th>\n",
       "      <td>3000</td>\n",
       "      <td>3634</td>\n",
       "      <td>Goldland</td>\n",
       "      <td>10.0</td>\n",
       "    </tr>\n",
       "    <tr>\n",
       "      <th>32</th>\n",
       "      <td>3000</td>\n",
       "      <td>7290</td>\n",
       "      <td>Pique Plume</td>\n",
       "      <td>10.0</td>\n",
       "    </tr>\n",
       "    <tr>\n",
       "      <th>33</th>\n",
       "      <td>3000</td>\n",
       "      <td>4850</td>\n",
       "      <td>La Città</td>\n",
       "      <td>8.0</td>\n",
       "    </tr>\n",
       "    <tr>\n",
       "      <th>34</th>\n",
       "      <td>3000</td>\n",
       "      <td>1383</td>\n",
       "      <td>Capitol</td>\n",
       "      <td>6.0</td>\n",
       "    </tr>\n",
       "  </tbody>\n",
       "</table>\n",
       "</div>"
      ],
      "text/plain": [
       "    User id  Game id                           Game name UI  Rating\n",
       "0      3000     2921    El Grande - Edicion 20e Aniversario     6.0\n",
       "1      3000     9995  War of the ring : Anniversary Release    10.0\n",
       "2      3000     8092                      Saint Pétersbourg    10.0\n",
       "3      3000     6269                                 Medina     4.0\n",
       "4      3000     9736                                Unanimo    10.0\n",
       "5      3000     3577                            Glastonbury    10.0\n",
       "6      3000     9316                     Tigris & Euphrates    10.0\n",
       "7      3000     9890                                Vikings    10.0\n",
       "8      3000     3959       Herr der Ringe: Die Entscheidung     4.0\n",
       "9      3000     8275                            Serenissima    10.0\n",
       "10     3000     3460                         Galaxy Trucker    10.0\n",
       "11     3000     3303                              Formula D     6.0\n",
       "12     3000    10343                                     Ys    10.0\n",
       "13     3000     4311                                  Jambo    10.0\n",
       "14     3000    10346                                Yspahan    10.0\n",
       "15     3000     1090                         Blue Moon City    10.0\n",
       "16     3000     6861                         Objets trouvés    10.0\n",
       "17     3000     9412                             Tombouctou     2.0\n",
       "18     3000      512                            Aqua Romana     8.0\n",
       "19     3000     6318                            Mesopotamia     4.0\n",
       "20     3000     5655                  Les Fils de Samarande     8.0\n",
       "21     3000     8779                    Struggle of Empires     8.0\n",
       "22     3000     1815                            Clocktowers     6.0\n",
       "23     3000      373  Alhambra : 2 - Les Portes de la Ville    10.0\n",
       "24     3000     2630                               Dos Rios     4.0\n",
       "25     3000     1488                                 Casbah     2.0\n",
       "26     3000     6992                            Outre-tombe    10.0\n",
       "27     3000     5111          Le Bal Masqué des Coccinelles    10.0\n",
       "28     3000     1413                 Carcassonne - Die Burg     8.0\n",
       "29     3000     7240                          Pick Picknick     8.0\n",
       "30     3000     7845                   Richard Cœur de Lion     8.0\n",
       "31     3000     3634                               Goldland    10.0\n",
       "32     3000     7290                            Pique Plume    10.0\n",
       "33     3000     4850                               La Città     8.0\n",
       "34     3000     1383                                Capitol     6.0"
      ]
     },
     "execution_count": 83,
     "metadata": {},
     "output_type": "execute_result"
    }
   ],
   "source": [
    "avis_clean[[\"User id\", \"Game id\", \"Game name UI\", \"Rating\"]][(avis_clean[\"User id\"] == 3000)].merge(df_pred_games[\"Game id\"], on=\"Game id\")"
   ]
  },
  {
   "cell_type": "code",
   "execution_count": null,
   "metadata": {},
   "outputs": [],
   "source": []
  }
 ],
 "metadata": {
  "kernelspec": {
   "display_name": "venv",
   "language": "python",
   "name": "python3"
  },
  "language_info": {
   "codemirror_mode": {
    "name": "ipython",
    "version": 3
   },
   "file_extension": ".py",
   "mimetype": "text/x-python",
   "name": "python",
   "nbconvert_exporter": "python",
   "pygments_lexer": "ipython3",
   "version": "3.11.4"
  }
 },
 "nbformat": 4,
 "nbformat_minor": 2
}

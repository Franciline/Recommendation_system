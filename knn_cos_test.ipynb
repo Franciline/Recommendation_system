{
 "cells": [
  {
   "cell_type": "code",
   "execution_count": 35,
   "metadata": {},
   "outputs": [
    {
     "name": "stdout",
     "output_type": "stream",
     "text": [
      "The autoreload extension is already loaded. To reload it, use:\n",
      "  %reload_ext autoreload\n"
     ]
    }
   ],
   "source": [
    "import pandas as pd\n",
    "from reco_systems.CF_knn import *\n",
    "%load_ext autoreload\n",
    "%autoreload 2"
   ]
  },
  {
   "cell_type": "code",
   "execution_count": 24,
   "metadata": {},
   "outputs": [],
   "source": [
    "folder = \"database_cleaned\"\n",
    "avis_clean = pd.read_csv(f\"database_cleaned/avis_clean.csv\", index_col=0)\n",
    "jeux_clean = pd.read_csv(f\"database_cleaned/jeux_clean.csv\", index_col=0)"
   ]
  },
  {
   "cell_type": "code",
   "execution_count": 25,
   "metadata": {},
   "outputs": [
    {
     "data": {
      "text/plain": [
       "array([    4,     6,    15, ..., 10522, 10531, 10546], shape=(2887,))"
      ]
     },
     "execution_count": 25,
     "metadata": {},
     "output_type": "execute_result"
    }
   ],
   "source": [
    "rev_filter, table_assoc = filter_games(df_reviews=avis_clean, min_reviews=10) \n",
    "table_assoc.values"
   ]
  },
  {
   "cell_type": "code",
   "execution_count": 26,
   "metadata": {},
   "outputs": [
    {
     "data": {
      "text/plain": [
       "array([[0. , 0. , 8.6, ..., 0. , 0. , 0. ],\n",
       "       [0. , 0. , 6.5, ..., 0. , 0. , 0. ],\n",
       "       [0. , 0. , 0. , ..., 0. , 6. , 0. ],\n",
       "       ...,\n",
       "       [0. , 0. , 0. , ..., 0. , 0. , 0. ],\n",
       "       [0. , 0. , 0. , ..., 0. , 0. , 0. ],\n",
       "       [0. , 0. , 0. , ..., 0. , 0. , 0. ]], shape=(10085, 2887))"
      ]
     },
     "execution_count": 26,
     "metadata": {},
     "output_type": "execute_result"
    }
   ],
   "source": [
    "matrix_ratings = get_matrix_user_game(rev_filter)\n",
    "matrix_ratings.toarray()"
   ]
  },
  {
   "cell_type": "code",
   "execution_count": 27,
   "metadata": {},
   "outputs": [],
   "source": [
    "similarity_matrix = calc_similarity_matrix(matrix_ratings, dist_type=\"cos\")"
   ]
  },
  {
   "cell_type": "code",
   "execution_count": 28,
   "metadata": {},
   "outputs": [
    {
     "data": {
      "text/plain": [
       "array([ 296, 1286,  327,  738,  739,    5,  498,  492,  740,  741,  743,\n",
       "         23, 1452, 5189,  676,  376, 1227, 5157,   46,  167])"
      ]
     },
     "execution_count": 28,
     "metadata": {},
     "output_type": "execute_result"
    }
   ],
   "source": [
    "similar_users = get_KNN(similarity_matrix, k=20, user_ind=5)\n",
    "similar_users"
   ]
  },
  {
   "cell_type": "code",
   "execution_count": 36,
   "metadata": {},
   "outputs": [
    {
     "ename": "TypeError",
     "evalue": "get_games_ind() missing 1 required positional argument: 'selected_users'",
     "output_type": "error",
     "traceback": [
      "\u001b[0;31m---------------------------------------------------------------------------\u001b[0m",
      "\u001b[0;31mTypeError\u001b[0m                                 Traceback (most recent call last)",
      "Cell \u001b[0;32mIn[36], line 1\u001b[0m\n\u001b[0;32m----> 1\u001b[0m games_ind \u001b[38;5;241m=\u001b[39m \u001b[43mget_games_ind\u001b[49m\u001b[43m(\u001b[49m\u001b[43mmatrix_ratings\u001b[49m\u001b[43m,\u001b[49m\u001b[43m \u001b[49m\u001b[43msimilar_users\u001b[49m\u001b[43m,\u001b[49m\u001b[43m \u001b[49m\u001b[43mn\u001b[49m\u001b[38;5;241;43m=\u001b[39;49m\u001b[38;5;241;43m10\u001b[39;49m\u001b[43m)\u001b[49m\n\u001b[1;32m      2\u001b[0m games_ind\n",
      "\u001b[0;31mTypeError\u001b[0m: get_games_ind() missing 1 required positional argument: 'selected_users'"
     ]
    }
   ],
   "source": [
    "games_ind = get_games_ind(matrix_ratings, similar_users, n=10)\n",
    "games_ind"
   ]
  },
  {
   "cell_type": "code",
   "execution_count": 30,
   "metadata": {},
   "outputs": [
    {
     "data": {
      "text/html": [
       "<div>\n",
       "<style scoped>\n",
       "    .dataframe tbody tr th:only-of-type {\n",
       "        vertical-align: middle;\n",
       "    }\n",
       "\n",
       "    .dataframe tbody tr th {\n",
       "        vertical-align: top;\n",
       "    }\n",
       "\n",
       "    .dataframe thead th {\n",
       "        text-align: right;\n",
       "    }\n",
       "</style>\n",
       "<table border=\"1\" class=\"dataframe\">\n",
       "  <thead>\n",
       "    <tr style=\"text-align: right;\">\n",
       "      <th></th>\n",
       "      <th>Game id</th>\n",
       "      <th>Game name website</th>\n",
       "      <th>Game name UI</th>\n",
       "      <th>Game name year</th>\n",
       "      <th>Description</th>\n",
       "      <th>Type</th>\n",
       "      <th>Game duration</th>\n",
       "      <th>Min number of players</th>\n",
       "      <th>Max number of players</th>\n",
       "      <th>Age min</th>\n",
       "      <th>Age max</th>\n",
       "    </tr>\n",
       "  </thead>\n",
       "  <tbody>\n",
       "    <tr>\n",
       "      <th>362</th>\n",
       "      <td>362</td>\n",
       "      <td>alchimistes</td>\n",
       "      <td>Alchimistes</td>\n",
       "      <td>Alchimistes (2015)</td>\n",
       "      <td>Le 1er au classement BGG à Essen 2014 et le 4è...</td>\n",
       "      <td>Enchères|Bluff|Déduction|Médiéval-fantastique|...</td>\n",
       "      <td>90.0</td>\n",
       "      <td>2.0</td>\n",
       "      <td>4.0</td>\n",
       "      <td>13.0</td>\n",
       "      <td>99.0</td>\n",
       "    </tr>\n",
       "    <tr>\n",
       "      <th>1471</th>\n",
       "      <td>1471</td>\n",
       "      <td>carson-city</td>\n",
       "      <td>Carson City</td>\n",
       "      <td>Carson City (2009)</td>\n",
       "      <td>\"Carson City\" est un jeu de développement « ur...</td>\n",
       "      <td>Far-west|Placement d'ouvrier</td>\n",
       "      <td>90.0</td>\n",
       "      <td>2.0</td>\n",
       "      <td>5.0</td>\n",
       "      <td>12.0</td>\n",
       "      <td>99.0</td>\n",
       "    </tr>\n",
       "    <tr>\n",
       "      <th>3062</th>\n",
       "      <td>3062</td>\n",
       "      <td>evolution-3</td>\n",
       "      <td>Evolution</td>\n",
       "      <td>Evolution (2016)</td>\n",
       "      <td>Survivre ou périr ! Dans Evolution, vous cherc...</td>\n",
       "      <td>Animaux|Choix simultanés|Combinaison|Gestion d...</td>\n",
       "      <td>60.0</td>\n",
       "      <td>2.0</td>\n",
       "      <td>6.0</td>\n",
       "      <td>12.0</td>\n",
       "      <td>99.0</td>\n",
       "    </tr>\n",
       "    <tr>\n",
       "      <th>4290</th>\n",
       "      <td>4290</td>\n",
       "      <td>its-a-wonderful-world</td>\n",
       "      <td>It's a Wonderful World</td>\n",
       "      <td>It's a Wonderful World (2019)</td>\n",
       "      <td>Dans It's a Wonderful World, les joueurs sont ...</td>\n",
       "      <td>Draft|Gestion|Science fiction|Programmation</td>\n",
       "      <td>45.0</td>\n",
       "      <td>1.0</td>\n",
       "      <td>5.0</td>\n",
       "      <td>14.0</td>\n",
       "      <td>99.0</td>\n",
       "    </tr>\n",
       "    <tr>\n",
       "      <th>5159</th>\n",
       "      <td>5159</td>\n",
       "      <td>le-dilemme-du-roi</td>\n",
       "      <td>Le Dilemme du Roi</td>\n",
       "      <td>Le Dilemme du Roi (2020)</td>\n",
       "      <td>Vos choix forgent le destin du royaume ! Le Di...</td>\n",
       "      <td>Diplomatie|Médiéval|Majorité</td>\n",
       "      <td>60.0</td>\n",
       "      <td>3.0</td>\n",
       "      <td>5.0</td>\n",
       "      <td>14.0</td>\n",
       "      <td>99.0</td>\n",
       "    </tr>\n",
       "    <tr>\n",
       "      <th>5918</th>\n",
       "      <td>5918</td>\n",
       "      <td>lords-of-waterdeep</td>\n",
       "      <td>Lords of Waterdeep</td>\n",
       "      <td>Lords of Waterdeep (2012)</td>\n",
       "      <td>Waterdeep, la cité des splendeurs - le plus re...</td>\n",
       "      <td>Médiéval-fantastique|Gestion|Placement d'ouvrier</td>\n",
       "      <td>60.0</td>\n",
       "      <td>2.0</td>\n",
       "      <td>5.0</td>\n",
       "      <td>12.0</td>\n",
       "      <td>99.0</td>\n",
       "    </tr>\n",
       "    <tr>\n",
       "      <th>6179</th>\n",
       "      <td>6179</td>\n",
       "      <td>mariposas</td>\n",
       "      <td>Mariposas</td>\n",
       "      <td>Mariposas (2020)</td>\n",
       "      <td>Chaque année, au printemps, des millions de pa...</td>\n",
       "      <td>NaN</td>\n",
       "      <td>60.0</td>\n",
       "      <td>2.0</td>\n",
       "      <td>5.0</td>\n",
       "      <td>14.0</td>\n",
       "      <td>99.0</td>\n",
       "    </tr>\n",
       "    <tr>\n",
       "      <th>6615</th>\n",
       "      <td>6615</td>\n",
       "      <td>museum</td>\n",
       "      <td>Museum</td>\n",
       "      <td>Museum (2018)</td>\n",
       "      <td>Bienvenue dans le monde de Museum! Crée par Ol...</td>\n",
       "      <td>Amateur|Antiquité|Art|Jeux de plateau|Collecti...</td>\n",
       "      <td>90.0</td>\n",
       "      <td>2.0</td>\n",
       "      <td>4.0</td>\n",
       "      <td>10.0</td>\n",
       "      <td>99.0</td>\n",
       "    </tr>\n",
       "    <tr>\n",
       "      <th>6705</th>\n",
       "      <td>6705</td>\n",
       "      <td>nagaraja-1</td>\n",
       "      <td>Nagaraja</td>\n",
       "      <td>Nagaraja (2019)</td>\n",
       "      <td>En Inde, les temples jumeaux de deux divinités...</td>\n",
       "      <td>Choix simultanés|Contes, Mythes &amp; Légendes|Par...</td>\n",
       "      <td>30.0</td>\n",
       "      <td>2.0</td>\n",
       "      <td>2.0</td>\n",
       "      <td>9.0</td>\n",
       "      <td>99.0</td>\n",
       "    </tr>\n",
       "    <tr>\n",
       "      <th>7899</th>\n",
       "      <td>7899</td>\n",
       "      <td>robinson-crusoe-aventures-sur-lile-maudite</td>\n",
       "      <td>Robinson Crusoé - Aventures sur l’Île Maudite</td>\n",
       "      <td>Robinson Crusoé - Aventures sur l’Île Maudite ...</td>\n",
       "      <td>Dans Robinson Crusoé, vous et vos amis, incarn...</td>\n",
       "      <td>Points d'action|Ambiance|Card-driven|Coopérati...</td>\n",
       "      <td>120.0</td>\n",
       "      <td>1.0</td>\n",
       "      <td>4.0</td>\n",
       "      <td>14.0</td>\n",
       "      <td>99.0</td>\n",
       "    </tr>\n",
       "  </tbody>\n",
       "</table>\n",
       "</div>"
      ],
      "text/plain": [
       "      Game id                           Game name website  \\\n",
       "362       362                                 alchimistes   \n",
       "1471     1471                                 carson-city   \n",
       "3062     3062                                 evolution-3   \n",
       "4290     4290                       its-a-wonderful-world   \n",
       "5159     5159                           le-dilemme-du-roi   \n",
       "5918     5918                          lords-of-waterdeep   \n",
       "6179     6179                                   mariposas   \n",
       "6615     6615                                      museum   \n",
       "6705     6705                                  nagaraja-1   \n",
       "7899     7899  robinson-crusoe-aventures-sur-lile-maudite   \n",
       "\n",
       "                                       Game name UI  \\\n",
       "362                                     Alchimistes   \n",
       "1471                                    Carson City   \n",
       "3062                                      Evolution   \n",
       "4290                         It's a Wonderful World   \n",
       "5159                              Le Dilemme du Roi   \n",
       "5918                             Lords of Waterdeep   \n",
       "6179                                      Mariposas   \n",
       "6615                                         Museum   \n",
       "6705                                       Nagaraja   \n",
       "7899  Robinson Crusoé - Aventures sur l’Île Maudite   \n",
       "\n",
       "                                         Game name year  \\\n",
       "362                                  Alchimistes (2015)   \n",
       "1471                                 Carson City (2009)   \n",
       "3062                                   Evolution (2016)   \n",
       "4290                      It's a Wonderful World (2019)   \n",
       "5159                           Le Dilemme du Roi (2020)   \n",
       "5918                          Lords of Waterdeep (2012)   \n",
       "6179                                   Mariposas (2020)   \n",
       "6615                                      Museum (2018)   \n",
       "6705                                    Nagaraja (2019)   \n",
       "7899  Robinson Crusoé - Aventures sur l’Île Maudite ...   \n",
       "\n",
       "                                            Description  \\\n",
       "362   Le 1er au classement BGG à Essen 2014 et le 4è...   \n",
       "1471  \"Carson City\" est un jeu de développement « ur...   \n",
       "3062  Survivre ou périr ! Dans Evolution, vous cherc...   \n",
       "4290  Dans It's a Wonderful World, les joueurs sont ...   \n",
       "5159  Vos choix forgent le destin du royaume ! Le Di...   \n",
       "5918  Waterdeep, la cité des splendeurs - le plus re...   \n",
       "6179  Chaque année, au printemps, des millions de pa...   \n",
       "6615  Bienvenue dans le monde de Museum! Crée par Ol...   \n",
       "6705  En Inde, les temples jumeaux de deux divinités...   \n",
       "7899  Dans Robinson Crusoé, vous et vos amis, incarn...   \n",
       "\n",
       "                                                   Type  Game duration  \\\n",
       "362   Enchères|Bluff|Déduction|Médiéval-fantastique|...           90.0   \n",
       "1471                       Far-west|Placement d'ouvrier           90.0   \n",
       "3062  Animaux|Choix simultanés|Combinaison|Gestion d...           60.0   \n",
       "4290        Draft|Gestion|Science fiction|Programmation           45.0   \n",
       "5159                       Diplomatie|Médiéval|Majorité           60.0   \n",
       "5918   Médiéval-fantastique|Gestion|Placement d'ouvrier           60.0   \n",
       "6179                                                NaN           60.0   \n",
       "6615  Amateur|Antiquité|Art|Jeux de plateau|Collecti...           90.0   \n",
       "6705  Choix simultanés|Contes, Mythes & Légendes|Par...           30.0   \n",
       "7899  Points d'action|Ambiance|Card-driven|Coopérati...          120.0   \n",
       "\n",
       "      Min number of players  Max number of players  Age min  Age max  \n",
       "362                     2.0                    4.0     13.0     99.0  \n",
       "1471                    2.0                    5.0     12.0     99.0  \n",
       "3062                    2.0                    6.0     12.0     99.0  \n",
       "4290                    1.0                    5.0     14.0     99.0  \n",
       "5159                    3.0                    5.0     14.0     99.0  \n",
       "5918                    2.0                    5.0     12.0     99.0  \n",
       "6179                    2.0                    5.0     14.0     99.0  \n",
       "6615                    2.0                    4.0     10.0     99.0  \n",
       "6705                    2.0                    2.0      9.0     99.0  \n",
       "7899                    1.0                    4.0     14.0     99.0  "
      ]
     },
     "execution_count": 30,
     "metadata": {},
     "output_type": "execute_result"
    }
   ],
   "source": [
    "get_games_df(jeux_clean, table_assoc, games_ind)"
   ]
  },
  {
   "cell_type": "code",
   "execution_count": null,
   "metadata": {},
   "outputs": [],
   "source": []
  }
 ],
 "metadata": {
  "kernelspec": {
   "display_name": "venv",
   "language": "python",
   "name": "python3"
  },
  "language_info": {
   "codemirror_mode": {
    "name": "ipython",
    "version": 3
   },
   "file_extension": ".py",
   "mimetype": "text/x-python",
   "name": "python",
   "nbconvert_exporter": "python",
   "pygments_lexer": "ipython3",
   "version": "3.11.4"
  }
 },
 "nbformat": 4,
 "nbformat_minor": 2
}

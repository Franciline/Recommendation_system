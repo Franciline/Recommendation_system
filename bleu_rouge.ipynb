{
 "cells": [
  {
   "cell_type": "markdown",
   "metadata": {},
   "source": [
    "# Analyse Bleu/Rouge ?"
   ]
  },
  {
   "cell_type": "code",
   "execution_count": 24,
   "metadata": {},
   "outputs": [
    {
     "name": "stdout",
     "output_type": "stream",
     "text": [
      "The autoreload extension is already loaded. To reload it, use:\n",
      "  %reload_ext autoreload\n"
     ]
    }
   ],
   "source": [
    "import numpy as np\n",
    "import pandas as pd\n",
    "from sacrebleu import BLEU\n",
    "from rouge import Rouge \n",
    "import matplotlib.pyplot as plt\n",
    "from reco_systems.filter import filter_df\n",
    "import reco_systems.text_filtering as ft\n",
    "from reco_systems.user_game_matrix import *\n",
    "import seaborn as sns\n",
    "\n",
    "%load_ext autoreload\n",
    "%autoreload 2"
   ]
  },
  {
   "cell_type": "code",
   "execution_count": 65,
   "metadata": {},
   "outputs": [
    {
     "name": "stdout",
     "output_type": "stream",
     "text": [
      "11201 10549\n",
      "2252 2676\n",
      "1957 2618\n",
      "1947 2616\n",
      "1946 2615\n",
      "1945 2614\n"
     ]
    }
   ],
   "source": [
    "# Construction de la BDD avec avis centrés\n",
    "avis = pd.read_csv(\"database_cleaned/avis_clean.csv\", index_col = 0)\n",
    "min_reviews = 10\n",
    "rev_filter = filter_df(avis, min_reviews)\n",
    "rev_filter = rev_filter[rev_filter[\"Comment body\"].str.split().apply(len) >= 10]\n",
    "filtered_centrd_data, _= center_score(rev_filter)\n",
    "\n",
    "def concat_inplace(df1, df2) -> pd.DataFrame:\n",
    "    return pd.concat([df1,df2], ignore_index=True)"
   ]
  },
  {
   "cell_type": "code",
   "execution_count": null,
   "metadata": {},
   "outputs": [
    {
     "name": "stdout",
     "output_type": "stream",
     "text": [
      "[121  40   1  46 117 541 633 416 956 145 681  47 902 346  49  54 235 601\n",
      " 468 562]\n",
      "121  :  208\n",
      "Voisins :  [ 638  117  692  563  600    1  561  902 1261   40  145  541  833  976\n",
      " 1061  468  505  362  610  238]\n",
      "Jeu reco :  9476\n",
      "ID des voisins et du joueur :  [ 208 1941 3628]\n",
      "ID du ref :  208\n",
      "Ref avis : 52253\n",
      "40  :  83\n",
      "Voisins :  [ 177  117  599  121  902  605 1061 1272  772  610  569   59  600  607\n",
      "  302  681  618 1037 1460  692]\n",
      "Jeu reco :  6000\n",
      "ID des voisins et du joueur :  [ 208   83 2049]\n",
      "ID du ref :  83\n",
      "Ref avis : 78980\n"
     ]
    },
    {
     "name": "stderr",
     "output_type": "stream",
     "text": [
      "It is recommended to enable `effective_order` for sentence-level BLEU.\n",
      "C:\\Users\\arlyc\\AppData\\Local\\Temp\\ipykernel_25732\\3325687267.py:91: FutureWarning: The behavior of DataFrame concatenation with empty or all-NA entries is deprecated. In a future version, this will no longer exclude empty or all-NA columns when determining the result dtypes. To retain the old behavior, exclude the relevant entries before the concat operation.\n",
      "  bleu_rouge = pd.concat([bleu_rogue,pd.melt(br,id_vars=['User ref', 'Game rec', 'Avis id', 'User id', 'Comment'], value_vars=['Bleu', 'Rouge'],var_name=\"Type\",value_name=\"Val\")],ignore_index=True)\n"
     ]
    },
    {
     "name": "stdout",
     "output_type": "stream",
     "text": [
      "1  :  1\n",
      "Voisins :  [ 332   46  121  145  379  629  101  123  102  362  167  407  245    3\n",
      "  118 1485  692  464  704  197]\n",
      "Jeu reco :  10118\n",
      "ID des voisins et du joueur :  [208   1]\n",
      "ID du ref :  1\n",
      "Ref avis : 112494\n"
     ]
    },
    {
     "name": "stderr",
     "output_type": "stream",
     "text": [
      "It is recommended to enable `effective_order` for sentence-level BLEU.\n",
      "C:\\Users\\arlyc\\AppData\\Local\\Temp\\ipykernel_25732\\3325687267.py:91: FutureWarning: The behavior of DataFrame concatenation with empty or all-NA entries is deprecated. In a future version, this will no longer exclude empty or all-NA columns when determining the result dtypes. To retain the old behavior, exclude the relevant entries before the concat operation.\n",
      "  bleu_rouge = pd.concat([bleu_rogue,pd.melt(br,id_vars=['User ref', 'Game rec', 'Avis id', 'User id', 'Comment'], value_vars=['Bleu', 'Rouge'],var_name=\"Type\",value_name=\"Val\")],ignore_index=True)\n"
     ]
    },
    {
     "name": "stdout",
     "output_type": "stream",
     "text": [
      "46  :  91\n",
      "Voisins :  [   1  176   29 1496  384 1345  693  198  780  104 1034  599  526  470\n",
      "  117  737  874  522 1487  315]\n",
      "Jeu reco :  1926\n",
      "ID des voisins et du joueur :  [201  91]\n",
      "ID du ref :  91\n",
      "Ref avis : 131887\n"
     ]
    },
    {
     "name": "stderr",
     "output_type": "stream",
     "text": [
      "It is recommended to enable `effective_order` for sentence-level BLEU.\n",
      "C:\\Users\\arlyc\\AppData\\Local\\Temp\\ipykernel_25732\\3325687267.py:91: FutureWarning: The behavior of DataFrame concatenation with empty or all-NA entries is deprecated. In a future version, this will no longer exclude empty or all-NA columns when determining the result dtypes. To retain the old behavior, exclude the relevant entries before the concat operation.\n",
      "  bleu_rouge = pd.concat([bleu_rogue,pd.melt(br,id_vars=['User ref', 'Game rec', 'Avis id', 'User id', 'Comment'], value_vars=['Bleu', 'Rouge'],var_name=\"Type\",value_name=\"Val\")],ignore_index=True)\n"
     ]
    },
    {
     "name": "stdout",
     "output_type": "stream",
     "text": [
      "117  :  201\n",
      "Voisins :  [ 615  541  605  902  471  121  942  233   59   48  563  607 1061  362\n",
      " 1272  627 1413  681  773  772]\n",
      "Jeu reco :  2736\n",
      "ID des voisins et du joueur :  [ 201 1926]\n",
      "ID du ref :  201\n",
      "Ref avis : 122800\n"
     ]
    },
    {
     "name": "stderr",
     "output_type": "stream",
     "text": [
      "It is recommended to enable `effective_order` for sentence-level BLEU.\n",
      "C:\\Users\\arlyc\\AppData\\Local\\Temp\\ipykernel_25732\\3325687267.py:91: FutureWarning: The behavior of DataFrame concatenation with empty or all-NA entries is deprecated. In a future version, this will no longer exclude empty or all-NA columns when determining the result dtypes. To retain the old behavior, exclude the relevant entries before the concat operation.\n",
      "  bleu_rouge = pd.concat([bleu_rogue,pd.melt(br,id_vars=['User ref', 'Game rec', 'Avis id', 'User id', 'Comment'], value_vars=['Bleu', 'Rouge'],var_name=\"Type\",value_name=\"Val\")],ignore_index=True)\n"
     ]
    },
    {
     "name": "stdout",
     "output_type": "stream",
     "text": [
      "541  :  1724\n",
      "Voisins :  [ 117  563   59  773  942  633  235  471  121  243  615  374  627  598\n",
      "  634  856  570 1004 1067 1157]\n",
      "Jeu reco :  5237\n",
      "ID des voisins et du joueur :  [ 208 1724]\n",
      "ID du ref :  1724\n",
      "Ref avis : 73748\n",
      "633  :  1936\n",
      "Voisins :  [1416  605  615   48  541  571  564  313  423 1358  606  971 1854  760\n",
      " 1701  291  902   59  976  385]\n",
      "Jeu reco :  8130\n",
      "ID des voisins et du joueur :  [1936 1904]\n",
      "ID du ref :  1936\n",
      "Ref avis : 134154\n"
     ]
    },
    {
     "name": "stderr",
     "output_type": "stream",
     "text": [
      "It is recommended to enable `effective_order` for sentence-level BLEU.\n",
      "C:\\Users\\arlyc\\AppData\\Local\\Temp\\ipykernel_25732\\3325687267.py:91: FutureWarning: The behavior of DataFrame concatenation with empty or all-NA entries is deprecated. In a future version, this will no longer exclude empty or all-NA columns when determining the result dtypes. To retain the old behavior, exclude the relevant entries before the concat operation.\n",
      "  bleu_rouge = pd.concat([bleu_rogue,pd.melt(br,id_vars=['User ref', 'Game rec', 'Avis id', 'User id', 'Comment'], value_vars=['Bleu', 'Rouge'],var_name=\"Type\",value_name=\"Val\")],ignore_index=True)\n"
     ]
    },
    {
     "name": "stdout",
     "output_type": "stream",
     "text": [
      "416  :  1191\n",
      "Voisins :  [ 439  436  959  589 1051 1339 1316 1024  969 1687 1069 1859 1368  113\n",
      " 1534  529 1797  751  290  690]\n",
      "Jeu reco :  3183\n",
      "ID des voisins et du joueur :  [1191 6656]\n",
      "ID du ref :  1191\n",
      "Ref avis : 17490\n",
      "956  :  2747\n",
      "Voisins :  [1573  958  704 1523 1140  453 1913 1833 1872 1571  896  283  589 1107\n",
      " 1687  445 1072 1799 1162 1191]\n",
      "Jeu reco :  1077\n",
      "ID des voisins et du joueur :  [2747 4735]\n",
      "ID du ref :  2747\n",
      "Ref avis : 52050\n",
      "145  :  291\n",
      "Voisins :  [ 976  692  717  601  681    1  121  504  607 1061  602  612  629   48\n",
      "  245  293 1666  117  716  103]\n",
      "Jeu reco :  6924\n",
      "ID des voisins et du joueur :  [  1 291]\n",
      "ID du ref :  291\n",
      "Ref avis : 25974\n"
     ]
    },
    {
     "name": "stderr",
     "output_type": "stream",
     "text": [
      "It is recommended to enable `effective_order` for sentence-level BLEU.\n",
      "C:\\Users\\arlyc\\AppData\\Local\\Temp\\ipykernel_25732\\3325687267.py:91: FutureWarning: The behavior of DataFrame concatenation with empty or all-NA entries is deprecated. In a future version, this will no longer exclude empty or all-NA columns when determining the result dtypes. To retain the old behavior, exclude the relevant entries before the concat operation.\n",
      "  bleu_rouge = pd.concat([bleu_rogue,pd.melt(br,id_vars=['User ref', 'Game rec', 'Avis id', 'User id', 'Comment'], value_vars=['Bleu', 'Rouge'],var_name=\"Type\",value_name=\"Val\")],ignore_index=True)\n"
     ]
    },
    {
     "name": "stdout",
     "output_type": "stream",
     "text": [
      "681  :  1998\n",
      "Voisins :  [ 976 1036  605  145  117  612 1272  601  902  599  302  607  194  772\n",
      "  748  614  572  269  641   48]\n",
      "Jeu reco :  6859\n",
      "ID des voisins et du joueur :  [ 201 1998]\n",
      "ID du ref :  1998\n",
      "Ref avis : 123998\n",
      "47  :  92\n",
      "Voisins :  [1231  539  976 1719  473 1475  641 1622 1813  620  605  681  902   49\n",
      " 1210  982  612 1095 1197  836]\n",
      "Jeu reco :  7815\n",
      "ID des voisins et du joueur :  [  92 2878]\n",
      "ID du ref :  92\n",
      "Ref avis : 58039\n",
      "902  :  2584\n",
      "Voisins :  [ 117  599  302 1358  605  976   48 1061  194  772  627  681  121  284\n",
      "  571  692  621   40  385  615]\n",
      "Jeu reco :  9225\n",
      "ID des voisins et du joueur :  [  93 2584]\n",
      "ID du ref :  2584\n",
      "Ref avis : 18278\n"
     ]
    },
    {
     "name": "stderr",
     "output_type": "stream",
     "text": [
      "It is recommended to enable `effective_order` for sentence-level BLEU.\n",
      "C:\\Users\\arlyc\\AppData\\Local\\Temp\\ipykernel_25732\\3325687267.py:91: FutureWarning: The behavior of DataFrame concatenation with empty or all-NA entries is deprecated. In a future version, this will no longer exclude empty or all-NA columns when determining the result dtypes. To retain the old behavior, exclude the relevant entries before the concat operation.\n",
      "  bleu_rouge = pd.concat([bleu_rogue,pd.melt(br,id_vars=['User ref', 'Game rec', 'Avis id', 'User id', 'Comment'], value_vars=['Bleu', 'Rouge'],var_name=\"Type\",value_name=\"Val\")],ignore_index=True)\n"
     ]
    },
    {
     "name": "stdout",
     "output_type": "stream",
     "text": [
      "346  :  885\n",
      "Voisins :  [  48  610  233  772 1740  184  620   59  605  627  902 1283  302  567\n",
      "  829  316  239  117  667 1414]\n",
      "Jeu reco :  8659\n",
      "ID des voisins et du joueur :  [ 93 885]\n",
      "ID du ref :  885\n",
      "Ref avis : 41205\n"
     ]
    },
    {
     "name": "stderr",
     "output_type": "stream",
     "text": [
      "It is recommended to enable `effective_order` for sentence-level BLEU.\n",
      "C:\\Users\\arlyc\\AppData\\Local\\Temp\\ipykernel_25732\\3325687267.py:91: FutureWarning: The behavior of DataFrame concatenation with empty or all-NA entries is deprecated. In a future version, this will no longer exclude empty or all-NA columns when determining the result dtypes. To retain the old behavior, exclude the relevant entries before the concat operation.\n",
      "  bleu_rouge = pd.concat([bleu_rogue,pd.melt(br,id_vars=['User ref', 'Game rec', 'Avis id', 'User id', 'Comment'], value_vars=['Bleu', 'Rouge'],var_name=\"Type\",value_name=\"Val\")],ignore_index=True)\n"
     ]
    },
    {
     "name": "stdout",
     "output_type": "stream",
     "text": [
      "49  :  94\n",
      "Voisins :  [1901 1929 1094  607   72  235   82 1090   57  309 1532  609   47 1246\n",
      "   53  610  639  648  635  780]\n",
      "Jeu reco :  7892\n",
      "ID des voisins et du joueur :  [  94 2282]\n",
      "ID du ref :  94\n",
      "Ref avis : 129042\n"
     ]
    },
    {
     "name": "stderr",
     "output_type": "stream",
     "text": [
      "It is recommended to enable `effective_order` for sentence-level BLEU.\n",
      "C:\\Users\\arlyc\\AppData\\Local\\Temp\\ipykernel_25732\\3325687267.py:91: FutureWarning: The behavior of DataFrame concatenation with empty or all-NA entries is deprecated. In a future version, this will no longer exclude empty or all-NA columns when determining the result dtypes. To retain the old behavior, exclude the relevant entries before the concat operation.\n",
      "  bleu_rouge = pd.concat([bleu_rogue,pd.melt(br,id_vars=['User ref', 'Game rec', 'Avis id', 'User id', 'Comment'], value_vars=['Bleu', 'Rouge'],var_name=\"Type\",value_name=\"Val\")],ignore_index=True)\n"
     ]
    },
    {
     "name": "stdout",
     "output_type": "stream",
     "text": [
      "54  :  99\n",
      "Voisins :  [1399 1365  500    4 1074   57  331 1175  112   51  682  503 1398  966\n",
      " 1279  811 1769  121  860 1036]\n",
      "Jeu reco :  10118\n",
      "ID des voisins et du joueur :  [208  99]\n",
      "ID du ref :  99\n",
      "Ref avis : 112501\n"
     ]
    },
    {
     "name": "stderr",
     "output_type": "stream",
     "text": [
      "It is recommended to enable `effective_order` for sentence-level BLEU.\n",
      "C:\\Users\\arlyc\\AppData\\Local\\Temp\\ipykernel_25732\\3325687267.py:91: FutureWarning: The behavior of DataFrame concatenation with empty or all-NA entries is deprecated. In a future version, this will no longer exclude empty or all-NA columns when determining the result dtypes. To retain the old behavior, exclude the relevant entries before the concat operation.\n",
      "  bleu_rouge = pd.concat([bleu_rogue,pd.melt(br,id_vars=['User ref', 'Game rec', 'Avis id', 'User id', 'Comment'], value_vars=['Bleu', 'Rouge'],var_name=\"Type\",value_name=\"Val\")],ignore_index=True)\n"
     ]
    },
    {
     "name": "stdout",
     "output_type": "stream",
     "text": [
      "235  :  574\n",
      "Voisins :  [ 636  541  642  828   49  933  607 1270 1854  605 1695  742  841  117\n",
      " 1556  907  467  671  177  565]\n",
      "Jeu reco :  5619\n",
      "ID des voisins et du joueur :  [201 574]\n",
      "ID du ref :  574\n",
      "Ref avis : 124373\n"
     ]
    },
    {
     "name": "stderr",
     "output_type": "stream",
     "text": [
      "It is recommended to enable `effective_order` for sentence-level BLEU.\n",
      "C:\\Users\\arlyc\\AppData\\Local\\Temp\\ipykernel_25732\\3325687267.py:91: FutureWarning: The behavior of DataFrame concatenation with empty or all-NA entries is deprecated. In a future version, this will no longer exclude empty or all-NA columns when determining the result dtypes. To retain the old behavior, exclude the relevant entries before the concat operation.\n",
      "  bleu_rouge = pd.concat([bleu_rogue,pd.melt(br,id_vars=['User ref', 'Game rec', 'Avis id', 'User id', 'Comment'], value_vars=['Bleu', 'Rouge'],var_name=\"Type\",value_name=\"Val\")],ignore_index=True)\n"
     ]
    },
    {
     "name": "stdout",
     "output_type": "stream",
     "text": [
      "601  :  1900\n",
      "Voisins :  [ 717  692  145 1141  629  681 1330  615 1767  287  612 1454  748  117\n",
      " 1271 1739  283  846  214 1061]\n",
      "Jeu reco :  2476\n",
      "ID des voisins et du joueur :  [1900 2247]\n",
      "ID du ref :  1900\n",
      "Ref avis : 73734\n",
      "468  :  1342\n",
      "Voisins :  [ 817   80 1743  121 1560  302 1267 1929  117  599 1094 1089 1901  902\n",
      "  825  854  571  166  770  772]\n",
      "Jeu reco :  2360\n",
      "ID des voisins et du joueur :  [1342 2385]\n",
      "ID du ref :  1342\n",
      "Ref avis : 92238\n",
      "562  :  1816\n",
      "Voisins :  [1447  885 1583 1618  722  795 1342 1482  604  817  608 1490  635  402\n",
      "  627  914  954   51 1577 1726]\n",
      "Jeu reco :  5423\n",
      "ID des voisins et du joueur :  [1816 1926]\n",
      "ID du ref :  1816\n",
      "Ref avis : 8687\n"
     ]
    },
    {
     "name": "stderr",
     "output_type": "stream",
     "text": [
      "It is recommended to enable `effective_order` for sentence-level BLEU.\n",
      "C:\\Users\\arlyc\\AppData\\Local\\Temp\\ipykernel_25732\\3325687267.py:91: FutureWarning: The behavior of DataFrame concatenation with empty or all-NA entries is deprecated. In a future version, this will no longer exclude empty or all-NA columns when determining the result dtypes. To retain the old behavior, exclude the relevant entries before the concat operation.\n",
      "  bleu_rouge = pd.concat([bleu_rogue,pd.melt(br,id_vars=['User ref', 'Game rec', 'Avis id', 'User id', 'Comment'], value_vars=['Bleu', 'Rouge'],var_name=\"Type\",value_name=\"Val\")],ignore_index=True)\n"
     ]
    },
    {
     "data": {
      "text/html": [
       "<div>\n",
       "<style scoped>\n",
       "    .dataframe tbody tr th:only-of-type {\n",
       "        vertical-align: middle;\n",
       "    }\n",
       "\n",
       "    .dataframe tbody tr th {\n",
       "        vertical-align: top;\n",
       "    }\n",
       "\n",
       "    .dataframe thead th {\n",
       "        text-align: right;\n",
       "    }\n",
       "</style>\n",
       "<table border=\"1\" class=\"dataframe\">\n",
       "  <thead>\n",
       "    <tr style=\"text-align: right;\">\n",
       "      <th></th>\n",
       "      <th>User ref</th>\n",
       "      <th>Game rec</th>\n",
       "      <th>Avis id</th>\n",
       "      <th>User id</th>\n",
       "      <th>Comment</th>\n",
       "      <th>Type</th>\n",
       "      <th>Val</th>\n",
       "    </tr>\n",
       "  </thead>\n",
       "  <tbody>\n",
       "    <tr>\n",
       "      <th>0</th>\n",
       "      <td>1816</td>\n",
       "      <td>5423</td>\n",
       "      <td>4212</td>\n",
       "      <td>1926</td>\n",
       "      <td>beau plonger encore innovation mecanique pearl...</td>\n",
       "      <td>Bleu</td>\n",
       "      <td>0.013489</td>\n",
       "    </tr>\n",
       "    <tr>\n",
       "      <th>1</th>\n",
       "      <td>1816</td>\n",
       "      <td>5423</td>\n",
       "      <td>4212</td>\n",
       "      <td>1926</td>\n",
       "      <td>beau plonger encore innovation mecanique pearl...</td>\n",
       "      <td>Rouge</td>\n",
       "      <td>0.074766</td>\n",
       "    </tr>\n",
       "  </tbody>\n",
       "</table>\n",
       "</div>"
      ],
      "text/plain": [
       "  User ref Game rec Avis id User id  \\\n",
       "0     1816     5423    4212    1926   \n",
       "1     1816     5423    4212    1926   \n",
       "\n",
       "                                             Comment   Type       Val  \n",
       "0  beau plonger encore innovation mecanique pearl...   Bleu  0.013489  \n",
       "1  beau plonger encore innovation mecanique pearl...  Rouge  0.074766  "
      ]
     },
     "execution_count": 64,
     "metadata": {},
     "output_type": "execute_result"
    }
   ],
   "source": [
    "from reco_systems.CF_knn import calc_similarity_matrix, get_KNN\n",
    "from random import choice\n",
    "rev_filter # data centrée\n",
    "\n",
    "np.random.seed(45)\n",
    "# Tirer un user au hasard \n",
    "# k-NN sur 20\n",
    "# regarder le jeu qui a le plus de user commun\n",
    "# generate user-game matrix\n",
    "\n",
    "# Construction assoc\n",
    "matrix_ratings, mask_ratings, users_table, games_table = get_matrix_user_game(filtered_centrd_data)\n",
    "user_inds = filtered_centrd_data[['User id', 'Game id']].groupby(\"User id\").count().reset_index()\n",
    "user_inds.columns = [\"User id\", \"Count reviews\"]\n",
    "assoc = users_table.to_frame().merge(user_inds, on=\"User id\", how=\"left\").reset_index()\n",
    "assoc.columns = [\"User index\", \"User id\", \"Count reviews\"]\n",
    "assoc.sort_values(by='Count reviews', ascending=False,inplace=True)\n",
    "\n",
    "# Sélection aléatoire user\n",
    "user_indices = assoc[\"User index\"].to_numpy()\n",
    "\n",
    "\n",
    "# Calcul matrice de similarité\n",
    "sim_matrix = calc_similarity_matrix(matrix_ratings, mask_ratings, dist_type=\"cos\")\n",
    "\n",
    "bleu_rogue = pd.DataFrame(columns=['User ref', 'Game rec', 'Avis id', 'User id', 'Comment','Type','Val'])\n",
    "famous_users = assoc.head(20)[\"User index\"].to_numpy()\n",
    "print(famous_users)\n",
    "\n",
    "for user in famous_users : \n",
    "# df : user_ref_id (le vrai), game_id évalué, voisin id, avis du voisin id, bleu, rouge\n",
    "    #user = choice(user_indices)\n",
    "    user_ind = assoc.loc[user,\"User id\"]\n",
    "    print(user, \" : \", user_ind)\n",
    "\n",
    "    # k-nn\n",
    "    neighbours = get_KNN(sim_matrix,20,user)\n",
    "    print(\"Voisins : \", neighbours)\n",
    "\n",
    "    neighbours_id = assoc[ np.isin(assoc['User index'],neighbours)]['User id'].to_numpy()\n",
    "    neighbours_id\n",
    "    neighbours_avis = filtered_centrd_data[(filtered_centrd_data['User id'].isin(neighbours_id)) | (filtered_centrd_data['User id'] == user_ind)]\n",
    "    # Filtrer les jeux notés par user_ind\n",
    "    user_games = filtered_centrd_data[filtered_centrd_data[\"User id\"] == user_ind][\"Game id\"].unique()\n",
    "\n",
    "    # Exclure les notes du user_ind -> garder uniquement les voisins !!!!!\n",
    "    df_filtered = neighbours_avis[neighbours_avis[\"User id\"] != user_ind]\n",
    "    # Calculer la moyenne des notes pour chaque jeu\n",
    "    game_avg_ratings = df_filtered.groupby(\"Game id\")[\"Rating\"].mean().reset_index()\n",
    "\n",
    "    # Garder uniquement les jeux que user_ind a notés\n",
    "    df_result = game_avg_ratings[game_avg_ratings[\"Game id\"].isin(user_games)]\n",
    "    # Renommer la colonne moyenne des notes\n",
    "    df_result = df_result.rename(columns={\"Rating\": \"Mean Rating\"})\n",
    "    df_result.sort_values('Mean Rating', ascending=False,inplace=True)\n",
    "\n",
    "    best_game = df_result.loc[df_result[\"Mean Rating\"].idxmax(), \"Game id\"]\n",
    "    print(\"Jeu reco : \",int(best_game))\n",
    "    df_result.head(10)\n",
    "\n",
    "    neighbours_avis = neighbours_avis[neighbours_avis['Game id'] == best_game][['User id','Game id']]\n",
    "    #df = ft.get_bleu_rouge(best_game,user_ind,assoc,neighbours,neighbours_avis)\n",
    "    print(\"ID des voisins et du joueur : \", neighbours_avis['User id'].to_numpy())\n",
    "    print(\"ID du ref : \",user_ind)\n",
    "    ref_avis = rev_filter[(rev_filter['User id'] == user_ind) & (rev_filter['Game id'] == best_game)].index[0]\n",
    "    print(\"Ref avis :\", ref_avis)\n",
    "    br = neighbours_avis.copy(True)\n",
    "    br = br[br['User id'] != user_ind].reset_index()\n",
    "    br.drop('Game id', axis = 1, inplace=True)\n",
    "    br.columns = ['Avis id', 'User id']\n",
    "    br.sort_values('Avis id', ascending=True)\n",
    "\n",
    "    lem = pd.read_csv('generated_data/avis_lemmatized.csv',index_col=0)\n",
    "    #lem_n = lem[np.isin(lem.index, br['Avis id'].to_numpy())]\n",
    "    br = br.merge(lem,left_on='Avis id', right_index=True, how=\"inner\") # merge left on right_index = True, left_on avis id\n",
    "    #br['Lemma'] = lem_n['Comment'].to_numpy()\n",
    "    #if(ref_avis not in lem.index) : continue\n",
    "    ref_lem = lem.loc[ref_avis,'Comment']\n",
    "\n",
    "    blue_scorer = BLEU()\n",
    "    rouge_scorer = Rouge()\n",
    "\n",
    "    br['Bleu'] = br['Comment'].apply(lambda x : blue_scorer.sentence_score(hypothesis=x,references=[ref_lem]).score/100)\n",
    "    #br['Bleu nltk'] = br['Comment'].apply(lambda x : bleu_score.sentence_bleu(hypothesis=[list(x)],references=ref_lem))\n",
    "    br['Rouge'] = br['Comment'].apply(lambda x : rouge_scorer.get_scores(hyps=x,refs=ref_lem)[0][\"rouge-l\"][\"f\"])\n",
    "    br['User ref'] = [user_ind]*br.shape[0]\n",
    "    br['Game rec'] = [best_game]*br.shape[0]\n",
    "    br = br[['User ref', 'Game rec', 'Avis id', 'User id', 'Comment', 'Bleu', 'Rouge']]\n",
    "\n",
    "    #bleu_rouge = pd.melt(br,id_vars=['User ref', 'Game rec', 'Avis id', 'User id', 'Comment'], value_vars=['Bleu', 'Rouge'],var_name=\"Type\",value_name=\"Val\")\n",
    "    #bleu_rouge = pd.concat([bleu_rogue,pd.melt(br,id_vars=['User ref', 'Game rec', 'Avis id', 'User id', 'Comment'], value_vars=['Bleu', 'Rouge'],var_name=\"Type\",value_name=\"Val\")],ignore_index=True)\n",
    "    bleu_rouge = concat_inplace(bleu_rogue, pd.melt(br,id_vars=['User ref', 'Game rec', 'Avis id', 'User id', 'Comment'], value_vars=['Bleu', 'Rouge'],var_name=\"Type\",value_name=\"Val\"))\n",
    "bleu_rouge"
   ]
  },
  {
   "cell_type": "code",
   "execution_count": 44,
   "metadata": {},
   "outputs": [
    {
     "name": "stdout",
     "output_type": "stream",
     "text": [
      "1077\n"
     ]
    },
    {
     "data": {
      "text/html": [
       "<div>\n",
       "<style scoped>\n",
       "    .dataframe tbody tr th:only-of-type {\n",
       "        vertical-align: middle;\n",
       "    }\n",
       "\n",
       "    .dataframe tbody tr th {\n",
       "        vertical-align: top;\n",
       "    }\n",
       "\n",
       "    .dataframe thead th {\n",
       "        text-align: right;\n",
       "    }\n",
       "</style>\n",
       "<table border=\"1\" class=\"dataframe\">\n",
       "  <thead>\n",
       "    <tr style=\"text-align: right;\">\n",
       "      <th></th>\n",
       "      <th>Game id</th>\n",
       "      <th>Mean Rating</th>\n",
       "    </tr>\n",
       "  </thead>\n",
       "  <tbody>\n",
       "    <tr>\n",
       "      <th>22</th>\n",
       "      <td>1077</td>\n",
       "      <td>3.666667</td>\n",
       "    </tr>\n",
       "    <tr>\n",
       "      <th>272</th>\n",
       "      <td>10312</td>\n",
       "      <td>1.375000</td>\n",
       "    </tr>\n",
       "    <tr>\n",
       "      <th>103</th>\n",
       "      <td>3496</td>\n",
       "      <td>1.000000</td>\n",
       "    </tr>\n",
       "    <tr>\n",
       "      <th>184</th>\n",
       "      <td>6629</td>\n",
       "      <td>0.800000</td>\n",
       "    </tr>\n",
       "    <tr>\n",
       "      <th>170</th>\n",
       "      <td>6142</td>\n",
       "      <td>0.800000</td>\n",
       "    </tr>\n",
       "    <tr>\n",
       "      <th>192</th>\n",
       "      <td>6843</td>\n",
       "      <td>0.594737</td>\n",
       "    </tr>\n",
       "    <tr>\n",
       "      <th>199</th>\n",
       "      <td>7204</td>\n",
       "      <td>0.594737</td>\n",
       "    </tr>\n",
       "    <tr>\n",
       "      <th>32</th>\n",
       "      <td>1443</td>\n",
       "      <td>0.588235</td>\n",
       "    </tr>\n",
       "    <tr>\n",
       "      <th>223</th>\n",
       "      <td>8091</td>\n",
       "      <td>0.181818</td>\n",
       "    </tr>\n",
       "    <tr>\n",
       "      <th>30</th>\n",
       "      <td>1414</td>\n",
       "      <td>-0.166667</td>\n",
       "    </tr>\n",
       "  </tbody>\n",
       "</table>\n",
       "</div>"
      ],
      "text/plain": [
       "     Game id  Mean Rating\n",
       "22      1077     3.666667\n",
       "272    10312     1.375000\n",
       "103     3496     1.000000\n",
       "184     6629     0.800000\n",
       "170     6142     0.800000\n",
       "192     6843     0.594737\n",
       "199     7204     0.594737\n",
       "32      1443     0.588235\n",
       "223     8091     0.181818\n",
       "30      1414    -0.166667"
      ]
     },
     "execution_count": 44,
     "metadata": {},
     "output_type": "execute_result"
    }
   ],
   "source": [
    "# Filtrer les jeux notés par user_ind\n",
    "user_games = filtered_centrd_data[filtered_centrd_data[\"User id\"] == user_ind][\"Game id\"].unique()\n",
    "\n",
    "# Exclure les notes du user_ind -> garder uniquement les voisins !!!!!\n",
    "df_filtered = neighbours_avis[neighbours_avis[\"User id\"] != user_ind]\n",
    "# Calculer la moyenne des notes pour chaque jeu\n",
    "game_avg_ratings = df_filtered.groupby(\"Game id\")[\"Rating\"].mean().reset_index()\n",
    "\n",
    "# Garder uniquement les jeux que user_ind a notés\n",
    "df_result = game_avg_ratings[game_avg_ratings[\"Game id\"].isin(user_games)]\n",
    "# Renommer la colonne moyenne des notes\n",
    "df_result = df_result.rename(columns={\"Rating\": \"Mean Rating\"})\n",
    "df_result.sort_values('Mean Rating', ascending=False,inplace=True)\n",
    "\n",
    "best_game = df_result.loc[df_result[\"Mean Rating\"].idxmax(), \"Game id\"]\n",
    "print(int(best_game))\n",
    "df_result.head(10)\n",
    "\n",
    "# Il faut filtrer avec l'avis sur le jeu de base"
   ]
  },
  {
   "cell_type": "code",
   "execution_count": null,
   "metadata": {},
   "outputs": [
    {
     "name": "stdout",
     "output_type": "stream",
     "text": [
      "[2289 4735]\n",
      "2289\n"
     ]
    },
    {
     "name": "stderr",
     "output_type": "stream",
     "text": [
      "It is recommended to enable `effective_order` for sentence-level BLEU.\n",
      "C:\\Users\\arlyc\\AppData\\Local\\Temp\\ipykernel_25732\\836748375.py:33: FutureWarning: The behavior of DataFrame concatenation with empty or all-NA entries is deprecated. In a future version, this will no longer exclude empty or all-NA columns when determining the result dtypes. To retain the old behavior, exclude the relevant entries before the concat operation.\n",
      "  bleu_rouge = pd.concat([bleu_rogue,pd.melt(br,id_vars=['User ref', 'Game rec', 'Avis id', 'User id', 'Comment'], value_vars=['Bleu', 'Rouge'],var_name=\"Type\",value_name=\"Val\")])\n"
     ]
    },
    {
     "data": {
      "text/html": [
       "<div>\n",
       "<style scoped>\n",
       "    .dataframe tbody tr th:only-of-type {\n",
       "        vertical-align: middle;\n",
       "    }\n",
       "\n",
       "    .dataframe tbody tr th {\n",
       "        vertical-align: top;\n",
       "    }\n",
       "\n",
       "    .dataframe thead th {\n",
       "        text-align: right;\n",
       "    }\n",
       "</style>\n",
       "<table border=\"1\" class=\"dataframe\">\n",
       "  <thead>\n",
       "    <tr style=\"text-align: right;\">\n",
       "      <th></th>\n",
       "      <th>User ref</th>\n",
       "      <th>Game rec</th>\n",
       "      <th>Avis id</th>\n",
       "      <th>User id</th>\n",
       "      <th>Comment</th>\n",
       "      <th>Type</th>\n",
       "      <th>Val</th>\n",
       "    </tr>\n",
       "  </thead>\n",
       "  <tbody>\n",
       "    <tr>\n",
       "      <th>0</th>\n",
       "      <td>2289</td>\n",
       "      <td>1077</td>\n",
       "      <td>33809</td>\n",
       "      <td>4735</td>\n",
       "      <td>bluff enfumage retournement situation voici je...</td>\n",
       "      <td>Bleu</td>\n",
       "      <td>0.000345</td>\n",
       "    </tr>\n",
       "    <tr>\n",
       "      <th>1</th>\n",
       "      <td>2289</td>\n",
       "      <td>1077</td>\n",
       "      <td>33809</td>\n",
       "      <td>4735</td>\n",
       "      <td>bluff enfumage retournement situation voici je...</td>\n",
       "      <td>Rouge</td>\n",
       "      <td>0.058824</td>\n",
       "    </tr>\n",
       "  </tbody>\n",
       "</table>\n",
       "</div>"
      ],
      "text/plain": [
       "  User ref Game rec Avis id User id  \\\n",
       "0     2289     1077   33809    4735   \n",
       "1     2289     1077   33809    4735   \n",
       "\n",
       "                                             Comment   Type       Val  \n",
       "0  bluff enfumage retournement situation voici je...   Bleu  0.000345  \n",
       "1  bluff enfumage retournement situation voici je...  Rouge  0.058824  "
      ]
     },
     "execution_count": 45,
     "metadata": {},
     "output_type": "execute_result"
    }
   ],
   "source": [
    "from nltk.translate import bleu_score\n",
    "from sacrebleu import sentence_bleu\n",
    "from rouge import Rouge\n",
    "\n",
    "neighbours_avis = neighbours_avis[neighbours_avis['Game id'] == best_game][['User id','Game id']]\n",
    "#df = ft.get_bleu_rouge(best_game,user_ind,assoc,neighbours,neighbours_avis)\n",
    "print(neighbours_avis['User id'].to_numpy())\n",
    "print(user_ind)\n",
    "ref_avis = neighbours_avis[neighbours_avis['User id'] == user_ind].index[0]\n",
    "br = neighbours_avis.copy(True)\n",
    "br = br[br['User id'] != user_ind].reset_index()\n",
    "br.drop('Game id', axis = 1, inplace=True)\n",
    "br.columns = ['Avis id', 'User id']\n",
    "br.sort_values('Avis id', ascending=True)\n",
    "\n",
    "lem = pd.read_csv('generated_data/avis_lemmatized.csv',index_col=0)\n",
    "#lem_n = lem[np.isin(lem.index, br['Avis id'].to_numpy())]\n",
    "br = br.merge(lem,left_on='Avis id', right_index=True, how=\"inner\") # merge left on right_index = True, left_on avis id\n",
    "#br['Lemma'] = lem_n['Comment'].to_numpy()\n",
    "ref_lem = lem.loc[ref_avis,'Comment']\n",
    "\n",
    "blue_scorer = BLEU()\n",
    "rouge_scorer = Rouge()\n",
    "\n",
    "br['Bleu'] = br['Comment'].apply(lambda x : blue_scorer.sentence_score(hypothesis=x,references=[ref_lem]).score/100)\n",
    "#br['Bleu nltk'] = br['Comment'].apply(lambda x : bleu_score.sentence_bleu(hypothesis=[list(x)],references=ref_lem))\n",
    "br['Rouge'] = br['Comment'].apply(lambda x : rouge_scorer.get_scores(hyps=x,refs=ref_lem)[0][\"rouge-l\"][\"f\"])\n",
    "br['User ref'] = [user_ind]*br.shape[0]\n",
    "br['Game rec'] = [best_game]*br.shape[0]\n",
    "br = br[['User ref', 'Game rec', 'Avis id', 'User id', 'Comment', 'Bleu', 'Rouge']]\n",
    "\n",
    "#bleu_rouge = pd.melt(br,id_vars=['User ref', 'Game rec', 'Avis id', 'User id', 'Comment'], value_vars=['Bleu', 'Rouge'],var_name=\"Type\",value_name=\"Val\")\n",
    "bleu_rouge = pd.concat([bleu_rogue,pd.melt(br,id_vars=['User ref', 'Game rec', 'Avis id', 'User id', 'Comment'], value_vars=['Bleu', 'Rouge'],var_name=\"Type\",value_name=\"Val\")])"
   ]
  }
 ],
 "metadata": {
  "kernelspec": {
   "display_name": "Python 3",
   "language": "python",
   "name": "python3"
  },
  "language_info": {
   "codemirror_mode": {
    "name": "ipython",
    "version": 3
   },
   "file_extension": ".py",
   "mimetype": "text/x-python",
   "name": "python",
   "nbconvert_exporter": "python",
   "pygments_lexer": "ipython3",
   "version": "3.12.2"
  }
 },
 "nbformat": 4,
 "nbformat_minor": 2
}

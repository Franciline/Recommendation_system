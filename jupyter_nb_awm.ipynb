{
 "cells": [
  {
   "cell_type": "code",
   "execution_count": 93,
   "metadata": {},
   "outputs": [
    {
     "name": "stdout",
     "output_type": "stream",
     "text": [
      "The autoreload extension is already loaded. To reload it, use:\n",
      "  %reload_ext autoreload\n"
     ]
    }
   ],
   "source": [
    "%load_ext autoreload\n",
    "%autoreload 2\n",
    "\n",
    "import pandas as pd\n",
    "import numpy as np\n",
    "from scipy.sparse import csr_matrix\n",
    "\n",
    "folder = \"trictrac_database\" "
   ]
  },
  {
   "cell_type": "code",
   "execution_count": 94,
   "metadata": {},
   "outputs": [],
   "source": [
    "# loading clean databases\n",
    "avis_clean = pd.read_csv(f'{folder}/avis_clean.csv', header=None, names=[\"Game id\", \"User id\", \"Game name UI\", \"Username\", \"Datetime\", \"Rating\", \"Comment title\", \"Comment body\"]).drop_duplicates()\n",
    "users = pd.read_csv(f'{folder}/users.csv', header=None, names = [\"Username\", \"User id\"]).drop_duplicates()\n",
    "avis_clean[\"Datetime\"] = pd.to_datetime(avis_clean[\"Datetime\"])\n",
    "jeux_clean = pd.read_csv(\"database_cleaned/jeux_clean.csv\")"
   ]
  },
  {
   "cell_type": "code",
   "execution_count": 95,
   "metadata": {},
   "outputs": [
    {
     "name": "stdout",
     "output_type": "stream",
     "text": [
      "Number of unique rated games 10549\n",
      "Number of unique users that gave a rating 11201\n",
      "NUmber of unique user in users database 11201\n"
     ]
    }
   ],
   "source": [
    "print(\"Number of unique rated games\", len(np.unique(avis_clean['Game id'])))\n",
    "print(\"Number of unique users that gave a rating\", len(np.unique(avis_clean['User id'])))\n",
    "print(\"NUmber of unique user in users database\", len(np.unique(users['User id'])))"
   ]
  },
  {
   "cell_type": "code",
   "execution_count": null,
   "metadata": {},
   "outputs": [],
   "source": [
    "def center_score(df: pd.DataFrame):\n",
    "    \"\"\"\n",
    "    avis_clean\n",
    "    The df with at least 3 columns 'User id' 'Game id' 'Rating', center the scores:\n",
    "    with xi the score of user i, xi = xi - mean(i)\n",
    "\n",
    "    To avoid biais between scores\n",
    "    Returns the df with the scores centered\n",
    "    \"\"\"\n",
    "    df = df.copy(deep=True)\n",
    "\n",
    "    # df with average rate of each user \n",
    "    mean_score = df[[\"User id\", \"Rating\"]].groupby(\"User id\").mean().rename(columns={\"Rating\":\"Average rate\"}).reset_index()\n",
    "    mean_score = df.merge(mean_score, on=\"User id\")\n",
    "    mean_score['Rating'] -= mean_score['Average rate']\n",
    "\n",
    "    df['Rating'] = mean_score['Rating']\n",
    "    return df\n",
    "\n",
    "def normalize(df: pd.DataFrame):\n",
    "    \"\"\"\n",
    "    avis_clean\n",
    "    The df with at least 2 columns, 'User id', 'Rating', normalize the scores:\n",
    "    score xi of user i: xi = (xi - min)/(max - min) with min and max the corresponding values\n",
    "    for the user i \n",
    "    Returns the df with the scores normalized\n",
    "    \"\"\"\n",
    "\n",
    "    df = df.copy(deep=True)\n",
    "    min_max = df.groupby(\"User id\").agg({\"Rating\": ['min','max']}).reset_index()\n",
    "    min_max.columns = [\"User id\", \"Min\", \"Max\"] # no index levels\n",
    "    min_max = df.merge(min_max, on=\"User id\")\n",
    "\n",
    "    df['Rating'] = (min_max['Rating'] - min_max[\"Min\"])/(min_max[\"Max\"] - min_max[\"Min\"]) \n",
    "    df['Rating'] = df['Rating'].fillna(0) # NaN from division by 0\n",
    "    \n",
    "    return df"
   ]
  },
  {
   "cell_type": "code",
   "execution_count": 108,
   "metadata": {},
   "outputs": [
    {
     "name": "stdout",
     "output_type": "stream",
     "text": [
      "There are 2253 unique users that have at least 10 ratings\n",
      "There are 2676 unique games that have at least 10 ratings\n"
     ]
    }
   ],
   "source": [
    "# we keep users with that has given at least 10 rating\n",
    "filtd_avis = avis_clean[avis_clean['User id'].map(avis_clean['User id'].value_counts()) >= 10]\n",
    "print(f\"There are {len(np.unique(filtd_avis['User id']))} unique users that have at least 10 ratings\")\n",
    "\n",
    "# we keep the games that have at least 10 ratings, matching games rated by users\n",
    "filtd_jeux_id = filtd_avis[filtd_avis[\"Game id\"].map(filtd_avis[\"Game id\"].value_counts()) >= 10][\"Game id\"]\n",
    "print(f\"There are {len(np.unique(filtd_jeux_id))} unique games that have at least 10 ratings\")"
   ]
  },
  {
   "cell_type": "code",
   "execution_count": 110,
   "metadata": {},
   "outputs": [
    {
     "data": {
      "text/html": [
       "<div>\n",
       "<style scoped>\n",
       "    .dataframe tbody tr th:only-of-type {\n",
       "        vertical-align: middle;\n",
       "    }\n",
       "\n",
       "    .dataframe tbody tr th {\n",
       "        vertical-align: top;\n",
       "    }\n",
       "\n",
       "    .dataframe thead th {\n",
       "        text-align: right;\n",
       "    }\n",
       "</style>\n",
       "<table border=\"1\" class=\"dataframe\">\n",
       "  <thead>\n",
       "    <tr style=\"text-align: right;\">\n",
       "      <th></th>\n",
       "      <th>User id</th>\n",
       "      <th>Game id</th>\n",
       "      <th>Rating</th>\n",
       "      <th>Username</th>\n",
       "    </tr>\n",
       "  </thead>\n",
       "  <tbody>\n",
       "    <tr>\n",
       "      <th>0</th>\n",
       "      <td>0</td>\n",
       "      <td>6179</td>\n",
       "      <td>0.666667</td>\n",
       "      <td>Monsieur Guillaume</td>\n",
       "    </tr>\n",
       "    <tr>\n",
       "      <th>1</th>\n",
       "      <td>1</td>\n",
       "      <td>6179</td>\n",
       "      <td>0.693878</td>\n",
       "      <td>morlockbob</td>\n",
       "    </tr>\n",
       "    <tr>\n",
       "      <th>2</th>\n",
       "      <td>2</td>\n",
       "      <td>6179</td>\n",
       "      <td>0.625000</td>\n",
       "      <td>SwatSh</td>\n",
       "    </tr>\n",
       "    <tr>\n",
       "      <th>3</th>\n",
       "      <td>3</td>\n",
       "      <td>6179</td>\n",
       "      <td>0.662921</td>\n",
       "      <td>BSI40</td>\n",
       "    </tr>\n",
       "    <tr>\n",
       "      <th>4</th>\n",
       "      <td>4</td>\n",
       "      <td>6179</td>\n",
       "      <td>0.736842</td>\n",
       "      <td>Lilly</td>\n",
       "    </tr>\n",
       "    <tr>\n",
       "      <th>...</th>\n",
       "      <td>...</td>\n",
       "      <td>...</td>\n",
       "      <td>...</td>\n",
       "      <td>...</td>\n",
       "    </tr>\n",
       "    <tr>\n",
       "      <th>142484</th>\n",
       "      <td>2258</td>\n",
       "      <td>10417</td>\n",
       "      <td>0.500000</td>\n",
       "      <td>Abzaron</td>\n",
       "    </tr>\n",
       "    <tr>\n",
       "      <th>142485</th>\n",
       "      <td>3138</td>\n",
       "      <td>10417</td>\n",
       "      <td>0.500000</td>\n",
       "      <td>zorglub</td>\n",
       "    </tr>\n",
       "    <tr>\n",
       "      <th>142486</th>\n",
       "      <td>160</td>\n",
       "      <td>10417</td>\n",
       "      <td>0.657534</td>\n",
       "      <td>Seb M.</td>\n",
       "    </tr>\n",
       "    <tr>\n",
       "      <th>142487</th>\n",
       "      <td>2050</td>\n",
       "      <td>2007</td>\n",
       "      <td>0.600000</td>\n",
       "      <td>sylla</td>\n",
       "    </tr>\n",
       "    <tr>\n",
       "      <th>142488</th>\n",
       "      <td>2584</td>\n",
       "      <td>5812</td>\n",
       "      <td>0.780220</td>\n",
       "      <td>Pifec</td>\n",
       "    </tr>\n",
       "  </tbody>\n",
       "</table>\n",
       "<p>142489 rows × 4 columns</p>\n",
       "</div>"
      ],
      "text/plain": [
       "        User id  Game id    Rating            Username\n",
       "0             0     6179  0.666667  Monsieur Guillaume\n",
       "1             1     6179  0.693878          morlockbob\n",
       "2             2     6179  0.625000              SwatSh\n",
       "3             3     6179  0.662921               BSI40\n",
       "4             4     6179  0.736842               Lilly\n",
       "...         ...      ...       ...                 ...\n",
       "142484     2258    10417  0.500000             Abzaron\n",
       "142485     3138    10417  0.500000             zorglub\n",
       "142486      160    10417  0.657534              Seb M.\n",
       "142487     2050     2007  0.600000               sylla\n",
       "142488     2584     5812  0.780220               Pifec\n",
       "\n",
       "[142489 rows x 4 columns]"
      ]
     },
     "execution_count": 110,
     "metadata": {},
     "output_type": "execute_result"
    }
   ],
   "source": [
    "user_game_score = avis_clean[[\"User id\",\"Game id\", \"Rating\", \"Username\"]]\n",
    "\n",
    "test = center_score(user_game_score)\n",
    "test = normalize(user_game_score)\n",
    "test"
   ]
  },
  {
   "cell_type": "code",
   "execution_count": 92,
   "metadata": {},
   "outputs": [],
   "source": [
    "# users and games id start with index 0: we can use that to map and create a matrix users x games \n",
    "# matrix row : user id, col: game id, score given to game by user \n",
    "\n",
    "rows = user_game_score[\"User id\"][:]\n",
    "cols = user_game_score[\"Game id\"][:]\n",
    "data = test[\"Rating\"][:]\n",
    "\n",
    "sparse_matrix = csr_matrix((data, (rows, cols))) # sparse matrix\n"
   ]
  },
  {
   "cell_type": "code",
   "execution_count": null,
   "metadata": {},
   "outputs": [],
   "source": []
  }
 ],
 "metadata": {
  "kernelspec": {
   "display_name": "Python 3",
   "language": "python",
   "name": "python3"
  },
  "language_info": {
   "codemirror_mode": {
    "name": "ipython",
    "version": 3
   },
   "file_extension": ".py",
   "mimetype": "text/x-python",
   "name": "python",
   "nbconvert_exporter": "python",
   "pygments_lexer": "ipython3",
   "version": "3.12.8"
  }
 },
 "nbformat": 4,
 "nbformat_minor": 2
}

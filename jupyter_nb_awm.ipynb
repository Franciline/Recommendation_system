{
 "cells": [
  {
   "cell_type": "code",
   "execution_count": null,
   "metadata": {},
   "outputs": [
    {
     "name": "stdout",
     "output_type": "stream",
     "text": [
      "The autoreload extension is already loaded. To reload it, use:\n",
      "  %reload_ext autoreload\n"
     ]
    }
   ],
   "source": [
    "%load_ext autoreload\n",
    "%autoreload 2\n",
    "\n",
    "import pandas as pd\n",
    "import numpy as np\n",
    "import sys\n",
    "from scipy.sparse import csr_matrix\n",
    "from collections import Counter\n",
    "\n",
    "folder = \"trictrac_database\" "
   ]
  },
  {
   "cell_type": "code",
   "execution_count": 7,
   "metadata": {},
   "outputs": [],
   "source": [
    "# loading clean databases\n",
    "avis_clean = pd.read_csv(f'{folder}/avis_clean.csv', header=None, names=[\"Game id\", \"User id\", \"Game name UI\", \"Username\", \"Datetime\", \"Rating\", \"Comment title\", \"Comment body\"]).drop_duplicates()\n",
    "users = pd.read_csv(f'{folder}/users.csv', header=None, names = [\"Username\", \"User id\"]).drop_duplicates()\n",
    "avis_clean[\"Datetime\"] = pd.to_datetime(avis_clean[\"Datetime\"])\n",
    "jeux_clean = pd.read_csv(\"database_cleaned/jeux_clean.csv\")"
   ]
  },
  {
   "cell_type": "code",
   "execution_count": 119,
   "metadata": {},
   "outputs": [
    {
     "name": "stdout",
     "output_type": "stream",
     "text": [
      "Number of unique rated games 10549\n",
      "Number of unique users that gave a rating 11201\n",
      "NUmber of unique user in users database 11201\n"
     ]
    }
   ],
   "source": [
    "print(\"Number of unique rated games\", len(np.unique(avis_clean['Game id'])))\n",
    "print(\"Number of unique users that gave a rating\", len(np.unique(avis_clean['User id'])))\n",
    "print(\"NUmber of unique user in users database\", len(np.unique(users['User id'])))"
   ]
  },
  {
   "cell_type": "code",
   "execution_count": 181,
   "metadata": {},
   "outputs": [],
   "source": [
    "user_game_score = avis_clean[[\"User id\",\"Game id\", \"Rating\"]]\n",
    "\n",
    "# weighting user's score by substracting their average rating, test\n",
    "user_rate_mean = user_game_score[[\"User id\", \"Rating\"]].groupby(\"User id\").mean().rename(columns={\"Rating\":\"Average rate\"}).reset_index()\n",
    "data_weight_rate = user_game_score.merge(user_rate_mean, on=\"User id\")\n",
    "data_weight_rate[\"Rating\"] -= data_weight_rate[\"Average rate\"] \n",
    "\n",
    "# normalizing the scores between 0-1 : norma with user's min max\n",
    "user_min_max = data_weight_rate.groupby(\"User id\").agg({\"Rating\": ['min','max']}).reset_index()\n",
    "user_min_max.columns = [\"User id\", \"Min\", \"Max\"] # flattening because of multi index on min and max\n",
    "data_w_min_max = data_weight_rate.merge(user_min_max , on=\"User id\")\n",
    "\n",
    "#data_w_min_max[\"Rating\"] = (data_w_min_max[\"Rating\"] - data_w_min_max[\"Min\"])/(data_w_min_max[\"Max\"] - data_w_min_max[\"Min\"])\n",
    "\n",
    "# to avoid NaN values if min == max, set to 0 if it is the case\n",
    "data_w_min_max[\"Rating\"] = np.where((data_w_min_max[\"Max\"] - data_w_min_max[\"Min\"]) != 0,\n",
    "(data_w_min_max[\"Rating\"] - data_w_min_max[\"Min\"])/(data_w_min_max[\"Max\"] - data_w_min_max[\"Min\"]), 0)"
   ]
  },
  {
   "cell_type": "code",
   "execution_count": 182,
   "metadata": {},
   "outputs": [
    {
     "name": "stdout",
     "output_type": "stream",
     "text": [
      "Size using array matrix : 945274920 bytes\n",
      "Size using sparse matrix : 48 bytes\n",
      "Matrix size :  (11201, 10549)\n"
     ]
    }
   ],
   "source": [
    "# users and games id start with index 0: we can use that to map and create a matrix users x games \n",
    "# matrix row : user id, col: game id, score given to game by user \n",
    "\n",
    "rows = user_game_score[\"User id\"][:]\n",
    "cols = user_game_score[\"Game id\"][:]\n",
    "data = data_w_min_max[\"Rating\"][:]\n",
    "\n",
    "sparse_matrix = csr_matrix((data, (rows, cols))) # sparse matrix\n",
    "mat = sparse_matrix.toarray()\n",
    "\n",
    "print(f\"Size using array matrix : {sys.getsizeof(mat)} bytes\\nSize using sparse matrix : {sys.getsizeof(sparse_matrix)} bytes\")\n",
    "print(\"Matrix size : \", sparse_matrix.shape)"
   ]
  },
  {
   "cell_type": "code",
   "execution_count": 183,
   "metadata": {},
   "outputs": [
    {
     "name": "stdout",
     "output_type": "stream",
     "text": [
      "8\n"
     ]
    },
    {
     "data": {
      "text/plain": [
       "8"
      ]
     },
     "execution_count": 183,
     "metadata": {},
     "output_type": "execute_result"
    }
   ],
   "source": [
    "# verify the matrix has correct values\n",
    "print(len(user_game_score[user_game_score[\"User id\"] == 523]))\n",
    "np.diff(sparse_matrix.indptr)[523] # number of non zero values"
   ]
  },
  {
   "cell_type": "code",
   "execution_count": 197,
   "metadata": {},
   "outputs": [
    {
     "name": "stdout",
     "output_type": "stream",
     "text": [
      "  (0, 5159)\t1.0\n",
      "  (0, 5948)\t0.0\n"
     ]
    },
    {
     "data": {
      "text/html": [
       "<div>\n",
       "<style scoped>\n",
       "    .dataframe tbody tr th:only-of-type {\n",
       "        vertical-align: middle;\n",
       "    }\n",
       "\n",
       "    .dataframe tbody tr th {\n",
       "        vertical-align: top;\n",
       "    }\n",
       "\n",
       "    .dataframe thead th {\n",
       "        text-align: right;\n",
       "    }\n",
       "</style>\n",
       "<table border=\"1\" class=\"dataframe\">\n",
       "  <thead>\n",
       "    <tr style=\"text-align: right;\">\n",
       "      <th></th>\n",
       "      <th>Game id</th>\n",
       "      <th>User id</th>\n",
       "      <th>Game name UI</th>\n",
       "      <th>Username</th>\n",
       "      <th>Datetime</th>\n",
       "      <th>Rating</th>\n",
       "      <th>Comment title</th>\n",
       "      <th>Comment body</th>\n",
       "    </tr>\n",
       "  </thead>\n",
       "  <tbody>\n",
       "    <tr>\n",
       "      <th>485</th>\n",
       "      <td>5948</td>\n",
       "      <td>345</td>\n",
       "      <td>Love Letter</td>\n",
       "      <td>blochjo6</td>\n",
       "      <td>2021-03-16 14:10:50</td>\n",
       "      <td>1.0</td>\n",
       "      <td>Lettre morte</td>\n",
       "      <td>Love Letter, un jeu minimaliste, japonais, sim...</td>\n",
       "    </tr>\n",
       "    <tr>\n",
       "      <th>23659</th>\n",
       "      <td>5159</td>\n",
       "      <td>345</td>\n",
       "      <td>Le Dilemme du Roi</td>\n",
       "      <td>blochjo6</td>\n",
       "      <td>2021-06-01 11:33:24</td>\n",
       "      <td>2.0</td>\n",
       "      <td>Oui. Mais alors, vraiment non</td>\n",
       "      <td>A - Préambule Cette revue ne contient pas de s...</td>\n",
       "    </tr>\n",
       "  </tbody>\n",
       "</table>\n",
       "</div>"
      ],
      "text/plain": [
       "       Game id  User id       Game name UI  Username            Datetime  \\\n",
       "485       5948      345        Love Letter  blochjo6 2021-03-16 14:10:50   \n",
       "23659     5159      345  Le Dilemme du Roi  blochjo6 2021-06-01 11:33:24   \n",
       "\n",
       "       Rating                  Comment title  \\\n",
       "485       1.0                   Lettre morte   \n",
       "23659     2.0  Oui. Mais alors, vraiment non   \n",
       "\n",
       "                                            Comment body  \n",
       "485    Love Letter, un jeu minimaliste, japonais, sim...  \n",
       "23659  A - Préambule Cette revue ne contient pas de s...  "
      ]
     },
     "execution_count": 197,
     "metadata": {},
     "output_type": "execute_result"
    }
   ],
   "source": [
    "print(sparse_matrix[345][:])\n",
    "avis_clean[avis_clean[\"User id\"]== 345]"
   ]
  },
  {
   "cell_type": "code",
   "execution_count": null,
   "metadata": {},
   "outputs": [],
   "source": []
  }
 ],
 "metadata": {
  "kernelspec": {
   "display_name": "Python 3",
   "language": "python",
   "name": "python3"
  },
  "language_info": {
   "codemirror_mode": {
    "name": "ipython",
    "version": 3
   },
   "file_extension": ".py",
   "mimetype": "text/x-python",
   "name": "python",
   "nbconvert_exporter": "python",
   "pygments_lexer": "ipython3",
   "version": "3.12.8"
  }
 },
 "nbformat": 4,
 "nbformat_minor": 2
}

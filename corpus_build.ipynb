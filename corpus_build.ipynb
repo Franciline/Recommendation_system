{
 "cells": [
  {
   "cell_type": "markdown",
   "metadata": {},
   "source": [
    "# Système de recommendation : premiers pas NLTK \n",
    "\n",
    "Ce notebook a pour but de présenter les premières observations que l'on obtient en regardant les commentaires des utilisateurs laissés aux jeux dans la base de donnée avis_clean.csv. Il se découpe en deux parties : le nettoyage (récupération des BDD pertinentes) et exposition des histogrammes."
   ]
  },
  {
   "cell_type": "code",
   "execution_count": 1,
   "metadata": {},
   "outputs": [],
   "source": [
    "# Importations pertinentes : filtering_text, bdd avis (à filtrer)\n",
    "import pandas as pd\n",
    "import numpy as np\n",
    "from reco_systems.filter import filter_df\n",
    "import nltk\n",
    "import string\n",
    "\n",
    "from nltk.corpus import stopwords\n",
    "from nltk.stem.snowball import FrenchStemmer\n",
    "from sklearn.feature_extraction.text import CountVectorizer, TfidfVectorizer\n",
    "from nltk.util import ngrams\n",
    "\n",
    "from spellchecker import SpellChecker\n",
    "import seaborn as sns\n",
    "\n",
    "FR_stopwords = stopwords.words(\"french\")"
   ]
  },
  {
   "cell_type": "markdown",
   "metadata": {},
   "source": [
    "### Setup for Frenc! lemmatisation"
   ]
  },
  {
   "cell_type": "code",
   "execution_count": 3,
   "metadata": {},
   "outputs": [],
   "source": [
    "# import os \n",
    "# jar = '/Users/bsh2022/Study/L3/Projet_recherche/stanford-postagger-full-2020-11-17/stanford-postagger.jar'\n",
    "# model = '/Users/bsh2022/Study/L3/Projet_recherche/stanford-postagger-full-2020-11-17/models/french-ud.tagger'\n",
    "\n",
    "# os.environ['JAVAHOME'] = '/Library/Java/JavaVirtualMachines/jdk-20.jdk/Contents/Home' "
   ]
  },
  {
   "cell_type": "code",
   "execution_count": 2,
   "metadata": {},
   "outputs": [],
   "source": [
    "from unidecode import unidecode # remove french accents"
   ]
  },
  {
   "cell_type": "code",
   "execution_count": 16,
   "metadata": {},
   "outputs": [],
   "source": [
    "# for word in FR_stopwords:\n",
    "#     if \"que\" in word:\n",
    "#         print(word)\n",
    "#FR_stopwords += ['donc', 'alors', 'que', 'qui', 'car', 'parce']"
   ]
  },
  {
   "cell_type": "code",
   "execution_count": 3,
   "metadata": {},
   "outputs": [
    {
     "name": "stdout",
     "output_type": "stream",
     "text": [
      "11201 10549\n",
      "2252 2676\n",
      "1957 2618\n",
      "1947 2616\n",
      "1946 2615\n",
      "1945 2614\n"
     ]
    }
   ],
   "source": [
    "folder = \"database_cleaned\"\n",
    "avis_clean  = pd.read_csv(f\"{folder}/avis_clean.csv\", index_col=0)\n",
    "jeux_clean  = pd.read_csv(f\"{folder}/jeux_clean.csv\", index_col=0)\n",
    "users       = pd.read_csv(f\"{folder}/users.csv\", names=[\"Username\", \"User id\"])\n",
    "\n",
    "min_reviews = 10\n",
    "rev_filter = filter_df(avis_clean, min_reviews)\n",
    "\n",
    "df = rev_filter[['Game id', 'User id', 'Rating', 'Comment title', 'Comment body']].copy()"
   ]
  },
  {
   "cell_type": "code",
   "execution_count": 10,
   "metadata": {},
   "outputs": [
    {
     "data": {
      "text/plain": [
       "0     voyages sur les ailes des papillons lorsque le...\n",
       "1     le festival de michoacan comment continuer apr...\n",
       "2     vivez la migration des monarques vin d'jeu: av...\n",
       "3     manque un peu de souffle mariposas est plutot ...\n",
       "4     beau et doux et rapide mariposas est un jeu ou...\n",
       "6     peut-etre pas uniquement familial il est tres ...\n",
       "7     mysterium sans ses defauts vin d'jeu: ce << no...\n",
       "8     chapeau l'artiste en famille nous avons bien p...\n",
       "9     parc a theme j'ai eu l'occasion de jouer a des...\n",
       "11    mysterium light fan de la serie mysterium c'es...\n",
       "dtype: object"
      ]
     },
     "execution_count": 10,
     "metadata": {},
     "output_type": "execute_result"
    }
   ],
   "source": [
    "# .apply(unidecode) in the end if necessary (delete french accents)\n",
    "text = rev_filter[[\"Comment title\", \"Comment body\"]].apply(lambda x : \" \".join(x.values.astype(str)), axis=1).str.lower().apply(unidecode)\n",
    "text.head(10)"
   ]
  },
  {
   "cell_type": "markdown",
   "metadata": {},
   "source": [
    "### Remove punctuation"
   ]
  },
  {
   "cell_type": "code",
   "execution_count": 12,
   "metadata": {},
   "outputs": [],
   "source": [
    "#punc_to_delete = string.punctuation.replace(\"\\'\", \"\") # ' can have meaning?\n",
    "punc_to_delete = string.punctuation\n",
    "punc_to_delete\n",
    "\n",
    "trans_table = str.maketrans(punc_to_delete, \" \" * len(punc_to_delete))\n",
    "text = text.str.translate(trans_table)"
   ]
  },
  {
   "cell_type": "markdown",
   "metadata": {},
   "source": [
    "### Remove French stopwords"
   ]
  },
  {
   "cell_type": "code",
   "execution_count": 18,
   "metadata": {},
   "outputs": [],
   "source": [
    "text = text.apply(lambda x : \" \".join([word for word in x.split() if word not in FR_stopwords]))"
   ]
  },
  {
   "cell_type": "markdown",
   "metadata": {},
   "source": [
    "### Tokenization"
   ]
  },
  {
   "cell_type": "code",
   "execution_count": 19,
   "metadata": {},
   "outputs": [],
   "source": [
    "text_df = text.to_frame().rename(columns={0 : \"Text\"})\n",
    "text_df[\"Tokens\"] = text.apply(lambda row: nltk.word_tokenize(row))\n",
    "# text_df"
   ]
  },
  {
   "cell_type": "code",
   "execution_count": 20,
   "metadata": {},
   "outputs": [
    {
     "data": {
      "text/html": [
       "<div>\n",
       "<style scoped>\n",
       "    .dataframe tbody tr th:only-of-type {\n",
       "        vertical-align: middle;\n",
       "    }\n",
       "\n",
       "    .dataframe tbody tr th {\n",
       "        vertical-align: top;\n",
       "    }\n",
       "\n",
       "    .dataframe thead th {\n",
       "        text-align: right;\n",
       "    }\n",
       "</style>\n",
       "<table border=\"1\" class=\"dataframe\">\n",
       "  <thead>\n",
       "    <tr style=\"text-align: right;\">\n",
       "      <th></th>\n",
       "      <th>Tokens</th>\n",
       "    </tr>\n",
       "  </thead>\n",
       "  <tbody>\n",
       "    <tr>\n",
       "      <th>0</th>\n",
       "      <td>[voyages, ailes, papillons, lorsque, jeu, jeu,...</td>\n",
       "    </tr>\n",
       "    <tr>\n",
       "      <th>1</th>\n",
       "      <td>[festival, michoacan, comment, continuer, apre...</td>\n",
       "    </tr>\n",
       "    <tr>\n",
       "      <th>2</th>\n",
       "      <td>[vivez, migration, monarques, vin, jeu, maripo...</td>\n",
       "    </tr>\n",
       "    <tr>\n",
       "      <th>3</th>\n",
       "      <td>[manque, peu, souffle, mariposas, plutot, beau...</td>\n",
       "    </tr>\n",
       "    <tr>\n",
       "      <th>4</th>\n",
       "      <td>[beau, doux, rapide, mariposas, jeu, tension, ...</td>\n",
       "    </tr>\n",
       "    <tr>\n",
       "      <th>...</th>\n",
       "      <td>...</td>\n",
       "    </tr>\n",
       "    <tr>\n",
       "      <th>142459</th>\n",
       "      <td>[piou, boum, badaboum, crac, re, piou, petit, ...</td>\n",
       "    </tr>\n",
       "    <tr>\n",
       "      <th>142460</th>\n",
       "      <td>[star, wars, revisite, jeu, vaisseau, spaciaux...</td>\n",
       "    </tr>\n",
       "    <tr>\n",
       "      <th>142461</th>\n",
       "      <td>[piou, piou, mag, blast, jeu, rapide, drole, s...</td>\n",
       "    </tr>\n",
       "    <tr>\n",
       "      <th>142462</th>\n",
       "      <td>[peewww, peeeww, mort, pu, jouer, a, 2, moyen,...</td>\n",
       "    </tr>\n",
       "    <tr>\n",
       "      <th>142465</th>\n",
       "      <td>[merde, escadrons, joue, a, deux, joeurs, reve...</td>\n",
       "    </tr>\n",
       "  </tbody>\n",
       "</table>\n",
       "<p>96533 rows × 1 columns</p>\n",
       "</div>"
      ],
      "text/plain": [
       "                                                   Tokens\n",
       "0       [voyages, ailes, papillons, lorsque, jeu, jeu,...\n",
       "1       [festival, michoacan, comment, continuer, apre...\n",
       "2       [vivez, migration, monarques, vin, jeu, maripo...\n",
       "3       [manque, peu, souffle, mariposas, plutot, beau...\n",
       "4       [beau, doux, rapide, mariposas, jeu, tension, ...\n",
       "...                                                   ...\n",
       "142459  [piou, boum, badaboum, crac, re, piou, petit, ...\n",
       "142460  [star, wars, revisite, jeu, vaisseau, spaciaux...\n",
       "142461  [piou, piou, mag, blast, jeu, rapide, drole, s...\n",
       "142462  [peewww, peeeww, mort, pu, jouer, a, 2, moyen,...\n",
       "142465  [merde, escadrons, joue, a, deux, joeurs, reve...\n",
       "\n",
       "[96533 rows x 1 columns]"
      ]
     },
     "execution_count": 20,
     "metadata": {},
     "output_type": "execute_result"
    }
   ],
   "source": [
    "tokens = text_df[[\"Tokens\"]]\n",
    "tokens"
   ]
  },
  {
   "cell_type": "code",
   "execution_count": 21,
   "metadata": {},
   "outputs": [
    {
     "data": {
      "text/html": [
       "<div>\n",
       "<style scoped>\n",
       "    .dataframe tbody tr th:only-of-type {\n",
       "        vertical-align: middle;\n",
       "    }\n",
       "\n",
       "    .dataframe tbody tr th {\n",
       "        vertical-align: top;\n",
       "    }\n",
       "\n",
       "    .dataframe thead th {\n",
       "        text-align: right;\n",
       "    }\n",
       "</style>\n",
       "<table border=\"1\" class=\"dataframe\">\n",
       "  <thead>\n",
       "    <tr style=\"text-align: right;\">\n",
       "      <th></th>\n",
       "      <th>Tokens</th>\n",
       "      <th>Len</th>\n",
       "    </tr>\n",
       "  </thead>\n",
       "  <tbody>\n",
       "    <tr>\n",
       "      <th>0</th>\n",
       "      <td>voyages</td>\n",
       "      <td>7</td>\n",
       "    </tr>\n",
       "    <tr>\n",
       "      <th>0</th>\n",
       "      <td>ailes</td>\n",
       "      <td>5</td>\n",
       "    </tr>\n",
       "    <tr>\n",
       "      <th>0</th>\n",
       "      <td>papillons</td>\n",
       "      <td>9</td>\n",
       "    </tr>\n",
       "    <tr>\n",
       "      <th>0</th>\n",
       "      <td>lorsque</td>\n",
       "      <td>7</td>\n",
       "    </tr>\n",
       "    <tr>\n",
       "      <th>0</th>\n",
       "      <td>jeu</td>\n",
       "      <td>3</td>\n",
       "    </tr>\n",
       "    <tr>\n",
       "      <th>...</th>\n",
       "      <td>...</td>\n",
       "      <td>...</td>\n",
       "    </tr>\n",
       "    <tr>\n",
       "      <th>142465</th>\n",
       "      <td>tres</td>\n",
       "      <td>4</td>\n",
       "    </tr>\n",
       "    <tr>\n",
       "      <th>142465</th>\n",
       "      <td>attrayant</td>\n",
       "      <td>9</td>\n",
       "    </tr>\n",
       "    <tr>\n",
       "      <th>142465</th>\n",
       "      <td>voir</td>\n",
       "      <td>4</td>\n",
       "    </tr>\n",
       "    <tr>\n",
       "      <th>142465</th>\n",
       "      <td>partie</td>\n",
       "      <td>6</td>\n",
       "    </tr>\n",
       "    <tr>\n",
       "      <th>142465</th>\n",
       "      <td>joueurs</td>\n",
       "      <td>7</td>\n",
       "    </tr>\n",
       "  </tbody>\n",
       "</table>\n",
       "<p>6284489 rows × 2 columns</p>\n",
       "</div>"
      ],
      "text/plain": [
       "           Tokens  Len\n",
       "0         voyages    7\n",
       "0           ailes    5\n",
       "0       papillons    9\n",
       "0         lorsque    7\n",
       "0             jeu    3\n",
       "...           ...  ...\n",
       "142465       tres    4\n",
       "142465  attrayant    9\n",
       "142465       voir    4\n",
       "142465     partie    6\n",
       "142465    joueurs    7\n",
       "\n",
       "[6284489 rows x 2 columns]"
      ]
     },
     "execution_count": 21,
     "metadata": {},
     "output_type": "execute_result"
    }
   ],
   "source": [
    "words = tokens.explode(\"Tokens\")\n",
    "words[\"Len\"] = words[\"Tokens\"].str.len()\n",
    "words = words[words[\"Len\"] > 1]\n",
    "words"
   ]
  },
  {
   "cell_type": "markdown",
   "metadata": {},
   "source": [
    "### Replace repeating caracters"
   ]
  },
  {
   "cell_type": "code",
   "execution_count": 22,
   "metadata": {},
   "outputs": [
    {
     "data": {
      "text/html": [
       "<div>\n",
       "<style scoped>\n",
       "    .dataframe tbody tr th:only-of-type {\n",
       "        vertical-align: middle;\n",
       "    }\n",
       "\n",
       "    .dataframe tbody tr th {\n",
       "        vertical-align: top;\n",
       "    }\n",
       "\n",
       "    .dataframe thead th {\n",
       "        text-align: right;\n",
       "    }\n",
       "</style>\n",
       "<table border=\"1\" class=\"dataframe\">\n",
       "  <thead>\n",
       "    <tr style=\"text-align: right;\">\n",
       "      <th></th>\n",
       "      <th>Tokens</th>\n",
       "      <th>Len</th>\n",
       "    </tr>\n",
       "  </thead>\n",
       "  <tbody>\n",
       "    <tr>\n",
       "      <th>3873</th>\n",
       "      <td>projetgarfieldsoutenuplusoumoinsvraimentpariel...</td>\n",
       "      <td>64</td>\n",
       "    </tr>\n",
       "    <tr>\n",
       "      <th>3873</th>\n",
       "      <td>sortirmaisbononeveutpasvexergarfieldalorsonyva...</td>\n",
       "      <td>83</td>\n",
       "    </tr>\n",
       "    <tr>\n",
       "      <th>4309</th>\n",
       "      <td>0498c8d916ad49814197846cadefc70a89f</td>\n",
       "      <td>36</td>\n",
       "    </tr>\n",
       "    <tr>\n",
       "      <th>6869</th>\n",
       "      <td>enquetescoperatifimersifmaterielbeaute</td>\n",
       "      <td>40</td>\n",
       "    </tr>\n",
       "    <tr>\n",
       "      <th>8755</th>\n",
       "      <td>wargh</td>\n",
       "      <td>45</td>\n",
       "    </tr>\n",
       "    <tr>\n",
       "      <th>...</th>\n",
       "      <td>...</td>\n",
       "      <td>...</td>\n",
       "    </tr>\n",
       "    <tr>\n",
       "      <th>131964</th>\n",
       "      <td>whoanon</td>\n",
       "      <td>35</td>\n",
       "    </tr>\n",
       "    <tr>\n",
       "      <th>137964</th>\n",
       "      <td>4f7f9c9170798ac31d37f461d7c76512a7</td>\n",
       "      <td>36</td>\n",
       "    </tr>\n",
       "    <tr>\n",
       "      <th>137964</th>\n",
       "      <td>4f7f9c9170798ac31d37f461d7c76512a7ps5</td>\n",
       "      <td>39</td>\n",
       "    </tr>\n",
       "    <tr>\n",
       "      <th>138712</th>\n",
       "      <td>cartesrejouabilitefraicheurprixpoints</td>\n",
       "      <td>37</td>\n",
       "    </tr>\n",
       "    <tr>\n",
       "      <th>139472</th>\n",
       "      <td>techniqueobservationentrainementstrategiede</td>\n",
       "      <td>43</td>\n",
       "    </tr>\n",
       "  </tbody>\n",
       "</table>\n",
       "<p>74 rows × 2 columns</p>\n",
       "</div>"
      ],
      "text/plain": [
       "                                                   Tokens  Len\n",
       "3873    projetgarfieldsoutenuplusoumoinsvraimentpariel...   64\n",
       "3873    sortirmaisbononeveutpasvexergarfieldalorsonyva...   83\n",
       "4309                  0498c8d916ad49814197846cadefc70a89f   36\n",
       "6869               enquetescoperatifimersifmaterielbeaute   40\n",
       "8755                                                wargh   45\n",
       "...                                                   ...  ...\n",
       "131964                                            whoanon   35\n",
       "137964                 4f7f9c9170798ac31d37f461d7c76512a7   36\n",
       "137964              4f7f9c9170798ac31d37f461d7c76512a7ps5   39\n",
       "138712              cartesrejouabilitefraicheurprixpoints   37\n",
       "139472        techniqueobservationentrainementstrategiede   43\n",
       "\n",
       "[74 rows x 2 columns]"
      ]
     },
     "execution_count": 22,
     "metadata": {},
     "output_type": "execute_result"
    }
   ],
   "source": [
    "words[\"Tokens\"] = words[\"Tokens\"].str.replace(r\"(.)\\1+\", r\"\\1\", regex=True)\n",
    "words[words[\"Len\"] >= 35]"
   ]
  },
  {
   "cell_type": "markdown",
   "metadata": {},
   "source": [
    "### Remove hex-like words"
   ]
  },
  {
   "cell_type": "code",
   "execution_count": 23,
   "metadata": {},
   "outputs": [],
   "source": [
    "# at least one digit and hex like structure\n",
    "words = words[~words[\"Tokens\"].str.match(r\"^(?=.*\\d)[a-z0-9]{20,}$\", na=False)]"
   ]
  },
  {
   "cell_type": "markdown",
   "metadata": {},
   "source": [
    "### Replace digits with ''"
   ]
  },
  {
   "cell_type": "code",
   "execution_count": 24,
   "metadata": {},
   "outputs": [
    {
     "name": "stderr",
     "output_type": "stream",
     "text": [
      "/var/folders/dp/qpw35dg90hv8n0247r1klh4c0000gn/T/ipykernel_28281/2062898132.py:1: SettingWithCopyWarning: \n",
      "A value is trying to be set on a copy of a slice from a DataFrame.\n",
      "Try using .loc[row_indexer,col_indexer] = value instead\n",
      "\n",
      "See the caveats in the documentation: https://pandas.pydata.org/pandas-docs/stable/user_guide/indexing.html#returning-a-view-versus-a-copy\n",
      "  words[\"Tokens\"] = words[\"Tokens\"].str.replace(r'\\d+', '', regex=True)\n"
     ]
    }
   ],
   "source": [
    "words[\"Tokens\"] = words[\"Tokens\"].str.replace(r'\\d+', '', regex=True)"
   ]
  },
  {
   "cell_type": "code",
   "execution_count": 25,
   "metadata": {},
   "outputs": [
    {
     "data": {
      "text/html": [
       "<div>\n",
       "<style scoped>\n",
       "    .dataframe tbody tr th:only-of-type {\n",
       "        vertical-align: middle;\n",
       "    }\n",
       "\n",
       "    .dataframe tbody tr th {\n",
       "        vertical-align: top;\n",
       "    }\n",
       "\n",
       "    .dataframe thead th {\n",
       "        text-align: right;\n",
       "    }\n",
       "</style>\n",
       "<table border=\"1\" class=\"dataframe\">\n",
       "  <thead>\n",
       "    <tr style=\"text-align: right;\">\n",
       "      <th></th>\n",
       "      <th>Tokens</th>\n",
       "      <th>Len</th>\n",
       "    </tr>\n",
       "  </thead>\n",
       "  <tbody>\n",
       "  </tbody>\n",
       "</table>\n",
       "</div>"
      ],
      "text/plain": [
       "Empty DataFrame\n",
       "Columns: [Tokens, Len]\n",
       "Index: []"
      ]
     },
     "execution_count": 25,
     "metadata": {},
     "output_type": "execute_result"
    }
   ],
   "source": [
    "words[words[\"Tokens\"].str.match(r\"\\d+\")]"
   ]
  },
  {
   "cell_type": "code",
   "execution_count": 26,
   "metadata": {},
   "outputs": [
    {
     "name": "stderr",
     "output_type": "stream",
     "text": [
      "/var/folders/dp/qpw35dg90hv8n0247r1klh4c0000gn/T/ipykernel_28281/217479811.py:2: SettingWithCopyWarning: \n",
      "A value is trying to be set on a copy of a slice from a DataFrame.\n",
      "Try using .loc[row_indexer,col_indexer] = value instead\n",
      "\n",
      "See the caveats in the documentation: https://pandas.pydata.org/pandas-docs/stable/user_guide/indexing.html#returning-a-view-versus-a-copy\n",
      "  words[\"Len\"] = words[\"Tokens\"].str.len()\n"
     ]
    },
    {
     "data": {
      "text/html": [
       "<div>\n",
       "<style scoped>\n",
       "    .dataframe tbody tr th:only-of-type {\n",
       "        vertical-align: middle;\n",
       "    }\n",
       "\n",
       "    .dataframe tbody tr th {\n",
       "        vertical-align: top;\n",
       "    }\n",
       "\n",
       "    .dataframe thead th {\n",
       "        text-align: right;\n",
       "    }\n",
       "</style>\n",
       "<table border=\"1\" class=\"dataframe\">\n",
       "  <thead>\n",
       "    <tr style=\"text-align: right;\">\n",
       "      <th></th>\n",
       "      <th>Tokens</th>\n",
       "      <th>Len</th>\n",
       "    </tr>\n",
       "  </thead>\n",
       "  <tbody>\n",
       "    <tr>\n",
       "      <th>0</th>\n",
       "      <td>voyages</td>\n",
       "      <td>7</td>\n",
       "    </tr>\n",
       "    <tr>\n",
       "      <th>0</th>\n",
       "      <td>ailes</td>\n",
       "      <td>5</td>\n",
       "    </tr>\n",
       "    <tr>\n",
       "      <th>0</th>\n",
       "      <td>papilons</td>\n",
       "      <td>8</td>\n",
       "    </tr>\n",
       "    <tr>\n",
       "      <th>0</th>\n",
       "      <td>lorsque</td>\n",
       "      <td>7</td>\n",
       "    </tr>\n",
       "    <tr>\n",
       "      <th>0</th>\n",
       "      <td>jeu</td>\n",
       "      <td>3</td>\n",
       "    </tr>\n",
       "    <tr>\n",
       "      <th>...</th>\n",
       "      <td>...</td>\n",
       "      <td>...</td>\n",
       "    </tr>\n",
       "    <tr>\n",
       "      <th>142465</th>\n",
       "      <td>tres</td>\n",
       "      <td>4</td>\n",
       "    </tr>\n",
       "    <tr>\n",
       "      <th>142465</th>\n",
       "      <td>atrayant</td>\n",
       "      <td>8</td>\n",
       "    </tr>\n",
       "    <tr>\n",
       "      <th>142465</th>\n",
       "      <td>voir</td>\n",
       "      <td>4</td>\n",
       "    </tr>\n",
       "    <tr>\n",
       "      <th>142465</th>\n",
       "      <td>partie</td>\n",
       "      <td>6</td>\n",
       "    </tr>\n",
       "    <tr>\n",
       "      <th>142465</th>\n",
       "      <td>joueurs</td>\n",
       "      <td>7</td>\n",
       "    </tr>\n",
       "  </tbody>\n",
       "</table>\n",
       "<p>6284480 rows × 2 columns</p>\n",
       "</div>"
      ],
      "text/plain": [
       "          Tokens  Len\n",
       "0        voyages    7\n",
       "0          ailes    5\n",
       "0       papilons    8\n",
       "0        lorsque    7\n",
       "0            jeu    3\n",
       "...          ...  ...\n",
       "142465      tres    4\n",
       "142465  atrayant    8\n",
       "142465      voir    4\n",
       "142465    partie    6\n",
       "142465   joueurs    7\n",
       "\n",
       "[6284480 rows x 2 columns]"
      ]
     },
     "execution_count": 26,
     "metadata": {},
     "output_type": "execute_result"
    }
   ],
   "source": [
    "# Recalc length \n",
    "words[\"Len\"] = words[\"Tokens\"].str.len()\n",
    "words"
   ]
  },
  {
   "cell_type": "code",
   "execution_count": 27,
   "metadata": {},
   "outputs": [
    {
     "data": {
      "text/plain": [
       "Tokens\n",
       "jeu              224273\n",
       "plus              90753\n",
       "tres              71701\n",
       "bien              66651\n",
       "tout              57262\n",
       "                  ...  \n",
       "denrier               1\n",
       "laboraqualite         1\n",
       "expliquerla           1\n",
       "sympautre             1\n",
       "chouraver             1\n",
       "Name: count, Length: 96669, dtype: int64"
      ]
     },
     "execution_count": 27,
     "metadata": {},
     "output_type": "execute_result"
    }
   ],
   "source": [
    "# limit words length\n",
    "words = words[(words[\"Len\"] > 1) & (words[\"Len\"] < 25)]\n",
    "words[\"Tokens\"].value_counts()"
   ]
  },
  {
   "cell_type": "markdown",
   "metadata": {},
   "source": [
    "### Part of speech tags (for lemmatization) -> long. Stemming for now"
   ]
  },
  {
   "cell_type": "code",
   "execution_count": null,
   "metadata": {},
   "outputs": [
    {
     "data": {
      "text/plain": [
       "0      [(voyages, NOUN), (ailes, NOUN), (papillons, N...\n",
       "1      [(festival, NOUN), (michoacan, ADJ), (comment,...\n",
       "2      [(vivez, VERB), (migration, NOUN), (monarques,...\n",
       "3      [(manque, VERB), (peu, ADV), (souffle, VERB), ...\n",
       "4      [(beau, ADJ), (doux, ADJ), (rapide, ADJ), (mar...\n",
       "                             ...                        \n",
       "175    [(puntogo, INTJ), (jeu, NOUN), (emporter, VERB...\n",
       "187    [(bon, ADJ), (domaine, NOUN), (grand, ADJ), (f...\n",
       "188    [(jubilatoire, ADJ), (addictif, NOUN), (poule,...\n",
       "189    [(excellent, ADJ), (petit, ADJ), (jeu, NOUN), ...\n",
       "190    [(sympa, ADJ), (sens, NOUN), (assez, ADV), (pr...\n",
       "Name: Tokens, Length: 100, dtype: object"
      ]
     },
     "execution_count": 173,
     "metadata": {},
     "output_type": "execute_result"
    }
   ],
   "source": [
    "# pos_tagger = StanfordPOSTagger(model, jar, encoding='utf8')\n",
    "# lim_tokens = tokens[:100]\n",
    "# lim_tokens[\"Tokens\"].apply(lambda row : pos_tagger.tag(row))"
   ]
  },
  {
   "cell_type": "code",
   "execution_count": 28,
   "metadata": {},
   "outputs": [
    {
     "name": "stderr",
     "output_type": "stream",
     "text": [
      "/var/folders/dp/qpw35dg90hv8n0247r1klh4c0000gn/T/ipykernel_28281/1798391041.py:2: SettingWithCopyWarning: \n",
      "A value is trying to be set on a copy of a slice from a DataFrame.\n",
      "Try using .loc[row_indexer,col_indexer] = value instead\n",
      "\n",
      "See the caveats in the documentation: https://pandas.pydata.org/pandas-docs/stable/user_guide/indexing.html#returning-a-view-versus-a-copy\n",
      "  words[\"Stems\"] = words[\"Tokens\"].apply(stemmer.stem)\n"
     ]
    },
    {
     "data": {
      "text/html": [
       "<div>\n",
       "<style scoped>\n",
       "    .dataframe tbody tr th:only-of-type {\n",
       "        vertical-align: middle;\n",
       "    }\n",
       "\n",
       "    .dataframe tbody tr th {\n",
       "        vertical-align: top;\n",
       "    }\n",
       "\n",
       "    .dataframe thead th {\n",
       "        text-align: right;\n",
       "    }\n",
       "</style>\n",
       "<table border=\"1\" class=\"dataframe\">\n",
       "  <thead>\n",
       "    <tr style=\"text-align: right;\">\n",
       "      <th></th>\n",
       "      <th>Tokens</th>\n",
       "      <th>Len</th>\n",
       "      <th>Stems</th>\n",
       "    </tr>\n",
       "  </thead>\n",
       "  <tbody>\n",
       "    <tr>\n",
       "      <th>0</th>\n",
       "      <td>voyages</td>\n",
       "      <td>7</td>\n",
       "      <td>voyag</td>\n",
       "    </tr>\n",
       "    <tr>\n",
       "      <th>0</th>\n",
       "      <td>ailes</td>\n",
       "      <td>5</td>\n",
       "      <td>ail</td>\n",
       "    </tr>\n",
       "    <tr>\n",
       "      <th>0</th>\n",
       "      <td>papilons</td>\n",
       "      <td>8</td>\n",
       "      <td>papilon</td>\n",
       "    </tr>\n",
       "    <tr>\n",
       "      <th>0</th>\n",
       "      <td>lorsque</td>\n",
       "      <td>7</td>\n",
       "      <td>lorsqu</td>\n",
       "    </tr>\n",
       "    <tr>\n",
       "      <th>0</th>\n",
       "      <td>jeu</td>\n",
       "      <td>3</td>\n",
       "      <td>jeu</td>\n",
       "    </tr>\n",
       "    <tr>\n",
       "      <th>...</th>\n",
       "      <td>...</td>\n",
       "      <td>...</td>\n",
       "      <td>...</td>\n",
       "    </tr>\n",
       "    <tr>\n",
       "      <th>142465</th>\n",
       "      <td>tres</td>\n",
       "      <td>4</td>\n",
       "      <td>tre</td>\n",
       "    </tr>\n",
       "    <tr>\n",
       "      <th>142465</th>\n",
       "      <td>atrayant</td>\n",
       "      <td>8</td>\n",
       "      <td>atrai</td>\n",
       "    </tr>\n",
       "    <tr>\n",
       "      <th>142465</th>\n",
       "      <td>voir</td>\n",
       "      <td>4</td>\n",
       "      <td>voir</td>\n",
       "    </tr>\n",
       "    <tr>\n",
       "      <th>142465</th>\n",
       "      <td>partie</td>\n",
       "      <td>6</td>\n",
       "      <td>part</td>\n",
       "    </tr>\n",
       "    <tr>\n",
       "      <th>142465</th>\n",
       "      <td>joueurs</td>\n",
       "      <td>7</td>\n",
       "      <td>joueur</td>\n",
       "    </tr>\n",
       "  </tbody>\n",
       "</table>\n",
       "<p>6252735 rows × 3 columns</p>\n",
       "</div>"
      ],
      "text/plain": [
       "          Tokens  Len    Stems\n",
       "0        voyages    7    voyag\n",
       "0          ailes    5      ail\n",
       "0       papilons    8  papilon\n",
       "0        lorsque    7   lorsqu\n",
       "0            jeu    3      jeu\n",
       "...          ...  ...      ...\n",
       "142465      tres    4      tre\n",
       "142465  atrayant    8    atrai\n",
       "142465      voir    4     voir\n",
       "142465    partie    6     part\n",
       "142465   joueurs    7   joueur\n",
       "\n",
       "[6252735 rows x 3 columns]"
      ]
     },
     "execution_count": 28,
     "metadata": {},
     "output_type": "execute_result"
    }
   ],
   "source": [
    "stemmer = FrenchStemmer()\n",
    "words[\"Stems\"] = words[\"Tokens\"].apply(stemmer.stem)\n",
    "words = words[~words[\"Stems\"].isna()]\n",
    "words"
   ]
  },
  {
   "cell_type": "code",
   "execution_count": 29,
   "metadata": {},
   "outputs": [],
   "source": [
    "words[\"Len_stems\"] = words[\"Stems\"].str.len()"
   ]
  },
  {
   "cell_type": "markdown",
   "metadata": {},
   "source": [
    "### Analyze stems length"
   ]
  },
  {
   "cell_type": "code",
   "execution_count": 30,
   "metadata": {},
   "outputs": [
    {
     "data": {
      "text/plain": [
       "Len_stems\n",
       "4     1815690\n",
       "3     1227255\n",
       "5     1044261\n",
       "6      826686\n",
       "7      638548\n",
       "8      312546\n",
       "2      163737\n",
       "9      132646\n",
       "10      44005\n",
       "11      28367\n",
       "12       9930\n",
       "13       4044\n",
       "1        1904\n",
       "14       1146\n",
       "15        894\n",
       "17        372\n",
       "16        357\n",
       "18        149\n",
       "19         77\n",
       "20         46\n",
       "21         25\n",
       "22         21\n",
       "23         19\n",
       "24         10\n",
       "Name: count, dtype: int64"
      ]
     },
     "execution_count": 30,
     "metadata": {},
     "output_type": "execute_result"
    }
   ],
   "source": [
    "words[\"Len_stems\"].value_counts()"
   ]
  },
  {
   "cell_type": "markdown",
   "metadata": {},
   "source": [
    "### Limit stems lengths to 14 max"
   ]
  },
  {
   "cell_type": "code",
   "execution_count": 31,
   "metadata": {},
   "outputs": [
    {
     "data": {
      "text/plain": [
       "Len_stems\n",
       "4     1815690\n",
       "3     1227255\n",
       "5     1044261\n",
       "6      826686\n",
       "7      638548\n",
       "8      312546\n",
       "2      163737\n",
       "9      132646\n",
       "10      44005\n",
       "11      28367\n",
       "12       9930\n",
       "13       4044\n",
       "1        1904\n",
       "14       1146\n",
       "15        894\n",
       "17        372\n",
       "16        357\n",
       "18        149\n",
       "19         77\n",
       "20         46\n",
       "21         25\n",
       "22         21\n",
       "23         19\n",
       "24         10\n",
       "Name: count, dtype: int64"
      ]
     },
     "execution_count": 31,
     "metadata": {},
     "output_type": "execute_result"
    }
   ],
   "source": [
    "words[\"Len_stems\"].value_counts()"
   ]
  },
  {
   "cell_type": "code",
   "execution_count": 33,
   "metadata": {},
   "outputs": [],
   "source": [
    "words_filter = words[(words[\"Len_stems\"] > 1) & (words[\"Len_stems\"] <= 15)]"
   ]
  },
  {
   "cell_type": "code",
   "execution_count": 34,
   "metadata": {},
   "outputs": [
    {
     "data": {
      "text/plain": [
       "Stems\n",
       "jeu           224285\n",
       "plus           90757\n",
       "part           79373\n",
       "tre            71736\n",
       "tout           70783\n",
       "               ...  \n",
       "antihorair         1\n",
       "playbok            1\n",
       "andean             1\n",
       "ruhnk              1\n",
       "miral              1\n",
       "Name: count, Length: 58701, dtype: int64"
      ]
     },
     "execution_count": 34,
     "metadata": {},
     "output_type": "execute_result"
    }
   ],
   "source": [
    "words_filter[\"Stems\"].value_counts()"
   ]
  },
  {
   "cell_type": "code",
   "execution_count": 35,
   "metadata": {},
   "outputs": [
    {
     "data": {
      "text/html": [
       "<div>\n",
       "<style scoped>\n",
       "    .dataframe tbody tr th:only-of-type {\n",
       "        vertical-align: middle;\n",
       "    }\n",
       "\n",
       "    .dataframe tbody tr th {\n",
       "        vertical-align: top;\n",
       "    }\n",
       "\n",
       "    .dataframe thead th {\n",
       "        text-align: right;\n",
       "    }\n",
       "</style>\n",
       "<table border=\"1\" class=\"dataframe\">\n",
       "  <thead>\n",
       "    <tr style=\"text-align: right;\">\n",
       "      <th></th>\n",
       "      <th>Stems</th>\n",
       "    </tr>\n",
       "  </thead>\n",
       "  <tbody>\n",
       "    <tr>\n",
       "      <th>0</th>\n",
       "      <td>[voyag, ail, papilon, lorsqu, jeu, jeu, bon, r...</td>\n",
       "    </tr>\n",
       "    <tr>\n",
       "      <th>1</th>\n",
       "      <td>[festival, michoacan, coment, continu, apre, m...</td>\n",
       "    </tr>\n",
       "    <tr>\n",
       "      <th>2</th>\n",
       "      <td>[viv, migrat, monarqu, vin, jeu, maripos, eliz...</td>\n",
       "    </tr>\n",
       "    <tr>\n",
       "      <th>3</th>\n",
       "      <td>[manqu, peu, soufl, maripos, plutot, beau, gra...</td>\n",
       "    </tr>\n",
       "    <tr>\n",
       "      <th>4</th>\n",
       "      <td>[beau, doux, rapid, maripos, jeu, tension, va,...</td>\n",
       "    </tr>\n",
       "    <tr>\n",
       "      <th>...</th>\n",
       "      <td>...</td>\n",
       "    </tr>\n",
       "    <tr>\n",
       "      <th>96528</th>\n",
       "      <td>[piou, boum, badaboum, crac, re, piou, pet, je...</td>\n",
       "    </tr>\n",
       "    <tr>\n",
       "      <th>96529</th>\n",
       "      <td>[star, war, revisit, jeu, vaiseau, spacial, as...</td>\n",
       "    </tr>\n",
       "    <tr>\n",
       "      <th>96530</th>\n",
       "      <td>[piou, piou, mag, blast, jeu, rapid, drol, san...</td>\n",
       "    </tr>\n",
       "    <tr>\n",
       "      <th>96531</th>\n",
       "      <td>[pew, pew, mort, pu, jou, moyen, pu, fouil, bi...</td>\n",
       "    </tr>\n",
       "    <tr>\n",
       "      <th>96532</th>\n",
       "      <td>[merd, escadron, jou, deux, joeur, revel, etre...</td>\n",
       "    </tr>\n",
       "  </tbody>\n",
       "</table>\n",
       "<p>96533 rows × 1 columns</p>\n",
       "</div>"
      ],
      "text/plain": [
       "                                                   Stems\n",
       "0      [voyag, ail, papilon, lorsqu, jeu, jeu, bon, r...\n",
       "1      [festival, michoacan, coment, continu, apre, m...\n",
       "2      [viv, migrat, monarqu, vin, jeu, maripos, eliz...\n",
       "3      [manqu, peu, soufl, maripos, plutot, beau, gra...\n",
       "4      [beau, doux, rapid, maripos, jeu, tension, va,...\n",
       "...                                                  ...\n",
       "96528  [piou, boum, badaboum, crac, re, piou, pet, je...\n",
       "96529  [star, war, revisit, jeu, vaiseau, spacial, as...\n",
       "96530  [piou, piou, mag, blast, jeu, rapid, drol, san...\n",
       "96531  [pew, pew, mort, pu, jou, moyen, pu, fouil, bi...\n",
       "96532  [merd, escadron, jou, deux, joeur, revel, etre...\n",
       "\n",
       "[96533 rows x 1 columns]"
      ]
     },
     "execution_count": 35,
     "metadata": {},
     "output_type": "execute_result"
    }
   ],
   "source": [
    "words_imploded = words_filter.groupby(words_filter.index)['Stems'].apply(list).reset_index(drop=True).to_frame().rename(columns={0 : \"Stems\"})\n",
    "words_imploded"
   ]
  },
  {
   "cell_type": "code",
   "execution_count": 36,
   "metadata": {},
   "outputs": [
    {
     "data": {
      "text/html": [
       "<div>\n",
       "<style scoped>\n",
       "    .dataframe tbody tr th:only-of-type {\n",
       "        vertical-align: middle;\n",
       "    }\n",
       "\n",
       "    .dataframe tbody tr th {\n",
       "        vertical-align: top;\n",
       "    }\n",
       "\n",
       "    .dataframe thead th {\n",
       "        text-align: right;\n",
       "    }\n",
       "</style>\n",
       "<table border=\"1\" class=\"dataframe\">\n",
       "  <thead>\n",
       "    <tr style=\"text-align: right;\">\n",
       "      <th></th>\n",
       "      <th>Stems</th>\n",
       "      <th>Comment stemmed</th>\n",
       "    </tr>\n",
       "  </thead>\n",
       "  <tbody>\n",
       "    <tr>\n",
       "      <th>0</th>\n",
       "      <td>[voyag, ail, papilon, lorsqu, jeu, jeu, bon, r...</td>\n",
       "      <td>voyag ail papilon lorsqu jeu jeu bon reflex jo...</td>\n",
       "    </tr>\n",
       "    <tr>\n",
       "      <th>1</th>\n",
       "      <td>[festival, michoacan, coment, continu, apre, m...</td>\n",
       "      <td>festival michoacan coment continu apre meg hit...</td>\n",
       "    </tr>\n",
       "    <tr>\n",
       "      <th>2</th>\n",
       "      <td>[viv, migrat, monarqu, vin, jeu, maripos, eliz...</td>\n",
       "      <td>viv migrat monarqu vin jeu maripos elizabeth h...</td>\n",
       "    </tr>\n",
       "    <tr>\n",
       "      <th>3</th>\n",
       "      <td>[manqu, peu, soufl, maripos, plutot, beau, gra...</td>\n",
       "      <td>manqu peu soufl maripos plutot beau grand plat...</td>\n",
       "    </tr>\n",
       "    <tr>\n",
       "      <th>4</th>\n",
       "      <td>[beau, doux, rapid, maripos, jeu, tension, va,...</td>\n",
       "      <td>beau doux rapid maripos jeu tension va exacerb...</td>\n",
       "    </tr>\n",
       "    <tr>\n",
       "      <th>...</th>\n",
       "      <td>...</td>\n",
       "      <td>...</td>\n",
       "    </tr>\n",
       "    <tr>\n",
       "      <th>96528</th>\n",
       "      <td>[piou, boum, badaboum, crac, re, piou, pet, je...</td>\n",
       "      <td>piou boum badaboum crac re piou pet jeu bien f...</td>\n",
       "    </tr>\n",
       "    <tr>\n",
       "      <th>96529</th>\n",
       "      <td>[star, war, revisit, jeu, vaiseau, spacial, as...</td>\n",
       "      <td>star war revisit jeu vaiseau spacial asez symp...</td>\n",
       "    </tr>\n",
       "    <tr>\n",
       "      <th>96530</th>\n",
       "      <td>[piou, piou, mag, blast, jeu, rapid, drol, san...</td>\n",
       "      <td>piou piou mag blast jeu rapid drol san pretent...</td>\n",
       "    </tr>\n",
       "    <tr>\n",
       "      <th>96531</th>\n",
       "      <td>[pew, pew, mort, pu, jou, moyen, pu, fouil, bi...</td>\n",
       "      <td>pew pew mort pu jou moyen pu fouil bien tout s...</td>\n",
       "    </tr>\n",
       "    <tr>\n",
       "      <th>96532</th>\n",
       "      <td>[merd, escadron, jou, deux, joeur, revel, etre...</td>\n",
       "      <td>merd escadron jou deux joeur revel etre relat ...</td>\n",
       "    </tr>\n",
       "  </tbody>\n",
       "</table>\n",
       "<p>96533 rows × 2 columns</p>\n",
       "</div>"
      ],
      "text/plain": [
       "                                                   Stems  \\\n",
       "0      [voyag, ail, papilon, lorsqu, jeu, jeu, bon, r...   \n",
       "1      [festival, michoacan, coment, continu, apre, m...   \n",
       "2      [viv, migrat, monarqu, vin, jeu, maripos, eliz...   \n",
       "3      [manqu, peu, soufl, maripos, plutot, beau, gra...   \n",
       "4      [beau, doux, rapid, maripos, jeu, tension, va,...   \n",
       "...                                                  ...   \n",
       "96528  [piou, boum, badaboum, crac, re, piou, pet, je...   \n",
       "96529  [star, war, revisit, jeu, vaiseau, spacial, as...   \n",
       "96530  [piou, piou, mag, blast, jeu, rapid, drol, san...   \n",
       "96531  [pew, pew, mort, pu, jou, moyen, pu, fouil, bi...   \n",
       "96532  [merd, escadron, jou, deux, joeur, revel, etre...   \n",
       "\n",
       "                                         Comment stemmed  \n",
       "0      voyag ail papilon lorsqu jeu jeu bon reflex jo...  \n",
       "1      festival michoacan coment continu apre meg hit...  \n",
       "2      viv migrat monarqu vin jeu maripos elizabeth h...  \n",
       "3      manqu peu soufl maripos plutot beau grand plat...  \n",
       "4      beau doux rapid maripos jeu tension va exacerb...  \n",
       "...                                                  ...  \n",
       "96528  piou boum badaboum crac re piou pet jeu bien f...  \n",
       "96529  star war revisit jeu vaiseau spacial asez symp...  \n",
       "96530  piou piou mag blast jeu rapid drol san pretent...  \n",
       "96531  pew pew mort pu jou moyen pu fouil bien tout s...  \n",
       "96532  merd escadron jou deux joeur revel etre relat ...  \n",
       "\n",
       "[96533 rows x 2 columns]"
      ]
     },
     "execution_count": 36,
     "metadata": {},
     "output_type": "execute_result"
    }
   ],
   "source": [
    "words_imploded[\"Comment stemmed\"] = words_imploded[\"Stems\"].apply(lambda row : \" \".join(row))\n",
    "words_imploded"
   ]
  },
  {
   "cell_type": "code",
   "execution_count": 39,
   "metadata": {},
   "outputs": [],
   "source": [
    "words_imploded[[\"Comment stemmed\"]].to_csv(\"generated_data/comments_stemmed.csv\")"
   ]
  },
  {
   "cell_type": "code",
   "execution_count": 173,
   "metadata": {},
   "outputs": [],
   "source": [
    "freq = words_filter[\"Stems\"].value_counts().to_frame().reset_index()"
   ]
  },
  {
   "cell_type": "code",
   "execution_count": 174,
   "metadata": {},
   "outputs": [
    {
     "data": {
      "image/png": "[encoded data removed]",
      "text/plain": [
       "<Figure size 1000x500 with 1 Axes>"
      ]
     },
     "metadata": {},
     "output_type": "display_data"
    }
   ],
   "source": [
    "sns.set_theme(rc={'figure.figsize' : (10, 5)})\n",
    "lim_freq = freq[:50]\n",
    "ax = sns.lineplot(data=lim_freq, x=\"Stems\", y=\"count\")\n",
    "ax.tick_params(axis='x', rotation=90)"
   ]
  },
  {
   "cell_type": "code",
   "execution_count": null,
   "metadata": {},
   "outputs": [
    {
     "data": {
      "text/html": [
       "<div>\n",
       "<style scoped>\n",
       "    .dataframe tbody tr th:only-of-type {\n",
       "        vertical-align: middle;\n",
       "    }\n",
       "\n",
       "    .dataframe tbody tr th {\n",
       "        vertical-align: top;\n",
       "    }\n",
       "\n",
       "    .dataframe thead th {\n",
       "        text-align: right;\n",
       "    }\n",
       "</style>\n",
       "<table border=\"1\" class=\"dataframe\">\n",
       "  <thead>\n",
       "    <tr style=\"text-align: right;\">\n",
       "      <th></th>\n",
       "      <th>Text</th>\n",
       "    </tr>\n",
       "  </thead>\n",
       "  <tbody>\n",
       "    <tr>\n",
       "      <th>0</th>\n",
       "      <td>voyages ailes papillons lorsque jeu jeu bon re...</td>\n",
       "    </tr>\n",
       "    <tr>\n",
       "      <th>1</th>\n",
       "      <td>festival michoacan comment continuer apres meg...</td>\n",
       "    </tr>\n",
       "    <tr>\n",
       "      <th>2</th>\n",
       "      <td>vivez migration monarques vin jeu mariposas el...</td>\n",
       "    </tr>\n",
       "    <tr>\n",
       "      <th>3</th>\n",
       "      <td>manque peu souffle mariposas plutot beau grand...</td>\n",
       "    </tr>\n",
       "    <tr>\n",
       "      <th>4</th>\n",
       "      <td>beau doux rapide mariposas jeu tension va exac...</td>\n",
       "    </tr>\n",
       "    <tr>\n",
       "      <th>...</th>\n",
       "      <td>...</td>\n",
       "    </tr>\n",
       "    <tr>\n",
       "      <th>142459</th>\n",
       "      <td>piou boum badaboum crac re piou petit jeu bien...</td>\n",
       "    </tr>\n",
       "    <tr>\n",
       "      <th>142460</th>\n",
       "      <td>star wars revisite jeu vaisseau spaciaux assez...</td>\n",
       "    </tr>\n",
       "    <tr>\n",
       "      <th>142461</th>\n",
       "      <td>piou piou mag blast jeu rapide drole sans pret...</td>\n",
       "    </tr>\n",
       "    <tr>\n",
       "      <th>142462</th>\n",
       "      <td>peewww peeeww mort pu jouer a 2 moyen a pu fou...</td>\n",
       "    </tr>\n",
       "    <tr>\n",
       "      <th>142465</th>\n",
       "      <td>merde escadrons joue a deux joeurs revele etre...</td>\n",
       "    </tr>\n",
       "  </tbody>\n",
       "</table>\n",
       "<p>96533 rows × 1 columns</p>\n",
       "</div>"
      ],
      "text/plain": [
       "                                                     Text\n",
       "0       voyages ailes papillons lorsque jeu jeu bon re...\n",
       "1       festival michoacan comment continuer apres meg...\n",
       "2       vivez migration monarques vin jeu mariposas el...\n",
       "3       manque peu souffle mariposas plutot beau grand...\n",
       "4       beau doux rapide mariposas jeu tension va exac...\n",
       "...                                                   ...\n",
       "142459  piou boum badaboum crac re piou petit jeu bien...\n",
       "142460  star wars revisite jeu vaisseau spaciaux assez...\n",
       "142461  piou piou mag blast jeu rapide drole sans pret...\n",
       "142462  peewww peeeww mort pu jouer a 2 moyen a pu fou...\n",
       "142465  merde escadrons joue a deux joeurs revele etre...\n",
       "\n",
       "[96533 rows x 1 columns]"
      ]
     },
     "execution_count": 264,
     "metadata": {},
     "output_type": "execute_result"
    }
   ],
   "source": [
    "# import re\n",
    "\n",
    "# hex_like_pattern = r'(?=.*\\d)\\b[a-z0-9]{32,40}\\b' #.str.replace\n",
    "# #repeat_chars_pattern = r\"(.)\\1+\", r\"\\1\" \n",
    "\n",
    "# repeat_chars_pattern = r'([a-zA-Z])\\1+'\n",
    "\n",
    "# # Function to reduce repeated characters to a single occurrence\n",
    "# def reduce_repeated_characters(text):\n",
    "#     return re.sub(repeat_chars_pattern, r'\\1', text)\n",
    "\n",
    "# def replace_hashes(text):\n",
    "#     # Replace with a placeholder like '<HASH>'\n",
    "#     return re.sub(hex_like_pattern, '', text)\n",
    "\n",
    "# text_df = text.to_frame().rename(columns={0 : \"Text\"})\n",
    "# #text_df = text_df[[\"Text\"]]\n",
    "# text_df"
   ]
  },
  {
   "cell_type": "code",
   "execution_count": null,
   "metadata": {},
   "outputs": [],
   "source": [
    "#text_df[\"Text\"] = text_df[\"Text\"].apply(reduce_repeated_characters)\n",
    "#text_df[\"Text\"] = text_df[\"Text\"].apply(replace_hashes)\n"
   ]
  },
  {
   "cell_type": "code",
   "execution_count": null,
   "metadata": {},
   "outputs": [],
   "source": [
    "#text_df[\"Text\"] = text_df[\"Text\"].str.replace(\"\\d+\", \"\", regex=True)"
   ]
  },
  {
   "cell_type": "code",
   "execution_count": null,
   "metadata": {},
   "outputs": [
    {
     "data": {
      "text/html": [
       "<div>\n",
       "<style scoped>\n",
       "    .dataframe tbody tr th:only-of-type {\n",
       "        vertical-align: middle;\n",
       "    }\n",
       "\n",
       "    .dataframe tbody tr th {\n",
       "        vertical-align: top;\n",
       "    }\n",
       "\n",
       "    .dataframe thead th {\n",
       "        text-align: right;\n",
       "    }\n",
       "</style>\n",
       "<table border=\"1\" class=\"dataframe\">\n",
       "  <thead>\n",
       "    <tr style=\"text-align: right;\">\n",
       "      <th></th>\n",
       "      <th>Text</th>\n",
       "      <th>Tokens</th>\n",
       "      <th>Stemmed</th>\n",
       "    </tr>\n",
       "  </thead>\n",
       "  <tbody>\n",
       "    <tr>\n",
       "      <th>18734</th>\n",
       "      <td>neroburningromshimahex terible jeu beau rapide...</td>\n",
       "      <td>[neroburningroomshimahex, terrible, jeu, beau,...</td>\n",
       "      <td>neroburningroomshimahex terribl jeu beau rapid...</td>\n",
       "    </tr>\n",
       "    <tr>\n",
       "      <th>22132</th>\n",
       "      <td>danslescoutumesetlesus principe loto aplique j...</td>\n",
       "      <td>[danslescoutumesetlesus, principe, loto, appli...</td>\n",
       "      <td>danslescoutumesetlesus princip loto appliqu jd...</td>\n",
       "    </tr>\n",
       "    <tr>\n",
       "      <th>34413</th>\n",
       "      <td>supercalifragilisticexpialidocious suite indis...</td>\n",
       "      <td>[supercalifragilisticexpialidocious, suite, in...</td>\n",
       "      <td>supercalifragilisticexpialidocious suit indisp...</td>\n",
       "    </tr>\n",
       "    <tr>\n",
       "      <th>40236</th>\n",
       "      <td>yamonpotokaidaenlaichou vert jeu ambiance fami...</td>\n",
       "      <td>[yamonpotokaidaenlaichou, vert, jeu, ambiance,...</td>\n",
       "      <td>yamonpotokaidaenlaichou vert jeu ambianc famil...</td>\n",
       "    </tr>\n",
       "    <tr>\n",
       "      <th>65318</th>\n",
       "      <td>tatatatatatatatatata youpi jeu replonge enfanc...</td>\n",
       "      <td>[tatatatatatatatatatta, youpi, jeu, replonge, ...</td>\n",
       "      <td>tatatatatatatatatatt youp jeu replong enfanc v...</td>\n",
       "    </tr>\n",
       "    <tr>\n",
       "      <th>67774</th>\n",
       "      <td>lesatrocepouvantables histoires shogoth chocot...</td>\n",
       "      <td>[lesatrocepouvantables, histoires, shoggoth, c...</td>\n",
       "      <td>lesatrocepouvant histoir shoggoth chocott sup ...</td>\n",
       "    </tr>\n",
       "    <tr>\n",
       "      <th>68976</th>\n",
       "      <td>elpmisaptsecsrevnelareuoj bon jeu letres toute...</td>\n",
       "      <td>[elpmissaptsecsrevnelareuoj, bon, jeu, lettres...</td>\n",
       "      <td>elpmissaptsecsrevnelareuoj bon jeu lettr toute...</td>\n",
       "    </tr>\n",
       "    <tr>\n",
       "      <th>83602</th>\n",
       "      <td>tatacticaratetakaratake plutot atirant debut g...</td>\n",
       "      <td>[tatacticaratetakaratake, plutot, attirant, de...</td>\n",
       "      <td>tatacticaratetakaratak plutot attir debut grac...</td>\n",
       "    </tr>\n",
       "    <tr>\n",
       "      <th>85043</th>\n",
       "      <td>behbegloubegloubeglobglouglou genial petit jeu...</td>\n",
       "      <td>[beehbeegloubeegloubeglobglouglou, genial, pet...</td>\n",
       "      <td>beehbeegloubeegloubeglobglouglou genial pet je...</td>\n",
       "    </tr>\n",
       "    <tr>\n",
       "      <th>100732</th>\n",
       "      <td>ouarfhinhinhniaoumiococo beaucoup bon petit je...</td>\n",
       "      <td>[ouarfhinhinhniaoumiococo, beaucoup, bon, peti...</td>\n",
       "      <td>ouarfhinhinhniaoumiococo beaucoup bon pet jeu ...</td>\n",
       "    </tr>\n",
       "    <tr>\n",
       "      <th>109846</th>\n",
       "      <td>ratatatatatatatatatatatata ah chaque joueur di...</td>\n",
       "      <td>[ratatatatatatatatatatatata, aaaaaaaaaaaaaaaaa...</td>\n",
       "      <td>ratatatatatatatatatatatat aaaaaaaaaaaaaaaaaaah...</td>\n",
       "    </tr>\n",
       "    <tr>\n",
       "      <th>113187</th>\n",
       "      <td>tatatatatatatatatatat tres bon jeu programatio...</td>\n",
       "      <td>[tatatatattattatatatatat, tres, bon, jeu, prog...</td>\n",
       "      <td>tatatatattattatatatatat tre bon jeu programm c...</td>\n",
       "    </tr>\n",
       "    <tr>\n",
       "      <th>120800</th>\n",
       "      <td>antilopenonmincegnou jeu come paire chausures ...</td>\n",
       "      <td>[antilopenonmincegnouuuuuu, jeu, comme, paire,...</td>\n",
       "      <td>antilopenonmincegnouuuuuu jeu comm pair chauss...</td>\n",
       "    </tr>\n",
       "    <tr>\n",
       "      <th>121622</th>\n",
       "      <td>anticonstitutionelemnt fais moins malin bon fr...</td>\n",
       "      <td>[anticonstitutionnellemnt, fais, moins, malin,...</td>\n",
       "      <td>anticonstitutionnellemnt fais moin malin bon f...</td>\n",
       "    </tr>\n",
       "    <tr>\n",
       "      <th>130720</th>\n",
       "      <td>ratatatatatatatatatatatatatatatatatatatatatata...</td>\n",
       "      <td>[ratatatatatatatatatatatatatatatatatatatatatat...</td>\n",
       "      <td>ratatatatatatatatatatatatatatatatatatatatatat ...</td>\n",
       "    </tr>\n",
       "  </tbody>\n",
       "</table>\n",
       "</div>"
      ],
      "text/plain": [
       "                                                     Text  \\\n",
       "18734   neroburningromshimahex terible jeu beau rapide...   \n",
       "22132   danslescoutumesetlesus principe loto aplique j...   \n",
       "34413   supercalifragilisticexpialidocious suite indis...   \n",
       "40236   yamonpotokaidaenlaichou vert jeu ambiance fami...   \n",
       "65318   tatatatatatatatatata youpi jeu replonge enfanc...   \n",
       "67774   lesatrocepouvantables histoires shogoth chocot...   \n",
       "68976   elpmisaptsecsrevnelareuoj bon jeu letres toute...   \n",
       "83602   tatacticaratetakaratake plutot atirant debut g...   \n",
       "85043   behbegloubegloubeglobglouglou genial petit jeu...   \n",
       "100732  ouarfhinhinhniaoumiococo beaucoup bon petit je...   \n",
       "109846  ratatatatatatatatatatatata ah chaque joueur di...   \n",
       "113187  tatatatatatatatatatat tres bon jeu programatio...   \n",
       "120800  antilopenonmincegnou jeu come paire chausures ...   \n",
       "121622  anticonstitutionelemnt fais moins malin bon fr...   \n",
       "130720  ratatatatatatatatatatatatatatatatatatatatatata...   \n",
       "\n",
       "                                                   Tokens  \\\n",
       "18734   [neroburningroomshimahex, terrible, jeu, beau,...   \n",
       "22132   [danslescoutumesetlesus, principe, loto, appli...   \n",
       "34413   [supercalifragilisticexpialidocious, suite, in...   \n",
       "40236   [yamonpotokaidaenlaichou, vert, jeu, ambiance,...   \n",
       "65318   [tatatatatatatatatatta, youpi, jeu, replonge, ...   \n",
       "67774   [lesatrocepouvantables, histoires, shoggoth, c...   \n",
       "68976   [elpmissaptsecsrevnelareuoj, bon, jeu, lettres...   \n",
       "83602   [tatacticaratetakaratake, plutot, attirant, de...   \n",
       "85043   [beehbeegloubeegloubeglobglouglou, genial, pet...   \n",
       "100732  [ouarfhinhinhniaoumiococo, beaucoup, bon, peti...   \n",
       "109846  [ratatatatatatatatatatatata, aaaaaaaaaaaaaaaaa...   \n",
       "113187  [tatatatattattatatatatat, tres, bon, jeu, prog...   \n",
       "120800  [antilopenonmincegnouuuuuu, jeu, comme, paire,...   \n",
       "121622  [anticonstitutionnellemnt, fais, moins, malin,...   \n",
       "130720  [ratatatatatatatatatatatatatatatatatatatatatat...   \n",
       "\n",
       "                                                  Stemmed  \n",
       "18734   neroburningroomshimahex terribl jeu beau rapid...  \n",
       "22132   danslescoutumesetlesus princip loto appliqu jd...  \n",
       "34413   supercalifragilisticexpialidocious suit indisp...  \n",
       "40236   yamonpotokaidaenlaichou vert jeu ambianc famil...  \n",
       "65318   tatatatatatatatatatt youp jeu replong enfanc v...  \n",
       "67774   lesatrocepouvant histoir shoggoth chocott sup ...  \n",
       "68976   elpmissaptsecsrevnelareuoj bon jeu lettr toute...  \n",
       "83602   tatacticaratetakaratak plutot attir debut grac...  \n",
       "85043   beehbeegloubeegloubeglobglouglou genial pet je...  \n",
       "100732  ouarfhinhinhniaoumiococo beaucoup bon pet jeu ...  \n",
       "109846  ratatatatatatatatatatatat aaaaaaaaaaaaaaaaaaah...  \n",
       "113187  tatatatattattatatatatat tre bon jeu programm c...  \n",
       "120800  antilopenonmincegnouuuuuu jeu comm pair chauss...  \n",
       "121622  anticonstitutionnellemnt fais moin malin bon f...  \n",
       "130720  ratatatatatatatatatatatatatatatatatatatatatat ...  "
      ]
     },
     "execution_count": 274,
     "metadata": {},
     "output_type": "execute_result"
    }
   ],
   "source": [
    "#text_df[text_df[\"Text\"].str.match(r\"[a-z]{20,}\")]"
   ]
  },
  {
   "cell_type": "code",
   "execution_count": 275,
   "metadata": {},
   "outputs": [],
   "source": [
    "text_df[\"Tokens\"] = text_df[\"Text\"].apply(lambda row: nltk.word_tokenize(row))\n",
    "# text_df"
   ]
  },
  {
   "cell_type": "code",
   "execution_count": 279,
   "metadata": {},
   "outputs": [
    {
     "data": {
      "text/html": [
       "<div>\n",
       "<style scoped>\n",
       "    .dataframe tbody tr th:only-of-type {\n",
       "        vertical-align: middle;\n",
       "    }\n",
       "\n",
       "    .dataframe tbody tr th {\n",
       "        vertical-align: top;\n",
       "    }\n",
       "\n",
       "    .dataframe thead th {\n",
       "        text-align: right;\n",
       "    }\n",
       "</style>\n",
       "<table border=\"1\" class=\"dataframe\">\n",
       "  <thead>\n",
       "    <tr style=\"text-align: right;\">\n",
       "      <th></th>\n",
       "      <th>Tokens</th>\n",
       "    </tr>\n",
       "  </thead>\n",
       "  <tbody>\n",
       "    <tr>\n",
       "      <th>0</th>\n",
       "      <td>voyages</td>\n",
       "    </tr>\n",
       "    <tr>\n",
       "      <th>0</th>\n",
       "      <td>ailes</td>\n",
       "    </tr>\n",
       "    <tr>\n",
       "      <th>0</th>\n",
       "      <td>papilons</td>\n",
       "    </tr>\n",
       "    <tr>\n",
       "      <th>0</th>\n",
       "      <td>lorsque</td>\n",
       "    </tr>\n",
       "    <tr>\n",
       "      <th>0</th>\n",
       "      <td>jeu</td>\n",
       "    </tr>\n",
       "    <tr>\n",
       "      <th>...</th>\n",
       "      <td>...</td>\n",
       "    </tr>\n",
       "    <tr>\n",
       "      <th>142465</th>\n",
       "      <td>atrayant</td>\n",
       "    </tr>\n",
       "    <tr>\n",
       "      <th>142465</th>\n",
       "      <td>a</td>\n",
       "    </tr>\n",
       "    <tr>\n",
       "      <th>142465</th>\n",
       "      <td>voir</td>\n",
       "    </tr>\n",
       "    <tr>\n",
       "      <th>142465</th>\n",
       "      <td>partie</td>\n",
       "    </tr>\n",
       "    <tr>\n",
       "      <th>142465</th>\n",
       "      <td>joueurs</td>\n",
       "    </tr>\n",
       "  </tbody>\n",
       "</table>\n",
       "<p>6633386 rows × 1 columns</p>\n",
       "</div>"
      ],
      "text/plain": [
       "          Tokens\n",
       "0        voyages\n",
       "0          ailes\n",
       "0       papilons\n",
       "0        lorsque\n",
       "0            jeu\n",
       "...          ...\n",
       "142465  atrayant\n",
       "142465         a\n",
       "142465      voir\n",
       "142465    partie\n",
       "142465   joueurs\n",
       "\n",
       "[6633386 rows x 1 columns]"
      ]
     },
     "execution_count": 279,
     "metadata": {},
     "output_type": "execute_result"
    }
   ],
   "source": [
    "words = text_df[[\"Tokens\"]].explode(\"Tokens\")\n",
    "words"
   ]
  },
  {
   "cell_type": "code",
   "execution_count": null,
   "metadata": {},
   "outputs": [],
   "source": []
  },
  {
   "cell_type": "code",
   "execution_count": 269,
   "metadata": {},
   "outputs": [
    {
     "data": {
      "text/html": [
       "<div>\n",
       "<style scoped>\n",
       "    .dataframe tbody tr th:only-of-type {\n",
       "        vertical-align: middle;\n",
       "    }\n",
       "\n",
       "    .dataframe tbody tr th {\n",
       "        vertical-align: top;\n",
       "    }\n",
       "\n",
       "    .dataframe thead th {\n",
       "        text-align: right;\n",
       "    }\n",
       "</style>\n",
       "<table border=\"1\" class=\"dataframe\">\n",
       "  <thead>\n",
       "    <tr style=\"text-align: right;\">\n",
       "      <th></th>\n",
       "      <th>Text</th>\n",
       "      <th>Tokens</th>\n",
       "      <th>Stemmed</th>\n",
       "    </tr>\n",
       "  </thead>\n",
       "  <tbody>\n",
       "    <tr>\n",
       "      <th>0</th>\n",
       "      <td>voyages ailes papilons lorsque jeu jeu bon ref...</td>\n",
       "      <td>[voyages, ailes, papillons, lorsque, jeu, jeu,...</td>\n",
       "      <td>voyag ail papillon lorsqu jeu jeu bon reflex j...</td>\n",
       "    </tr>\n",
       "    <tr>\n",
       "      <th>1</th>\n",
       "      <td>festival michoacan coment continuer apres mega...</td>\n",
       "      <td>[festival, michoacan, comment, continuer, apre...</td>\n",
       "      <td>festival michoacan comment continu apre meg hi...</td>\n",
       "    </tr>\n",
       "    <tr>\n",
       "      <th>2</th>\n",
       "      <td>vivez migration monarques vin jeu mariposas el...</td>\n",
       "      <td>[vivez, migration, monarques, vin, jeu, maripo...</td>\n",
       "      <td>viv migrat monarqu vin jeu maripos elizabeth h...</td>\n",
       "    </tr>\n",
       "    <tr>\n",
       "      <th>3</th>\n",
       "      <td>manque peu soufle mariposas plutot beau grand ...</td>\n",
       "      <td>[manque, peu, souffle, mariposas, plutot, beau...</td>\n",
       "      <td>manqu peu souffl maripos plutot beau grand pla...</td>\n",
       "    </tr>\n",
       "    <tr>\n",
       "      <th>4</th>\n",
       "      <td>beau doux rapide mariposas jeu tension va exac...</td>\n",
       "      <td>[beau, doux, rapide, mariposas, jeu, tension, ...</td>\n",
       "      <td>beau doux rapid maripos jeu tension va exacerb...</td>\n",
       "    </tr>\n",
       "    <tr>\n",
       "      <th>...</th>\n",
       "      <td>...</td>\n",
       "      <td>...</td>\n",
       "      <td>...</td>\n",
       "    </tr>\n",
       "    <tr>\n",
       "      <th>142459</th>\n",
       "      <td>piou boum badaboum crac re piou petit jeu bien...</td>\n",
       "      <td>[piou, boum, badaboum, crac, re, piou, petit, ...</td>\n",
       "      <td>piou boum badaboum crac re piou pet jeu bien f...</td>\n",
       "    </tr>\n",
       "    <tr>\n",
       "      <th>142460</th>\n",
       "      <td>star wars revisite jeu vaiseau spaciaux asez s...</td>\n",
       "      <td>[star, wars, revisite, jeu, vaisseau, spaciaux...</td>\n",
       "      <td>star war revisit jeu vaisseau spacial assez sy...</td>\n",
       "    </tr>\n",
       "    <tr>\n",
       "      <th>142461</th>\n",
       "      <td>piou piou mag blast jeu rapide drole sans pret...</td>\n",
       "      <td>[piou, piou, mag, blast, jeu, rapide, drole, s...</td>\n",
       "      <td>piou piou mag blast jeu rapid drol san pretent...</td>\n",
       "    </tr>\n",
       "    <tr>\n",
       "      <th>142462</th>\n",
       "      <td>pew pew mort pu jouer a  moyen a pu fouiler bi...</td>\n",
       "      <td>[peewww, peeeww, mort, pu, jouer, a, 2, moyen,...</td>\n",
       "      <td>peewww peeeww mort pu jou a 2 moyen a pu fouil...</td>\n",
       "    </tr>\n",
       "    <tr>\n",
       "      <th>142465</th>\n",
       "      <td>merde escadrons joue a deux joeurs revele etre...</td>\n",
       "      <td>[merde, escadrons, joue, a, deux, joeurs, reve...</td>\n",
       "      <td>merd escadron jou a deux joeur revel etre rela...</td>\n",
       "    </tr>\n",
       "  </tbody>\n",
       "</table>\n",
       "<p>96533 rows × 3 columns</p>\n",
       "</div>"
      ],
      "text/plain": [
       "                                                     Text  \\\n",
       "0       voyages ailes papilons lorsque jeu jeu bon ref...   \n",
       "1       festival michoacan coment continuer apres mega...   \n",
       "2       vivez migration monarques vin jeu mariposas el...   \n",
       "3       manque peu soufle mariposas plutot beau grand ...   \n",
       "4       beau doux rapide mariposas jeu tension va exac...   \n",
       "...                                                   ...   \n",
       "142459  piou boum badaboum crac re piou petit jeu bien...   \n",
       "142460  star wars revisite jeu vaiseau spaciaux asez s...   \n",
       "142461  piou piou mag blast jeu rapide drole sans pret...   \n",
       "142462  pew pew mort pu jouer a  moyen a pu fouiler bi...   \n",
       "142465  merde escadrons joue a deux joeurs revele etre...   \n",
       "\n",
       "                                                   Tokens  \\\n",
       "0       [voyages, ailes, papillons, lorsque, jeu, jeu,...   \n",
       "1       [festival, michoacan, comment, continuer, apre...   \n",
       "2       [vivez, migration, monarques, vin, jeu, maripo...   \n",
       "3       [manque, peu, souffle, mariposas, plutot, beau...   \n",
       "4       [beau, doux, rapide, mariposas, jeu, tension, ...   \n",
       "...                                                   ...   \n",
       "142459  [piou, boum, badaboum, crac, re, piou, petit, ...   \n",
       "142460  [star, wars, revisite, jeu, vaisseau, spaciaux...   \n",
       "142461  [piou, piou, mag, blast, jeu, rapide, drole, s...   \n",
       "142462  [peewww, peeeww, mort, pu, jouer, a, 2, moyen,...   \n",
       "142465  [merde, escadrons, joue, a, deux, joeurs, reve...   \n",
       "\n",
       "                                                  Stemmed  \n",
       "0       voyag ail papillon lorsqu jeu jeu bon reflex j...  \n",
       "1       festival michoacan comment continu apre meg hi...  \n",
       "2       viv migrat monarqu vin jeu maripos elizabeth h...  \n",
       "3       manqu peu souffl maripos plutot beau grand pla...  \n",
       "4       beau doux rapid maripos jeu tension va exacerb...  \n",
       "...                                                   ...  \n",
       "142459  piou boum badaboum crac re piou pet jeu bien f...  \n",
       "142460  star war revisit jeu vaisseau spacial assez sy...  \n",
       "142461  piou piou mag blast jeu rapid drol san pretent...  \n",
       "142462  peewww peeeww mort pu jou a 2 moyen a pu fouil...  \n",
       "142465  merd escadron jou a deux joeur revel etre rela...  \n",
       "\n",
       "[96533 rows x 3 columns]"
      ]
     },
     "execution_count": 269,
     "metadata": {},
     "output_type": "execute_result"
    }
   ],
   "source": [
    "stemmer = FrenchStemmer()\n",
    "def stem_tokens(tokens):\n",
    "    return [stemmer.stem(token) for token in tokens]\n",
    "\n",
    "# text[\"Stems\"] = words[\"Tokens\"].apply(stemmer.stem)\n",
    "# words = words[~words[\"Stems\"].isna()]\n",
    "# words\n",
    "text_df[\"Stemmed\"] = text_df[\"Tokens\"].map(lambda text : \" \".join(stem_tokens(text)))\n",
    "text_df"
   ]
  },
  {
   "cell_type": "code",
   "execution_count": 4,
   "metadata": {},
   "outputs": [],
   "source": [
    "comments_stemmed = pd.read_csv(\"generated_data/comments_stemmed.csv\", index_col=0)"
   ]
  },
  {
   "cell_type": "markdown",
   "metadata": {},
   "source": [
    "### Word frequences"
   ]
  },
  {
   "cell_type": "code",
   "execution_count": 25,
   "metadata": {},
   "outputs": [],
   "source": [
    "words = comments_stemmed[\"Comment stemmed\"].str.split().explode(\"Comment stemmed\").to_frame()"
   ]
  },
  {
   "cell_type": "code",
   "execution_count": null,
   "metadata": {},
   "outputs": [
    {
     "data": {
      "text/html": [
       "<div>\n",
       "<style scoped>\n",
       "    .dataframe tbody tr th:only-of-type {\n",
       "        vertical-align: middle;\n",
       "    }\n",
       "\n",
       "    .dataframe tbody tr th {\n",
       "        vertical-align: top;\n",
       "    }\n",
       "\n",
       "    .dataframe thead th {\n",
       "        text-align: right;\n",
       "    }\n",
       "</style>\n",
       "<table border=\"1\" class=\"dataframe\">\n",
       "  <thead>\n",
       "    <tr style=\"text-align: right;\">\n",
       "      <th></th>\n",
       "      <th>Comment stemmed</th>\n",
       "    </tr>\n",
       "  </thead>\n",
       "  <tbody>\n",
       "    <tr>\n",
       "      <th>0</th>\n",
       "      <td>voyag</td>\n",
       "    </tr>\n",
       "    <tr>\n",
       "      <th>1</th>\n",
       "      <td>ail</td>\n",
       "    </tr>\n",
       "    <tr>\n",
       "      <th>2</th>\n",
       "      <td>papilon</td>\n",
       "    </tr>\n",
       "    <tr>\n",
       "      <th>3</th>\n",
       "      <td>lorsqu</td>\n",
       "    </tr>\n",
       "    <tr>\n",
       "      <th>4</th>\n",
       "      <td>jeu</td>\n",
       "    </tr>\n",
       "    <tr>\n",
       "      <th>...</th>\n",
       "      <td>...</td>\n",
       "    </tr>\n",
       "    <tr>\n",
       "      <th>6249750</th>\n",
       "      <td>tre</td>\n",
       "    </tr>\n",
       "    <tr>\n",
       "      <th>6249751</th>\n",
       "      <td>atrai</td>\n",
       "    </tr>\n",
       "    <tr>\n",
       "      <th>6249752</th>\n",
       "      <td>voir</td>\n",
       "    </tr>\n",
       "    <tr>\n",
       "      <th>6249753</th>\n",
       "      <td>part</td>\n",
       "    </tr>\n",
       "    <tr>\n",
       "      <th>6249754</th>\n",
       "      <td>joueur</td>\n",
       "    </tr>\n",
       "  </tbody>\n",
       "</table>\n",
       "<p>6249755 rows × 1 columns</p>\n",
       "</div>"
      ],
      "text/plain": [
       "        Comment stemmed\n",
       "0                 voyag\n",
       "1                   ail\n",
       "2               papilon\n",
       "3                lorsqu\n",
       "4                   jeu\n",
       "...                 ...\n",
       "6249750             tre\n",
       "6249751           atrai\n",
       "6249752            voir\n",
       "6249753            part\n",
       "6249754          joueur\n",
       "\n",
       "[6249755 rows x 1 columns]"
      ]
     },
     "execution_count": 26,
     "metadata": {},
     "output_type": "execute_result"
    }
   ],
   "source": [
    "freq = words.value_counts().reset_index()"
   ]
  },
  {
   "cell_type": "code",
   "execution_count": null,
   "metadata": {},
   "outputs": [],
   "source": [
    "vect = TfidfVectorizer()\n",
    "tfidf_matrix = vect.fit_transform(comments_stemmed[\"Comment stemmed\"])"
   ]
  },
  {
   "cell_type": "code",
   "execution_count": 6,
   "metadata": {},
   "outputs": [
    {
     "data": {
      "text/plain": [
       "array(['ab', 'abacus', 'abacuspiel', ..., 'zyou', 'zyv', 'zyxzw'],\n",
       "      dtype=object)"
      ]
     },
     "execution_count": 6,
     "metadata": {},
     "output_type": "execute_result"
    }
   ],
   "source": [
    "vect.get_feature_names_out()"
   ]
  },
  {
   "cell_type": "code",
   "execution_count": 7,
   "metadata": {},
   "outputs": [],
   "source": [
    "tokens_idf = pd.DataFrame.from_dict(data=dict(zip(vect.get_feature_names_out(), vect.idf_)), orient=\"index\").reset_index().rename(columns={\"index\" : \"word\", 0 : \"IDF\"})"
   ]
  },
  {
   "cell_type": "code",
   "execution_count": 16,
   "metadata": {},
   "outputs": [
    {
     "data": {
      "text/plain": [
       "Text(0.5, 1.0, 'Stemmed words IDF distribution')"
      ]
     },
     "execution_count": 16,
     "metadata": {},
     "output_type": "execute_result"
    },
    {
     "data": {
      "image/png": "[encoded data removed]",
      "text/plain": [
       "<Figure size 640x480 with 1 Axes>"
      ]
     },
     "metadata": {},
     "output_type": "display_data"
    }
   ],
   "source": [
    "sns.set_theme()\n",
    "ax = sns.histplot(tokens_idf)\n",
    "ax.set_xlabel(\"IDF\")\n",
    "ax.set_ylabel(\"Number of words\")\n",
    "ax.set_title(\"Stemmed words IDF distribution\")"
   ]
  },
  {
   "cell_type": "code",
   "execution_count": 15,
   "metadata": {},
   "outputs": [
    {
     "data": {
      "text/plain": [
       "<Axes: ylabel='Count'>"
      ]
     },
     "execution_count": 15,
     "metadata": {},
     "output_type": "execute_result"
    },
    {
     "data": {
      "image/png": "[encoded data removed]",
      "text/plain": [
       "<Figure size 640x480 with 1 Axes>"
      ]
     },
     "metadata": {},
     "output_type": "display_data"
    }
   ],
   "source": [
    "sns.histplot(tokens_idf[tokens_idf[\"IDF\"] < 10])"
   ]
  },
  {
   "cell_type": "code",
   "execution_count": 17,
   "metadata": {},
   "outputs": [
    {
     "data": {
      "text/plain": [
       "<Axes: ylabel='Count'>"
      ]
     },
     "execution_count": 17,
     "metadata": {},
     "output_type": "execute_result"
    },
    {
     "data": {
      "image/png": "[encoded data removed]",
      "text/plain": [
       "<Figure size 640x480 with 1 Axes>"
      ]
     },
     "metadata": {},
     "output_type": "display_data"
    }
   ],
   "source": [
    "sns.histplot(tokens_idf[tokens_idf[\"IDF\"] > 10])"
   ]
  },
  {
   "cell_type": "code",
   "execution_count": 18,
   "metadata": {},
   "outputs": [],
   "source": [
    "count_lst = tfidf_matrix.sum(axis=0)\n"
   ]
  },
  {
   "cell_type": "code",
   "execution_count": 21,
   "metadata": {},
   "outputs": [
    {
     "data": {
      "text/plain": [
       "matrix([[4.20155197, 2.29862726, 0.88455603, ..., 0.1763484 , 0.17136421,\n",
       "         0.32997071]])"
      ]
     },
     "execution_count": 21,
     "metadata": {},
     "output_type": "execute_result"
    }
   ],
   "source": [
    "count_lst"
   ]
  },
  {
   "cell_type": "code",
   "execution_count": null,
   "metadata": {},
   "outputs": [],
   "source": []
  }
 ],
 "metadata": {
  "kernelspec": {
   "display_name": "venv",
   "language": "python",
   "name": "python3"
  },
  "language_info": {
   "codemirror_mode": {
    "name": "ipython",
    "version": 3
   },
   "file_extension": ".py",
   "mimetype": "text/x-python",
   "name": "python",
   "nbconvert_exporter": "python",
   "pygments_lexer": "ipython3",
   "version": "3.11.4"
  }
 },
 "nbformat": 4,
 "nbformat_minor": 2
}

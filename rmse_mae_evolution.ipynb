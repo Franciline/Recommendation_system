{
 "cells": [
  {
   "cell_type": "markdown",
   "metadata": {},
   "source": [
    "# RMSE Evolution"
   ]
  },
  {
   "cell_type": "code",
   "execution_count": 1,
   "metadata": {},
   "outputs": [],
   "source": [
    "import numpy as np\n",
    "import pandas as pd\n",
    "import seaborn as sns\n",
    "from reco_systems.filter import filter_df\n",
    "from reco_systems.CF_knn import calc_similarity_matrix, get_KNN\n",
    "from reco_systems.user_game_matrix import get_matrix_user_game\n",
    "from reco_systems.evaluation import *"
   ]
  },
  {
   "cell_type": "code",
   "execution_count": 2,
   "metadata": {},
   "outputs": [],
   "source": [
    "folder = \"database_cleaned\"\n",
    "avis_clean  = pd.read_csv(f\"{folder}/avis_clean.csv\", index_col=0)\n",
    "jeux_clean  = pd.read_csv(f\"{folder}/jeux_clean.csv\", index_col=0)\n",
    "users       = pd.read_csv(f\"{folder}/users.csv\", names=[\"Username\", \"User id\"])"
   ]
  },
  {
   "cell_type": "code",
   "execution_count": 3,
   "metadata": {},
   "outputs": [
    {
     "name": "stdout",
     "output_type": "stream",
     "text": [
      "11201 10549\n",
      "2086 2464\n",
      "1800 2399\n",
      "1792 2397\n",
      "1791 2396\n"
     ]
    }
   ],
   "source": [
    "# Filter for min_reviews for users & games\n",
    "min_reviews = 10\n",
    "rev_filter = filter_df(avis_clean, min_reviews)"
   ]
  },
  {
   "cell_type": "code",
   "execution_count": 4,
   "metadata": {},
   "outputs": [],
   "source": [
    "# generate user-game matrix\n",
    "matrix_ratings, mask_ratings, users_table, games_table = get_matrix_user_game(rev_filter)"
   ]
  },
  {
   "cell_type": "code",
   "execution_count": 5,
   "metadata": {},
   "outputs": [
    {
     "data": {
      "text/plain": [
       "array([[0.        , 0.92389562, 0.83575481, ..., 0.9283455 , 0.95303296,\n",
       "        1.        ],\n",
       "       [0.92389562, 0.        , 0.71397509, ..., 1.        , 0.98901438,\n",
       "        0.99191515],\n",
       "       [0.83575481, 0.71397509, 0.        , ..., 0.98078965, 0.91075622,\n",
       "        1.        ],\n",
       "       ...,\n",
       "       [0.9283455 , 1.        , 0.98078965, ..., 0.        , 1.        ,\n",
       "        1.        ],\n",
       "       [0.95303296, 0.98901438, 0.91075622, ..., 1.        , 0.        ,\n",
       "        1.        ],\n",
       "       [1.        , 0.99191515, 1.        , ..., 1.        , 1.        ,\n",
       "        0.        ]], shape=(1791, 1791))"
      ]
     },
     "execution_count": 5,
     "metadata": {},
     "output_type": "execute_result"
    }
   ],
   "source": [
    "# cosine similarity matrix, set k = sqrt(nb users)\n",
    "cos_sim_matrix = calc_similarity_matrix(matrix_ratings, mask_ratings, \"cos\")\n",
    "k = int(np.sqrt(cos_sim_matrix.shape[0]))\n",
    "cos_sim_matrix"
   ]
  },
  {
   "cell_type": "code",
   "execution_count": 6,
   "metadata": {},
   "outputs": [
    {
     "data": {
      "text/html": [
       "<div>\n",
       "<style scoped>\n",
       "    .dataframe tbody tr th:only-of-type {\n",
       "        vertical-align: middle;\n",
       "    }\n",
       "\n",
       "    .dataframe tbody tr th {\n",
       "        vertical-align: top;\n",
       "    }\n",
       "\n",
       "    .dataframe thead th {\n",
       "        text-align: right;\n",
       "    }\n",
       "</style>\n",
       "<table border=\"1\" class=\"dataframe\">\n",
       "  <thead>\n",
       "    <tr style=\"text-align: right;\">\n",
       "      <th></th>\n",
       "      <th>User index</th>\n",
       "      <th>User id</th>\n",
       "      <th>Count reviews</th>\n",
       "    </tr>\n",
       "  </thead>\n",
       "  <tbody>\n",
       "    <tr>\n",
       "      <th>0</th>\n",
       "      <td>0</td>\n",
       "      <td>0</td>\n",
       "      <td>38</td>\n",
       "    </tr>\n",
       "    <tr>\n",
       "      <th>1</th>\n",
       "      <td>1</td>\n",
       "      <td>1</td>\n",
       "      <td>724</td>\n",
       "    </tr>\n",
       "    <tr>\n",
       "      <th>2</th>\n",
       "      <td>2</td>\n",
       "      <td>2</td>\n",
       "      <td>330</td>\n",
       "    </tr>\n",
       "    <tr>\n",
       "      <th>3</th>\n",
       "      <td>3</td>\n",
       "      <td>3</td>\n",
       "      <td>255</td>\n",
       "    </tr>\n",
       "    <tr>\n",
       "      <th>4</th>\n",
       "      <td>4</td>\n",
       "      <td>4</td>\n",
       "      <td>12</td>\n",
       "    </tr>\n",
       "    <tr>\n",
       "      <th>...</th>\n",
       "      <td>...</td>\n",
       "      <td>...</td>\n",
       "      <td>...</td>\n",
       "    </tr>\n",
       "    <tr>\n",
       "      <th>1786</th>\n",
       "      <td>1786</td>\n",
       "      <td>9066</td>\n",
       "      <td>16</td>\n",
       "    </tr>\n",
       "    <tr>\n",
       "      <th>1787</th>\n",
       "      <td>1787</td>\n",
       "      <td>9433</td>\n",
       "      <td>20</td>\n",
       "    </tr>\n",
       "    <tr>\n",
       "      <th>1788</th>\n",
       "      <td>1788</td>\n",
       "      <td>9583</td>\n",
       "      <td>13</td>\n",
       "    </tr>\n",
       "    <tr>\n",
       "      <th>1789</th>\n",
       "      <td>1789</td>\n",
       "      <td>9596</td>\n",
       "      <td>15</td>\n",
       "    </tr>\n",
       "    <tr>\n",
       "      <th>1790</th>\n",
       "      <td>1790</td>\n",
       "      <td>9965</td>\n",
       "      <td>14</td>\n",
       "    </tr>\n",
       "  </tbody>\n",
       "</table>\n",
       "<p>1791 rows × 3 columns</p>\n",
       "</div>"
      ],
      "text/plain": [
       "      User index  User id  Count reviews\n",
       "0              0        0             38\n",
       "1              1        1            724\n",
       "2              2        2            330\n",
       "3              3        3            255\n",
       "4              4        4             12\n",
       "...          ...      ...            ...\n",
       "1786        1786     9066             16\n",
       "1787        1787     9433             20\n",
       "1788        1788     9583             13\n",
       "1789        1789     9596             15\n",
       "1790        1790     9965             14\n",
       "\n",
       "[1791 rows x 3 columns]"
      ]
     },
     "execution_count": 6,
     "metadata": {},
     "output_type": "execute_result"
    }
   ],
   "source": [
    " # Create association - User matrix index - User real id - Count reviews\n",
    "\n",
    "users_ids =  rev_filter[[\"User id\", \"Game id\"]].groupby(\"User id\", as_index=True).count()\n",
    "assoc = users_table.to_frame().merge(users_ids, left_on=\"User id\", right_index=True).reset_index()\n",
    "assoc.columns = [\"User index\", \"User id\", \"Count reviews\"]\n",
    "assoc "
   ]
  },
  {
   "cell_type": "code",
   "execution_count": null,
   "metadata": {},
   "outputs": [
    {
     "name": "stdout",
     "output_type": "stream",
     "text": [
      "8\n",
      "9\n",
      "10\n",
      "11\n",
      "12\n",
      "13\n",
      "14\n",
      "15\n"
     ]
    }
   ],
   "source": [
    "np.random.seed(2)\n",
    "\n",
    "df = calc_RMSE_MAE_mean(np.array([8,9,10,11,12,13,14,15]),assoc,200,1000,matrix_ratings,mask_ratings,cos_sim_matrix,dist_type=\"cos\")\n",
    "df"
   ]
  },
  {
   "cell_type": "code",
   "execution_count": null,
   "metadata": {},
   "outputs": [
    {
     "data": {
      "text/plain": [
       "[Text(0, 0, ''),\n",
       " Text(0, 1, ''),\n",
       " Text(0, 2, ''),\n",
       " Text(0, 3, ''),\n",
       " Text(0, 4, ''),\n",
       " Text(0, 5, ''),\n",
       " Text(0, 6, ''),\n",
       " Text(0, 7, ''),\n",
       " Text(0, 8, ''),\n",
       " Text(0, 9, ''),\n",
       " Text(0, 10, ''),\n",
       " Text(0, 11, ''),\n",
       " Text(0, 12, ''),\n",
       " Text(0, 13, ''),\n",
       " Text(0, 14, ''),\n",
       " Text(0, 15, ''),\n",
       " Text(0, 16, ''),\n",
       " Text(0, 17, ''),\n",
       " Text(0, 18, ''),\n",
       " Text(0, 19, ''),\n",
       " Text(0, 20, ''),\n",
       " Text(0, 21, ''),\n",
       " Text(0, 22, ''),\n",
       " Text(0, 23, ''),\n",
       " Text(0, 24, ''),\n",
       " Text(0, 25, ''),\n",
       " Text(0, 26, ''),\n",
       " Text(0, 27, ''),\n",
       " Text(0, 28, ''),\n",
       " Text(0, 29, ''),\n",
       " Text(0, 30, ''),\n",
       " Text(0, 31, ''),\n",
       " Text(0, 32, ''),\n",
       " Text(0, 33, ''),\n",
       " Text(0, 34, ''),\n",
       " Text(0, 35, ''),\n",
       " Text(0, 36, ''),\n",
       " Text(0, 37, ''),\n",
       " Text(0, 38, ''),\n",
       " Text(0, 39, ''),\n",
       " Text(0, 40, ''),\n",
       " Text(0, 41, ''),\n",
       " Text(0, 42, ''),\n",
       " Text(0, 43, ''),\n",
       " Text(0, 44, ''),\n",
       " Text(0, 45, ''),\n",
       " Text(0, 46, ''),\n",
       " Text(0, 47, ''),\n",
       " Text(0, 48, ''),\n",
       " Text(0, 49, ''),\n",
       " Text(0, 50, ''),\n",
       " Text(0, 51, ''),\n",
       " Text(0, 52, ''),\n",
       " Text(0, 53, ''),\n",
       " Text(0, 54, ''),\n",
       " Text(0, 55, ''),\n",
       " Text(0, 56, ''),\n",
       " Text(0, 57, ''),\n",
       " Text(0, 58, ''),\n",
       " Text(0, 59, ''),\n",
       " Text(0, 60, ''),\n",
       " Text(0, 61, ''),\n",
       " Text(0, 62, ''),\n",
       " Text(0, 63, ''),\n",
       " Text(0, 64, ''),\n",
       " Text(0, 65, ''),\n",
       " Text(0, 66, ''),\n",
       " Text(0, 67, ''),\n",
       " Text(0, 68, ''),\n",
       " Text(0, 69, ''),\n",
       " Text(0, 70, ''),\n",
       " Text(0, 71, ''),\n",
       " Text(0, 72, ''),\n",
       " Text(0, 73, ''),\n",
       " Text(0, 74, ''),\n",
       " Text(0, 75, ''),\n",
       " Text(0, 76, ''),\n",
       " Text(0, 77, ''),\n",
       " Text(0, 78, ''),\n",
       " Text(0, 79, ''),\n",
       " Text(0, 80, ''),\n",
       " Text(0, 81, ''),\n",
       " Text(0, 82, ''),\n",
       " Text(0, 83, ''),\n",
       " Text(0, 84, ''),\n",
       " Text(0, 85, ''),\n",
       " Text(0, 86, ''),\n",
       " Text(0, 87, ''),\n",
       " Text(0, 88, ''),\n",
       " Text(0, 89, ''),\n",
       " Text(0, 90, ''),\n",
       " Text(0, 91, ''),\n",
       " Text(0, 92, ''),\n",
       " Text(0, 93, ''),\n",
       " Text(0, 94, ''),\n",
       " Text(0, 95, ''),\n",
       " Text(0, 96, ''),\n",
       " Text(0, 97, ''),\n",
       " Text(0, 98, ''),\n",
       " Text(0, 99, ''),\n",
       " Text(0, 100, ''),\n",
       " Text(0, 101, ''),\n",
       " Text(0, 102, ''),\n",
       " Text(0, 103, ''),\n",
       " Text(0, 104, ''),\n",
       " Text(0, 105, ''),\n",
       " Text(0, 106, ''),\n",
       " Text(0, 107, ''),\n",
       " Text(0, 108, ''),\n",
       " Text(0, 109, ''),\n",
       " Text(0, 110, ''),\n",
       " Text(0, 111, ''),\n",
       " Text(0, 112, ''),\n",
       " Text(0, 113, ''),\n",
       " Text(0, 114, ''),\n",
       " Text(0, 115, ''),\n",
       " Text(0, 116, ''),\n",
       " Text(0, 117, ''),\n",
       " Text(0, 118, ''),\n",
       " Text(0, 119, ''),\n",
       " Text(0, 120, ''),\n",
       " Text(0, 121, ''),\n",
       " Text(0, 122, ''),\n",
       " Text(0, 123, ''),\n",
       " Text(0, 124, ''),\n",
       " Text(0, 125, ''),\n",
       " Text(0, 126, ''),\n",
       " Text(0, 127, ''),\n",
       " Text(0, 128, ''),\n",
       " Text(0, 129, ''),\n",
       " Text(0, 130, ''),\n",
       " Text(0, 131, ''),\n",
       " Text(0, 132, ''),\n",
       " Text(0, 133, ''),\n",
       " Text(0, 134, ''),\n",
       " Text(0, 135, ''),\n",
       " Text(0, 136, '')]"
      ]
     },
     "execution_count": 17,
     "metadata": {},
     "output_type": "execute_result"
    },
    {
     "data": {
      "image/png": "[encoded data removed]",
      "text/plain": [
       "<Figure size 640x480 with 1 Axes>"
      ]
     },
     "metadata": {},
     "output_type": "display_data"
    }
   ],
   "source": [
    "gfg = sns.boxplot(df.dropna(),x=\"K\",y=\"Value\")\n",
    "gfg.set_yticklabels([])\n"
   ]
  }
 ],
 "metadata": {
  "kernelspec": {
   "display_name": "Python 3",
   "language": "python",
   "name": "python3"
  },
  "language_info": {
   "codemirror_mode": {
    "name": "ipython",
    "version": 3
   },
   "file_extension": ".py",
   "mimetype": "text/x-python",
   "name": "python",
   "nbconvert_exporter": "python",
   "pygments_lexer": "ipython3",
   "version": "3.12.2"
  }
 },
 "nbformat": 4,
 "nbformat_minor": 2
}

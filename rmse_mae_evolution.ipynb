{
 "cells": [
  {
   "cell_type": "markdown",
   "metadata": {},
   "source": [
    "# RMSE Evolution"
   ]
  },
  {
   "cell_type": "code",
   "execution_count": 2,
   "metadata": {},
   "outputs": [],
   "source": [
    "import numpy as np\n",
    "import pandas as pd\n",
    "import seaborn as sns\n",
    "from reco_systems.filter import filter_df\n",
    "from reco_systems.CF_knn import calc_similarity_matrix, get_KNN\n",
    "from reco_systems.user_game_matrix import get_matrix_user_game\n",
    "from reco_systems.evaluation import *"
   ]
  },
  {
   "cell_type": "code",
   "execution_count": 3,
   "metadata": {},
   "outputs": [],
   "source": [
    "folder = \"database_cleaned\"\n",
    "avis_clean  = pd.read_csv(f\"{folder}/avis_clean.csv\", index_col=0)\n",
    "jeux_clean  = pd.read_csv(f\"{folder}/jeux_clean.csv\", index_col=0)\n",
    "users       = pd.read_csv(f\"{folder}/users.csv\", names=[\"Username\", \"User id\"])"
   ]
  },
  {
   "cell_type": "code",
   "execution_count": 4,
   "metadata": {},
   "outputs": [
    {
     "name": "stdout",
     "output_type": "stream",
     "text": [
      "11201 10549\n",
      "2086 2464\n",
      "1800 2399\n",
      "1792 2397\n",
      "1791 2396\n"
     ]
    }
   ],
   "source": [
    "# Filter for min_reviews for users & games\n",
    "min_reviews = 10\n",
    "rev_filter = filter_df(avis_clean, min_reviews)"
   ]
  },
  {
   "cell_type": "code",
   "execution_count": 5,
   "metadata": {},
   "outputs": [],
   "source": [
    "# generate user-game matrix\n",
    "matrix_ratings, mask_ratings, users_table, games_table = get_matrix_user_game(rev_filter)"
   ]
  },
  {
   "cell_type": "code",
   "execution_count": 6,
   "metadata": {},
   "outputs": [
    {
     "data": {
      "text/plain": [
       "array([[0.        , 0.92389562, 0.83575481, ..., 0.9283455 , 0.95303296,\n",
       "        1.        ],\n",
       "       [0.92389562, 0.        , 0.71397509, ..., 1.        , 0.98901438,\n",
       "        0.99191515],\n",
       "       [0.83575481, 0.71397509, 0.        , ..., 0.98078965, 0.91075622,\n",
       "        1.        ],\n",
       "       ...,\n",
       "       [0.9283455 , 1.        , 0.98078965, ..., 0.        , 1.        ,\n",
       "        1.        ],\n",
       "       [0.95303296, 0.98901438, 0.91075622, ..., 1.        , 0.        ,\n",
       "        1.        ],\n",
       "       [1.        , 0.99191515, 1.        , ..., 1.        , 1.        ,\n",
       "        0.        ]], shape=(1791, 1791))"
      ]
     },
     "execution_count": 6,
     "metadata": {},
     "output_type": "execute_result"
    }
   ],
   "source": [
    "# cosine similarity matrix, set k = sqrt(nb users)\n",
    "cos_sim_matrix = calc_similarity_matrix(matrix_ratings, mask_ratings, \"cos\")\n",
    "k = int(np.sqrt(cos_sim_matrix.shape[0]))\n",
    "cos_sim_matrix"
   ]
  },
  {
   "cell_type": "code",
   "execution_count": 7,
   "metadata": {},
   "outputs": [
    {
     "data": {
      "text/html": [
       "<div>\n",
       "<style scoped>\n",
       "    .dataframe tbody tr th:only-of-type {\n",
       "        vertical-align: middle;\n",
       "    }\n",
       "\n",
       "    .dataframe tbody tr th {\n",
       "        vertical-align: top;\n",
       "    }\n",
       "\n",
       "    .dataframe thead th {\n",
       "        text-align: right;\n",
       "    }\n",
       "</style>\n",
       "<table border=\"1\" class=\"dataframe\">\n",
       "  <thead>\n",
       "    <tr style=\"text-align: right;\">\n",
       "      <th></th>\n",
       "      <th>User index</th>\n",
       "      <th>User id</th>\n",
       "      <th>Count reviews</th>\n",
       "    </tr>\n",
       "  </thead>\n",
       "  <tbody>\n",
       "    <tr>\n",
       "      <th>0</th>\n",
       "      <td>0</td>\n",
       "      <td>0</td>\n",
       "      <td>38</td>\n",
       "    </tr>\n",
       "    <tr>\n",
       "      <th>1</th>\n",
       "      <td>1</td>\n",
       "      <td>1</td>\n",
       "      <td>724</td>\n",
       "    </tr>\n",
       "    <tr>\n",
       "      <th>2</th>\n",
       "      <td>2</td>\n",
       "      <td>2</td>\n",
       "      <td>330</td>\n",
       "    </tr>\n",
       "    <tr>\n",
       "      <th>3</th>\n",
       "      <td>3</td>\n",
       "      <td>3</td>\n",
       "      <td>255</td>\n",
       "    </tr>\n",
       "    <tr>\n",
       "      <th>4</th>\n",
       "      <td>4</td>\n",
       "      <td>4</td>\n",
       "      <td>12</td>\n",
       "    </tr>\n",
       "    <tr>\n",
       "      <th>...</th>\n",
       "      <td>...</td>\n",
       "      <td>...</td>\n",
       "      <td>...</td>\n",
       "    </tr>\n",
       "    <tr>\n",
       "      <th>1786</th>\n",
       "      <td>1786</td>\n",
       "      <td>9066</td>\n",
       "      <td>16</td>\n",
       "    </tr>\n",
       "    <tr>\n",
       "      <th>1787</th>\n",
       "      <td>1787</td>\n",
       "      <td>9433</td>\n",
       "      <td>20</td>\n",
       "    </tr>\n",
       "    <tr>\n",
       "      <th>1788</th>\n",
       "      <td>1788</td>\n",
       "      <td>9583</td>\n",
       "      <td>13</td>\n",
       "    </tr>\n",
       "    <tr>\n",
       "      <th>1789</th>\n",
       "      <td>1789</td>\n",
       "      <td>9596</td>\n",
       "      <td>15</td>\n",
       "    </tr>\n",
       "    <tr>\n",
       "      <th>1790</th>\n",
       "      <td>1790</td>\n",
       "      <td>9965</td>\n",
       "      <td>14</td>\n",
       "    </tr>\n",
       "  </tbody>\n",
       "</table>\n",
       "<p>1791 rows × 3 columns</p>\n",
       "</div>"
      ],
      "text/plain": [
       "      User index  User id  Count reviews\n",
       "0              0        0             38\n",
       "1              1        1            724\n",
       "2              2        2            330\n",
       "3              3        3            255\n",
       "4              4        4             12\n",
       "...          ...      ...            ...\n",
       "1786        1786     9066             16\n",
       "1787        1787     9433             20\n",
       "1788        1788     9583             13\n",
       "1789        1789     9596             15\n",
       "1790        1790     9965             14\n",
       "\n",
       "[1791 rows x 3 columns]"
      ]
     },
     "execution_count": 7,
     "metadata": {},
     "output_type": "execute_result"
    }
   ],
   "source": [
    " # Create association - User matrix index - User real id - Count reviews\n",
    "\n",
    "users_ids =  rev_filter[[\"User id\", \"Game id\"]].groupby(\"User id\", as_index=True).count()\n",
    "assoc = users_table.to_frame().merge(users_ids, left_on=\"User id\", right_index=True).reset_index()\n",
    "assoc.columns = [\"User index\", \"User id\", \"Count reviews\"]\n",
    "assoc "
   ]
  },
  {
   "cell_type": "code",
   "execution_count": 9,
   "metadata": {},
   "outputs": [
    {
     "ename": "ValueError",
     "evalue": "The truth value of a Series is ambiguous. Use a.empty, a.bool(), a.item(), a.any() or a.all().",
     "output_type": "error",
     "traceback": [
      "\u001b[1;31m---------------------------------------------------------------------------\u001b[0m",
      "\u001b[1;31mValueError\u001b[0m                                Traceback (most recent call last)",
      "\u001b[1;32m~\\AppData\\Local\\Temp\\ipykernel_17572\\3797336371.py\u001b[0m in \u001b[0;36m?\u001b[1;34m()\u001b[0m\n\u001b[1;32m----> 1\u001b[1;33m \u001b[0mdf\u001b[0m \u001b[1;33m=\u001b[0m \u001b[0mcalc_RMSE_mean_cos\u001b[0m\u001b[1;33m(\u001b[0m\u001b[0mnp\u001b[0m\u001b[1;33m.\u001b[0m\u001b[0marray\u001b[0m\u001b[1;33m(\u001b[0m\u001b[1;33m[\u001b[0m\u001b[1;36m8\u001b[0m\u001b[1;33m,\u001b[0m\u001b[1;36m9\u001b[0m\u001b[1;33m,\u001b[0m\u001b[1;36m10\u001b[0m\u001b[1;33m,\u001b[0m\u001b[1;36m11\u001b[0m\u001b[1;33m]\u001b[0m\u001b[1;33m)\u001b[0m\u001b[1;33m,\u001b[0m\u001b[0massoc\u001b[0m\u001b[1;33m,\u001b[0m\u001b[1;36m200\u001b[0m\u001b[1;33m,\u001b[0m\u001b[1;36m300\u001b[0m\u001b[1;33m,\u001b[0m\u001b[0mmatrix_ratings\u001b[0m\u001b[1;33m,\u001b[0m\u001b[0mmask_ratings\u001b[0m\u001b[1;33m,\u001b[0m\u001b[0mcos_sim_matrix\u001b[0m\u001b[1;33m,\u001b[0m\u001b[0mcalc_RMSE_cos\u001b[0m\u001b[1;33m,\u001b[0m\u001b[0mcalc_MAE_cos\u001b[0m\u001b[1;33m)\u001b[0m\u001b[1;33m\u001b[0m\u001b[1;33m\u001b[0m\u001b[0m\n\u001b[0m",
      "\u001b[1;32mc:\\Users\\arlyc\\Desktop\\L3 - Info Intesive\\LU3IN400 - Projet\\Recommendation_system\\reco_systems\\evaluation.py\u001b[0m in \u001b[0;36m?\u001b[1;34m(k, user_count, min_reviews, max_reviews, matrix_ratings, mask_ratings, similarity_matrix, rmse_ft, mae_ft)\u001b[0m\n\u001b[0;32m    299\u001b[0m         \u001b[0mnb_users\u001b[0m \u001b[1;33m:\u001b[0m \u001b[0mprendre\u001b[0m \u001b[0men\u001b[0m \u001b[0mcompte\u001b[0m \u001b[0mdans\u001b[0m \u001b[0mla\u001b[0m \u001b[0mmoyenne\u001b[0m\u001b[1;33m\u001b[0m\u001b[1;33m\u001b[0m\u001b[0m\n\u001b[0;32m    300\u001b[0m     \"\"\" # Note : ptet option nb_users + select type (random, most active)\n\u001b[0;32m    301\u001b[0m \u001b[1;33m\u001b[0m\u001b[0m\n\u001b[0;32m    302\u001b[0m     \u001b[1;31m# Récupération des users dans la tranche\u001b[0m\u001b[1;33m\u001b[0m\u001b[1;33m\u001b[0m\u001b[0m\n\u001b[1;32m--> 303\u001b[1;33m     \u001b[0musers\u001b[0m \u001b[1;33m=\u001b[0m \u001b[0muser_count\u001b[0m\u001b[1;33m.\u001b[0m\u001b[0mloc\u001b[0m\u001b[1;33m(\u001b[0m\u001b[1;33m[\u001b[0m\u001b[0muser_count\u001b[0m\u001b[1;33m[\u001b[0m\u001b[1;34m\"Count reviews\"\u001b[0m\u001b[1;33m]\u001b[0m \u001b[1;33m>=\u001b[0m \u001b[0mmin_reviews\u001b[0m \u001b[1;32mand\u001b[0m \u001b[0muser_count\u001b[0m\u001b[1;33m[\u001b[0m\u001b[1;34m\"Count reviews\"\u001b[0m\u001b[1;33m]\u001b[0m \u001b[1;33m<=\u001b[0m \u001b[0mmax_reviews\u001b[0m\u001b[1;33m]\u001b[0m\u001b[1;33m,\u001b[0m\u001b[1;33m[\u001b[0m\u001b[1;34m\"User index\"\u001b[0m\u001b[1;33m]\u001b[0m\u001b[1;33m)\u001b[0m\u001b[1;33m\u001b[0m\u001b[1;33m\u001b[0m\u001b[0m\n\u001b[0m\u001b[0;32m    304\u001b[0m \u001b[1;33m\u001b[0m\u001b[0m\n\u001b[0;32m    305\u001b[0m     \u001b[0marr\u001b[0m \u001b[1;33m=\u001b[0m \u001b[0mnp\u001b[0m\u001b[1;33m.\u001b[0m\u001b[0mempty\u001b[0m\u001b[1;33m(\u001b[0m\u001b[1;33m)\u001b[0m\u001b[1;33m\u001b[0m\u001b[1;33m\u001b[0m\u001b[0m\n\u001b[0;32m    306\u001b[0m     \u001b[1;32mfor\u001b[0m \u001b[0mtmp_k\u001b[0m \u001b[1;32min\u001b[0m \u001b[0mk\u001b[0m \u001b[1;33m:\u001b[0m\u001b[1;33m\u001b[0m\u001b[1;33m\u001b[0m\u001b[0m\n",
      "\u001b[1;32mc:\\Python312\\Lib\\site-packages\\pandas\\core\\generic.py\u001b[0m in \u001b[0;36m?\u001b[1;34m(self)\u001b[0m\n\u001b[0;32m   1575\u001b[0m     \u001b[1;33m@\u001b[0m\u001b[0mfinal\u001b[0m\u001b[1;33m\u001b[0m\u001b[1;33m\u001b[0m\u001b[0m\n\u001b[0;32m   1576\u001b[0m     \u001b[1;32mdef\u001b[0m \u001b[0m__nonzero__\u001b[0m\u001b[1;33m(\u001b[0m\u001b[0mself\u001b[0m\u001b[1;33m)\u001b[0m \u001b[1;33m->\u001b[0m \u001b[0mNoReturn\u001b[0m\u001b[1;33m:\u001b[0m\u001b[1;33m\u001b[0m\u001b[1;33m\u001b[0m\u001b[0m\n\u001b[1;32m-> 1577\u001b[1;33m         raise ValueError(\n\u001b[0m\u001b[0;32m   1578\u001b[0m             \u001b[1;33mf\"\u001b[0m\u001b[1;33mThe truth value of a \u001b[0m\u001b[1;33m{\u001b[0m\u001b[0mtype\u001b[0m\u001b[1;33m(\u001b[0m\u001b[0mself\u001b[0m\u001b[1;33m)\u001b[0m\u001b[1;33m.\u001b[0m\u001b[0m__name__\u001b[0m\u001b[1;33m}\u001b[0m\u001b[1;33m is ambiguous. \u001b[0m\u001b[1;33m\"\u001b[0m\u001b[1;33m\u001b[0m\u001b[1;33m\u001b[0m\u001b[0m\n\u001b[0;32m   1579\u001b[0m             \u001b[1;34m\"Use a.empty, a.bool(), a.item(), a.any() or a.all().\"\u001b[0m\u001b[1;33m\u001b[0m\u001b[1;33m\u001b[0m\u001b[0m\n\u001b[0;32m   1580\u001b[0m         \u001b[1;33m)\u001b[0m\u001b[1;33m\u001b[0m\u001b[1;33m\u001b[0m\u001b[0m\n",
      "\u001b[1;31mValueError\u001b[0m: The truth value of a Series is ambiguous. Use a.empty, a.bool(), a.item(), a.any() or a.all()."
     ]
    }
   ],
   "source": [
    "df = calc_RMSE_mean_cos(np.array([8,9,10,11]),assoc,200,300,matrix_ratings,mask_ratings,cos_sim_matrix,calc_RMSE_cos,calc_MAE_cos)"
   ]
  }
 ],
 "metadata": {
  "kernelspec": {
   "display_name": "Python 3",
   "language": "python",
   "name": "python3"
  },
  "language_info": {
   "codemirror_mode": {
    "name": "ipython",
    "version": 3
   },
   "file_extension": ".py",
   "mimetype": "text/x-python",
   "name": "python",
   "nbconvert_exporter": "python",
   "pygments_lexer": "ipython3",
   "version": "3.12.2"
  }
 },
 "nbformat": 4,
 "nbformat_minor": 2
}

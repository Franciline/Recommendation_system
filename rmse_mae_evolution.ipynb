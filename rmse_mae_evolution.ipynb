{
 "cells": [
  {
   "cell_type": "markdown",
   "metadata": {},
   "source": [
    "# RMSE Evolution"
   ]
  },
  {
   "cell_type": "code",
   "execution_count": 1,
   "metadata": {},
   "outputs": [],
   "source": [
    "import numpy as np\n",
    "import pandas as pd\n",
    "import seaborn as sns\n",
    "from reco_systems.filter import filter_df\n",
    "from reco_systems.CF_knn import calc_similarity_matrix, get_KNN\n",
    "from reco_systems.user_game_matrix import get_matrix_user_game\n",
    "from reco_systems.evaluation import *"
   ]
  },
  {
   "cell_type": "code",
   "execution_count": 2,
   "metadata": {},
   "outputs": [],
   "source": [
    "folder = \"database_cleaned\"\n",
    "avis_clean  = pd.read_csv(f\"{folder}/avis_clean.csv\", index_col=0)\n",
    "jeux_clean  = pd.read_csv(f\"{folder}/jeux_clean.csv\", index_col=0)\n",
    "users       = pd.read_csv(f\"{folder}/users.csv\", names=[\"Username\", \"User id\"])"
   ]
  },
  {
   "cell_type": "code",
   "execution_count": 3,
   "metadata": {},
   "outputs": [
    {
     "name": "stdout",
     "output_type": "stream",
     "text": [
      "11201 10549\n",
      "2086 2464\n",
      "1800 2399\n",
      "1792 2397\n",
      "1791 2396\n"
     ]
    }
   ],
   "source": [
    "# Filter for min_reviews for users & games\n",
    "min_reviews = 10\n",
    "rev_filter = filter_df(avis_clean, min_reviews)"
   ]
  },
  {
   "cell_type": "code",
   "execution_count": 4,
   "metadata": {},
   "outputs": [],
   "source": [
    "# generate user-game matrix\n",
    "matrix_ratings, mask_ratings, users_table, games_table = get_matrix_user_game(rev_filter)"
   ]
  },
  {
   "cell_type": "code",
   "execution_count": 5,
   "metadata": {},
   "outputs": [
    {
     "data": {
      "text/plain": [
       "array([[0.        , 0.92389562, 0.83575481, ..., 0.9283455 , 0.95303296,\n",
       "        1.        ],\n",
       "       [0.92389562, 0.        , 0.71397509, ..., 1.        , 0.98901438,\n",
       "        0.99191515],\n",
       "       [0.83575481, 0.71397509, 0.        , ..., 0.98078965, 0.91075622,\n",
       "        1.        ],\n",
       "       ...,\n",
       "       [0.9283455 , 1.        , 0.98078965, ..., 0.        , 1.        ,\n",
       "        1.        ],\n",
       "       [0.95303296, 0.98901438, 0.91075622, ..., 1.        , 0.        ,\n",
       "        1.        ],\n",
       "       [1.        , 0.99191515, 1.        , ..., 1.        , 1.        ,\n",
       "        0.        ]], shape=(1791, 1791))"
      ]
     },
     "execution_count": 5,
     "metadata": {},
     "output_type": "execute_result"
    }
   ],
   "source": [
    "# cosine similarity matrix, set k = sqrt(nb users)\n",
    "cos_sim_matrix = calc_similarity_matrix(matrix_ratings, mask_ratings, \"cos\")\n",
    "k = int(np.sqrt(cos_sim_matrix.shape[0]))\n",
    "cos_sim_matrix"
   ]
  },
  {
   "cell_type": "code",
   "execution_count": 6,
   "metadata": {},
   "outputs": [
    {
     "data": {
      "text/html": [
       "<div>\n",
       "<style scoped>\n",
       "    .dataframe tbody tr th:only-of-type {\n",
       "        vertical-align: middle;\n",
       "    }\n",
       "\n",
       "    .dataframe tbody tr th {\n",
       "        vertical-align: top;\n",
       "    }\n",
       "\n",
       "    .dataframe thead th {\n",
       "        text-align: right;\n",
       "    }\n",
       "</style>\n",
       "<table border=\"1\" class=\"dataframe\">\n",
       "  <thead>\n",
       "    <tr style=\"text-align: right;\">\n",
       "      <th></th>\n",
       "      <th>User index</th>\n",
       "      <th>User id</th>\n",
       "      <th>Count reviews</th>\n",
       "    </tr>\n",
       "  </thead>\n",
       "  <tbody>\n",
       "    <tr>\n",
       "      <th>0</th>\n",
       "      <td>0</td>\n",
       "      <td>0</td>\n",
       "      <td>38</td>\n",
       "    </tr>\n",
       "    <tr>\n",
       "      <th>1</th>\n",
       "      <td>1</td>\n",
       "      <td>1</td>\n",
       "      <td>724</td>\n",
       "    </tr>\n",
       "    <tr>\n",
       "      <th>2</th>\n",
       "      <td>2</td>\n",
       "      <td>2</td>\n",
       "      <td>330</td>\n",
       "    </tr>\n",
       "    <tr>\n",
       "      <th>3</th>\n",
       "      <td>3</td>\n",
       "      <td>3</td>\n",
       "      <td>255</td>\n",
       "    </tr>\n",
       "    <tr>\n",
       "      <th>4</th>\n",
       "      <td>4</td>\n",
       "      <td>4</td>\n",
       "      <td>12</td>\n",
       "    </tr>\n",
       "    <tr>\n",
       "      <th>...</th>\n",
       "      <td>...</td>\n",
       "      <td>...</td>\n",
       "      <td>...</td>\n",
       "    </tr>\n",
       "    <tr>\n",
       "      <th>1786</th>\n",
       "      <td>1786</td>\n",
       "      <td>9066</td>\n",
       "      <td>16</td>\n",
       "    </tr>\n",
       "    <tr>\n",
       "      <th>1787</th>\n",
       "      <td>1787</td>\n",
       "      <td>9433</td>\n",
       "      <td>20</td>\n",
       "    </tr>\n",
       "    <tr>\n",
       "      <th>1788</th>\n",
       "      <td>1788</td>\n",
       "      <td>9583</td>\n",
       "      <td>13</td>\n",
       "    </tr>\n",
       "    <tr>\n",
       "      <th>1789</th>\n",
       "      <td>1789</td>\n",
       "      <td>9596</td>\n",
       "      <td>15</td>\n",
       "    </tr>\n",
       "    <tr>\n",
       "      <th>1790</th>\n",
       "      <td>1790</td>\n",
       "      <td>9965</td>\n",
       "      <td>14</td>\n",
       "    </tr>\n",
       "  </tbody>\n",
       "</table>\n",
       "<p>1791 rows × 3 columns</p>\n",
       "</div>"
      ],
      "text/plain": [
       "      User index  User id  Count reviews\n",
       "0              0        0             38\n",
       "1              1        1            724\n",
       "2              2        2            330\n",
       "3              3        3            255\n",
       "4              4        4             12\n",
       "...          ...      ...            ...\n",
       "1786        1786     9066             16\n",
       "1787        1787     9433             20\n",
       "1788        1788     9583             13\n",
       "1789        1789     9596             15\n",
       "1790        1790     9965             14\n",
       "\n",
       "[1791 rows x 3 columns]"
      ]
     },
     "execution_count": 6,
     "metadata": {},
     "output_type": "execute_result"
    }
   ],
   "source": [
    " # Create association - User matrix index - User real id - Count reviews\n",
    "\n",
    "users_ids =  rev_filter[[\"User id\", \"Game id\"]].groupby(\"User id\", as_index=True).count()\n",
    "assoc = users_table.to_frame().merge(users_ids, left_on=\"User id\", right_index=True).reset_index()\n",
    "assoc.columns = [\"User index\", \"User id\", \"Count reviews\"]\n",
    "assoc "
   ]
  },
  {
   "cell_type": "code",
   "execution_count": 7,
   "metadata": {},
   "outputs": [
    {
     "data": {
      "text/plain": [
       "array([1.93029416, 1.48844444])"
      ]
     },
     "execution_count": 7,
     "metadata": {},
     "output_type": "execute_result"
    }
   ],
   "source": [
    "test = calc_error(6,matrix_ratings,mask_ratings,cos_sim_matrix,\"rmse_mae\",\"cos\",8)\n",
    "test "
   ]
  },
  {
   "cell_type": "code",
   "execution_count": 8,
   "metadata": {},
   "outputs": [
    {
     "name": "stdout",
     "output_type": "stream",
     "text": [
      "8\n",
      "9\n",
      "10\n",
      "11\n",
      "12\n",
      "13\n",
      "14\n",
      "15\n"
     ]
    },
    {
     "data": {
      "text/html": [
       "<div>\n",
       "<style scoped>\n",
       "    .dataframe tbody tr th:only-of-type {\n",
       "        vertical-align: middle;\n",
       "    }\n",
       "\n",
       "    .dataframe tbody tr th {\n",
       "        vertical-align: top;\n",
       "    }\n",
       "\n",
       "    .dataframe thead th {\n",
       "        text-align: right;\n",
       "    }\n",
       "</style>\n",
       "<table border=\"1\" class=\"dataframe\">\n",
       "  <thead>\n",
       "    <tr style=\"text-align: right;\">\n",
       "      <th></th>\n",
       "      <th>User id</th>\n",
       "      <th>K</th>\n",
       "      <th>Type</th>\n",
       "      <th>Value</th>\n",
       "    </tr>\n",
       "  </thead>\n",
       "  <tbody>\n",
       "    <tr>\n",
       "      <th>1</th>\n",
       "      <td>1</td>\n",
       "      <td>8</td>\n",
       "      <td>RMSE</td>\n",
       "      <td>1.3932955258129627</td>\n",
       "    </tr>\n",
       "    <tr>\n",
       "      <th>2</th>\n",
       "      <td>2</td>\n",
       "      <td>8</td>\n",
       "      <td>RMSE</td>\n",
       "      <td>2.0100443548251725</td>\n",
       "    </tr>\n",
       "    <tr>\n",
       "      <th>3</th>\n",
       "      <td>3</td>\n",
       "      <td>8</td>\n",
       "      <td>RMSE</td>\n",
       "      <td>1.8139517064074175</td>\n",
       "    </tr>\n",
       "    <tr>\n",
       "      <th>4</th>\n",
       "      <td>39</td>\n",
       "      <td>8</td>\n",
       "      <td>RMSE</td>\n",
       "      <td>2.0869869502045524</td>\n",
       "    </tr>\n",
       "    <tr>\n",
       "      <th>5</th>\n",
       "      <td>45</td>\n",
       "      <td>8</td>\n",
       "      <td>RMSE</td>\n",
       "      <td>1.8928343292304948</td>\n",
       "    </tr>\n",
       "    <tr>\n",
       "      <th>...</th>\n",
       "      <td>...</td>\n",
       "      <td>...</td>\n",
       "      <td>...</td>\n",
       "      <td>...</td>\n",
       "    </tr>\n",
       "    <tr>\n",
       "      <th>1196</th>\n",
       "      <td>924</td>\n",
       "      <td>15</td>\n",
       "      <td>MAE</td>\n",
       "      <td>1.6621813194415935</td>\n",
       "    </tr>\n",
       "    <tr>\n",
       "      <th>1197</th>\n",
       "      <td>926</td>\n",
       "      <td>15</td>\n",
       "      <td>MAE</td>\n",
       "      <td>1.886535874671468</td>\n",
       "    </tr>\n",
       "    <tr>\n",
       "      <th>1198</th>\n",
       "      <td>929</td>\n",
       "      <td>15</td>\n",
       "      <td>MAE</td>\n",
       "      <td>1.6701188293188292</td>\n",
       "    </tr>\n",
       "    <tr>\n",
       "      <th>1199</th>\n",
       "      <td>980</td>\n",
       "      <td>15</td>\n",
       "      <td>MAE</td>\n",
       "      <td>1.6799457156600015</td>\n",
       "    </tr>\n",
       "    <tr>\n",
       "      <th>1200</th>\n",
       "      <td>1130</td>\n",
       "      <td>15</td>\n",
       "      <td>MAE</td>\n",
       "      <td>1.8019610626168001</td>\n",
       "    </tr>\n",
       "  </tbody>\n",
       "</table>\n",
       "<p>1200 rows × 4 columns</p>\n",
       "</div>"
      ],
      "text/plain": [
       "     User id   K  Type               Value\n",
       "1          1   8  RMSE  1.3932955258129627\n",
       "2          2   8  RMSE  2.0100443548251725\n",
       "3          3   8  RMSE  1.8139517064074175\n",
       "4         39   8  RMSE  2.0869869502045524\n",
       "5         45   8  RMSE  1.8928343292304948\n",
       "...      ...  ..   ...                 ...\n",
       "1196     924  15   MAE  1.6621813194415935\n",
       "1197     926  15   MAE   1.886535874671468\n",
       "1198     929  15   MAE  1.6701188293188292\n",
       "1199     980  15   MAE  1.6799457156600015\n",
       "1200    1130  15   MAE  1.8019610626168001\n",
       "\n",
       "[1200 rows x 4 columns]"
      ]
     },
     "execution_count": 8,
     "metadata": {},
     "output_type": "execute_result"
    }
   ],
   "source": [
    "np.random.seed(2)\n",
    "df = calc_RMSE_MAE_mean(np.array([8,9,10,11,12,13,14,15]),assoc,200,1000,matrix_ratings,mask_ratings,cos_sim_matrix,dist_type=\"cos\")\n",
    "df"
   ]
  },
  {
   "cell_type": "code",
   "execution_count": null,
   "metadata": {},
   "outputs": [
    {
     "data": {
      "text/plain": [
       "(0.0, 1000.0)"
      ]
     },
     "execution_count": 9,
     "metadata": {},
     "output_type": "execute_result"
    },
    {
     "data": {
      "image/png": "[encoded data removed]",
      "text/plain": [
       "<Figure size 640x480 with 1 Axes>"
      ]
     },
     "metadata": {},
     "output_type": "display_data"
    }
   ],
   "source": [
    "gfg = sns.boxplot(df,x=\"K\",y=\"Value\")\n",
    "gfg.set_yticks([0.0,200,400,600,800],['0','200','400','600','800'])\n",
    "gfg.set_ylim(0,1000.0)"
   ]
  }
 ],
 "metadata": {
  "kernelspec": {
   "display_name": "Python 3",
   "language": "python",
   "name": "python3"
  },
  "language_info": {
   "codemirror_mode": {
    "name": "ipython",
    "version": 3
   },
   "file_extension": ".py",
   "mimetype": "text/x-python",
   "name": "python",
   "nbconvert_exporter": "python",
   "pygments_lexer": "ipython3",
   "version": "3.12.2"
  }
 },
 "nbformat": 4,
 "nbformat_minor": 2
}

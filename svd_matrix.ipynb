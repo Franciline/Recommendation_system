{
 "cells": [
  {
   "cell_type": "markdown",
   "metadata": {},
   "source": [
    "### Fatorizing the user game matrix into two matrix. These matrixes will represent users and games profils"
   ]
  },
  {
   "cell_type": "code",
   "execution_count": 43,
   "metadata": {},
   "outputs": [
    {
     "name": "stdout",
     "output_type": "stream",
     "text": [
      "The autoreload extension is already loaded. To reload it, use:\n",
      "  %reload_ext autoreload\n"
     ]
    }
   ],
   "source": [
    "import numpy as np\n",
    "import pandas as pd\n",
    "from reco_systems.filter import filter_df\n",
    "from reco_systems.user_game_matrix import *\n",
    "from reco_systems.CF_knn import *\n",
    "import seaborn as sns\n",
    "from reco_systems.evaluation import *\n",
    "from scipy.sparse import csr_matrix\n",
    "from scipy.linalg import svd\n",
    "from copy import *\n",
    "\n",
    "%load_ext autoreload\n",
    "%autoreload 2"
   ]
  },
  {
   "cell_type": "code",
   "execution_count": 16,
   "metadata": {},
   "outputs": [],
   "source": [
    "# import DB et set min_reviews\n",
    "\n",
    "folder = \"database_cleaned\"\n",
    "avis_clean  = pd.read_csv(f\"{folder}/avis_clean.csv\", index_col=0)\n",
    "jeux_clean  = pd.read_csv(f\"{folder}/jeux_clean.csv\", index_col=0)\n",
    "users       = pd.read_csv(f\"{folder}/users.csv\", index_col=0)\n",
    "\n",
    "min_reviews = 20"
   ]
  },
  {
   "cell_type": "code",
   "execution_count": 5,
   "metadata": {},
   "outputs": [
    {
     "name": "stdout",
     "output_type": "stream",
     "text": [
      "11201 10549\n",
      "3242 3957\n",
      "3006 3910\n",
      "3003 3910\n"
     ]
    }
   ],
   "source": [
    "# filter data with the minimum reviews\n",
    "filtered_avis = filter_df(avis_clean, min_reviews)\n",
    "\n",
    "# create user-game matrix\n",
    "user_game_ratings, mask_ratings, users_table_assoc, games_table_assoc = get_matrix_user_game(filtered_avis)"
   ]
  },
  {
   "cell_type": "code",
   "execution_count": null,
   "metadata": {},
   "outputs": [
    {
     "data": {
      "text/plain": [
       "53"
      ]
     },
     "execution_count": 21,
     "metadata": {},
     "output_type": "execute_result"
    }
   ],
   "source": [
    "# np.set_printoptions(threshold=np.inf) # see the array without truncation, to truncate, threshold = 0\n",
    "user_game_ratings.todense()[0].nonzero()[0].size\n"
   ]
  },
  {
   "cell_type": "code",
   "execution_count": null,
   "metadata": {},
   "outputs": [],
   "source": [
    "# transforming the matrix as array for svd\n",
    "mat_ug = user_game_ratings.toarray()\n",
    "mat_ug[0].nonzero()[0].shape"
   ]
  },
  {
   "cell_type": "code",
   "execution_count": null,
   "metadata": {},
   "outputs": [],
   "source": [
    "# creating svd matrix\n",
    "\n",
    "#a, d, b = svd(mat_ug)\n",
    "a, d, b = np.load(\"generated_data/a.npy\"), np.load(\"generated_data/d.npy\"), np.load(\"generated_data/b.npy\") \n",
    "# d contains the diagonal values of a matrix with only diagonal as non nul values"
   ]
  },
  {
   "cell_type": "code",
   "execution_count": null,
   "metadata": {},
   "outputs": [
    {
     "data": {
      "text/plain": [
       "(3910, (1,))"
      ]
     },
     "execution_count": 29,
     "metadata": {},
     "output_type": "execute_result"
    }
   ],
   "source": [
    "e = np.dot(a[0].shape, d[0])\n",
    "b.shape[0]"
   ]
  },
  {
   "cell_type": "code",
   "execution_count": 21,
   "metadata": {},
   "outputs": [
    {
     "data": {
      "text/plain": [
       "((3003, 3003), (3003,), (3910, 3910))"
      ]
     },
     "execution_count": 21,
     "metadata": {},
     "output_type": "execute_result"
    }
   ],
   "source": [
    "a.shape, d.shape, b.shape"
   ]
  },
  {
   "cell_type": "code",
   "execution_count": 32,
   "metadata": {},
   "outputs": [],
   "source": [
    "diag = np.zeros((a.shape[0], b.shape[0]))\n",
    "np.fill_diagonal(diag, d)"
   ]
  },
  {
   "cell_type": "code",
   "execution_count": null,
   "metadata": {},
   "outputs": [],
   "source": []
  }
 ],
 "metadata": {
  "kernelspec": {
   "display_name": "usr",
   "language": "python",
   "name": "python3"
  },
  "language_info": {
   "codemirror_mode": {
    "name": "ipython",
    "version": 3
   },
   "file_extension": ".py",
   "mimetype": "text/x-python",
   "name": "python",
   "nbconvert_exporter": "python",
   "pygments_lexer": "ipython3",
   "version": "3.12.8"
  }
 },
 "nbformat": 4,
 "nbformat_minor": 2
}
